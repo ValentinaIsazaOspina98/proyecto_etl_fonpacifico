{
  "cells": [
    {
      "cell_type": "markdown",
      "metadata": {
        "id": "xxpLSr1sWG5a"
      },
      "source": [
        "### Montar Google Drive en Google Colab\n"
      ]
    },
    {
      "cell_type": "code",
      "execution_count": null,
      "metadata": {
        "colab": {
          "base_uri": "https://localhost:8080/"
        },
        "id": "-L1pxRjIWOQa",
        "outputId": "d5bd098e-eb74-4d09-8c18-38dcf9107035"
      },
      "outputs": [
        {
          "name": "stdout",
          "output_type": "stream",
          "text": [
            "Drive already mounted at /content/drive; to attempt to forcibly remount, call drive.mount(\"/content/drive\", force_remount=True).\n"
          ]
        }
      ],
      "source": [
        "from google.colab import drive\n",
        "\n",
        "# Montar Google Drive\n",
        "drive.mount('/content/drive')\n",
        "\n",
        "# Definir la ruta base donde están los archivos\n",
        "ruta_base = \"/content/drive/My Drive/Archivos Fuentes/\""
      ]
    },
    {
      "cell_type": "markdown",
      "metadata": {
        "id": "8fSfopbBYJJ6"
      },
      "source": [
        "### Lectura de archivos CSV\n",
        "1. Ingesta Secop 1"
      ]
    },
    {
      "cell_type": "code",
      "execution_count": null,
      "metadata": {
        "colab": {
          "base_uri": "https://localhost:8080/"
        },
        "collapsed": true,
        "id": "lYBE9w75lycA",
        "outputId": "48952111-3529-45c1-832d-07c4b7183b3f"
      },
      "outputs": [
        {
          "name": "stdout",
          "output_type": "stream",
          "text": [
            "\n",
            "Datos del archivo CSV:\n",
            "                     UID  Anno Cargue SECOP  Anno Firma Contrato  \\\n",
            "0  17-12-6667766-8801578               2017                 2017   \n",
            "1   18-4-8080040-7591037               2018                 2018   \n",
            "2  18-12-8748274-7951833               2018                 2018   \n",
            "3  18-12-7779017-7103084               2018                 2018   \n",
            "4   19-4-9747202-8903033               2019                 2019   \n",
            "\n",
            "  Nivel Entidad                              Orden Entidad  \\\n",
            "0   TERRITORIAL    TERRITORIAL DISTRITAL MUNICIPAL NIVEL 6   \n",
            "1   TERRITORIAL    TERRITORIAL DISTRITAL MUNICIPAL NIVEL 6   \n",
            "2      NACIONAL                      NACIONAL CENTRALIZADO   \n",
            "3      NACIONAL                      NACIONAL CENTRALIZADO   \n",
            "4   TERRITORIAL  TERRITORIAL DEPARTAMENTAL DESCENTRALIZADO   \n",
            "\n",
            "                                      Nombre Entidad NIT de la Entidad  \\\n",
            "0     VALLE DEL CAUCA - ALCALDiA MUNICIPIO DE ALCALa       800099455-5   \n",
            "1                 CHOCo - ALCALDiA MUNICIPIO DE SIPi         800095613   \n",
            "2                           CaMARA DE REPRESENTANTES         899999098   \n",
            "3                           CaMARA DE REPRESENTANTES         899999098   \n",
            "4  CHOCo - FUNDACIoN FONDO MIXTO PARA LA ETNOCULT...         901039684   \n",
            "\n",
            "  Código de la Entidad  ID Modalidad                Modalidad de Contratacion  \\\n",
            "0          276,020,011            12  CONTRATACIoN DIRECTA (LEY 1150 DE 2007)   \n",
            "1          227,745,011             4                         ReGIMEN ESPECIAL   \n",
            "2          101,001,002            12  CONTRATACIoN DIRECTA (LEY 1150 DE 2007)   \n",
            "3          101,001,002            12  CONTRATACIoN DIRECTA (LEY 1150 DE 2007)   \n",
            "4          227,001,020             4                         ReGIMEN ESPECIAL   \n",
            "\n",
            "   ... Punto Acuerdo Paz Municipio Entidad  Departamento Entidad  \\\n",
            "0  ...       No Definido            ALCALa       VALLE DEL CAUCA   \n",
            "1  ...       No Definido              SIPi                 CHOCo   \n",
            "2  ...       No Definido       BOGOTa D.C.           BOGOTa D.C.   \n",
            "3  ...       No Definido       BOGOTa D.C.           BOGOTa D.C.   \n",
            "4  ...       No Definido            QUIBDo                 CHOCo   \n",
            "\n",
            "  Ultima Actualizacion Fecha Liquidacion Cumple Decreto 248  \\\n",
            "0            2/06/2017               NaN        No definido   \n",
            "1           21/05/2018               NaN        No definido   \n",
            "2           10/12/2018               NaN        No definido   \n",
            "3            1/02/2018               NaN        No definido   \n",
            "4           27/07/2019               NaN        No definido   \n",
            "\n",
            "  IncluyeBienesDecreto248 Cumple Sentencia T302    Es MiPyme Tamaño Mipyme  \n",
            "0             No definido           No definido  No definido   No definido  \n",
            "1             No definido           No definido  No definido   No definido  \n",
            "2             No definido           No definido  No definido   No definido  \n",
            "3             No definido           No definido  No definido   No definido  \n",
            "4             No definido           No definido  No definido   No definido  \n",
            "\n",
            "[5 rows x 75 columns]\n"
          ]
        }
      ],
      "source": [
        "import pandas as pd\n",
        "\n",
        "# Ruta con nombre del archivo csv en Google Drive\n",
        "ruta_csv = ruta_base + \"SECOP/SECOP 1. CONSULTA PRINCIPALES.csv\"\n",
        "\n",
        "# Leer archivo CSV delimitado por ','\n",
        "df_secop1_csv = pd.read_csv(ruta_csv, delimiter=\";\")\n",
        "print(\"\\nDatos del archivo CSV:\")\n",
        "print(df_secop1_csv.head())"
      ]
    },
    {
      "cell_type": "code",
      "execution_count": null,
      "metadata": {
        "colab": {
          "base_uri": "https://localhost:8080/"
        },
        "id": "RuPb9Am7GDzq",
        "outputId": "a1746391-994b-4224-b7d0-13eff2e29ac4"
      },
      "outputs": [
        {
          "name": "stdout",
          "output_type": "stream",
          "text": [
            "['UID', 'Anno Cargue SECOP', 'Anno Firma Contrato', 'Nivel Entidad', 'Orden Entidad', 'Nombre Entidad', 'NIT de la Entidad', 'Código de la Entidad', 'ID Modalidad', 'Modalidad de Contratacion', 'Estado del Proceso', 'Causal de Otras formas de Contratacion Directa', 'ID Regimen de Contratacion', 'Nombre Regimen de Contratacion', 'ID Objeto a Contratar', 'Objeto a Contratar', 'Detalle del Objeto a Contratar', 'Tipo De Contrato', 'Municipio de Obtencion', 'Municipio de Entrega', 'Municipios Ejecucion', 'Fecha de Cargue en el SECOP', 'Numero de Constancia', 'Numero de Proceso', 'Numero de Contrato', 'Cuantia Proceso', 'ID Grupo', 'Nombre Grupo', 'ID Familia', 'Nombre Familia', 'ID Clase', 'Nombre Clase', 'ID Adjudicacion', 'Tipo Identifi del Contratista', 'Identificacion del Contratista', 'Nom Razon Social Contratista', 'Dpto y Muni Contratista', 'Tipo Doc Representante Legal', 'Identific Representante Legal', 'Nombre del Represen Legal', 'Fecha de Firma del Contrato', 'Fecha Ini Ejec Contrato', 'Plazo de Ejec del Contrato', 'Rango de Ejec del Contrato', 'Tiempo Adiciones en Dias', 'Tiempo Adiciones en Meses', 'Fecha Fin Ejec Contrato', 'Compromiso Presupuestal', 'Cuantia Contrato', 'Valor Total de Adiciones', 'Valor Contrato con Adiciones', 'Objeto del Contrato a la Firma', 'Proponentes Seleccionados', 'Calificacion Definitiva', 'ID Sub Unidad Ejecutora', 'Nombre Sub Unidad Ejecutora', 'Ruta Proceso en SECOP I', 'Moneda', 'Es PostConflicto', 'Marcacion Adiciones', 'Posicion Rubro', 'Nombre Rubro', 'Valor Rubro', 'Sexo RepLegal', 'Pilar Acuerdo Paz', 'Punto Acuerdo Paz', 'Municipio Entidad', 'Departamento Entidad', 'Ultima Actualizacion', 'Fecha Liquidacion', 'Cumple Decreto 248', 'IncluyeBienesDecreto248', 'Cumple Sentencia T302', 'Es MiPyme', 'Tamaño Mipyme']\n"
          ]
        }
      ],
      "source": [
        "# Traer el listado de todas las columnas\n",
        "columnas = df_secop1_csv.columns.to_list()\n",
        "\n",
        "# Mostrar el resultado\n",
        "print(columnas)"
      ]
    },
    {
      "cell_type": "code",
      "execution_count": null,
      "metadata": {
        "colab": {
          "base_uri": "https://localhost:8080/"
        },
        "collapsed": true,
        "id": "IBxnlDURGPOK",
        "outputId": "4a69efbc-387c-424c-9df9-ae64b173e964"
      },
      "outputs": [
        {
          "name": "stdout",
          "output_type": "stream",
          "text": [
            "     Anno Cargue SECOP                                     Nombre Entidad  \\\n",
            "0                 2017     VALLE DEL CAUCA - ALCALDiA MUNICIPIO DE ALCALa   \n",
            "1                 2018                 CHOCo - ALCALDiA MUNICIPIO DE SIPi   \n",
            "2                 2018                           CaMARA DE REPRESENTANTES   \n",
            "3                 2018                           CaMARA DE REPRESENTANTES   \n",
            "4                 2019  CHOCo - FUNDACIoN FONDO MIXTO PARA LA ETNOCULT...   \n",
            "..                 ...                                                ...   \n",
            "109               2024          RISARALDA - ALCALDiA MUNICIPIO DE GUATICA   \n",
            "110               2024              CAUCA - ALCALDiA MUNICIPIO DE JAMBALo   \n",
            "111               2024                 CAUCA - ALCALDiA MUNICIPIO DE INZA   \n",
            "112               2025     PUTUMAYO - ALCALDiA MUNICIPIO DE PUERTO GUZMaN   \n",
            "113               2025  SAN ANDReS; PROVIDENCIA Y SANTA CATALINA - ALC...   \n",
            "\n",
            "    NIT de la Entidad         Tipo De Contrato Municipios Ejecucion  \\\n",
            "0         800099455-5  PRESTACIoN DE SERVICIOS               ALCALa   \n",
            "1           800095613  PRESTACIoN DE SERVICIOS                 SIPi   \n",
            "2           899999098  PRESTACIoN DE SERVICIOS          BOGOTa D.C.   \n",
            "3           899999098  PRESTACIoN DE SERVICIOS          BOGOTa D.C.   \n",
            "4           901039684    OTRO TIPO DE CONTRATO               QUIBDo   \n",
            "..                ...                      ...                  ...   \n",
            "109         891480025    OTRO TIPO DE CONTRATO              GUaTICA   \n",
            "110       890982278-2    OTRO TIPO DE CONTRATO              JAMBALo   \n",
            "111       892099105-7    OTRO TIPO DE CONTRATO                 INZa   \n",
            "112         800222489    OTRO TIPO DE CONTRATO        PUERTO GUZMaN   \n",
            "113       800222498-9  PRESTACIoN DE SERVICIOS          PROVIDENCIA   \n",
            "\n",
            "                               Numero de Contrato Cuantia Proceso  \\\n",
            "0                                    CPS201705003      15,000,000   \n",
            "1                               C.A - 003 DE 2018     495,000,000   \n",
            "2                                   CPS_1078_2018     120,000,000   \n",
            "3                                    CPS_498_2018     149,000,000   \n",
            "4                                FM-C-001 DE 2019   6,661,875,000   \n",
            "..                                            ...             ...   \n",
            "109                                   130-2024 CI     167,821,290   \n",
            "110                              C17  86 DE 2024   1,902,016,332   \n",
            "111  CONVENIO INTERADMINISTRATIVO NO 041. DE 2024   1,095,376,853   \n",
            "112                                            15     231,724,263   \n",
            "113      CONTRATO INTERADMINISTRATIVO 007 DE 2025     400,000,000   \n",
            "\n",
            "    Cuantia Contrato Valor Total de Adiciones Valor Contrato con Adiciones  \\\n",
            "0         15,000,000                        0                   15,000,000   \n",
            "1        508,820,000                        0                  508,820,000   \n",
            "2        120,000,000                        0                  120,000,000   \n",
            "3        149,000,000                        0                  149,000,000   \n",
            "4      7,877,875,000                        0                7,877,875,000   \n",
            "..               ...                      ...                          ...   \n",
            "109      167,821,290                        0                  167,821,290   \n",
            "110    1,902,016,332                        0                1,902,016,332   \n",
            "111    1,095,376,853                        0                1,095,376,853   \n",
            "112      231,724,263                        0                  231,724,263   \n",
            "113      400,000,000                        0                  400,000,000   \n",
            "\n",
            "    Municipio Entidad                      Departamento Entidad  \n",
            "0              ALCALa                           VALLE DEL CAUCA  \n",
            "1                SIPi                                     CHOCo  \n",
            "2         BOGOTa D.C.                               BOGOTa D.C.  \n",
            "3         BOGOTa D.C.                               BOGOTa D.C.  \n",
            "4              QUIBDo                                     CHOCo  \n",
            "..                ...                                       ...  \n",
            "109           GUaTICA                                 RISARALDA  \n",
            "110           JAMBALo                                     CAUCA  \n",
            "111              INZa                                     CAUCA  \n",
            "112     PUERTO GUZMaN                                  PUTUMAYO  \n",
            "113       PROVIDENCIA  SAN ANDReS, PROVIDENCIA Y SANTA CATALINA  \n",
            "\n",
            "[114 rows x 12 columns]\n"
          ]
        }
      ],
      "source": [
        "# Seleccionar columnas de interes\n",
        "df_filtrado_secop1_csv = df_secop1_csv[['Anno Cargue SECOP','Nombre Entidad','NIT de la Entidad','Tipo De Contrato','Municipios Ejecucion','Numero de Contrato','Cuantia Proceso','Cuantia Contrato','Valor Total de Adiciones','Valor Contrato con Adiciones','Municipio Entidad','Departamento Entidad']]\n",
        "\n",
        "# Mostrar el resultado\n",
        "print(df_filtrado_secop1_csv)"
      ]
    },
    {
      "cell_type": "code",
      "execution_count": null,
      "metadata": {
        "colab": {
          "base_uri": "https://localhost:8080/"
        },
        "collapsed": true,
        "id": "SM5QSxBuI-6a",
        "outputId": "d388f6fc-5585-47ed-c6eb-2a9bb96abd15"
      },
      "outputs": [
        {
          "name": "stdout",
          "output_type": "stream",
          "text": [
            "     Anno Cargue SECOP                                     Nombre Entidad  \\\n",
            "100               2024              CAUCA - ALCALDiA MUNICIPIO DE JAMBALo   \n",
            "101               2024            QUINDiO - ALCALDiA MUNICIPIO DE CoRDOBA   \n",
            "102               2024              CAUCA - ALCALDiA MUNICIPIO DE JAMBALo   \n",
            "103               2024              CAUCA - ALCALDiA MUNICIPIO DE JAMBALo   \n",
            "104               2024                 CAUCA - ALCALDiA MUNICIPIO DE INZA   \n",
            "105               2024         RISARALDA - ALCALDiA MUNICIPIO DE MISTRATo   \n",
            "106               2024  VALLE DEL CAUCA - ALCALDiA MUNICIPIO DE SAN PEDRO   \n",
            "107               2024     VALLE DEL CAUCA - ALCALDiA MUNICIPIO DE YOTOCO   \n",
            "108               2024  VALLE DEL CAUCA - ALCALDiA MUNICIPIO DE BUENAV...   \n",
            "109               2024          RISARALDA - ALCALDiA MUNICIPIO DE GUATICA   \n",
            "110               2024              CAUCA - ALCALDiA MUNICIPIO DE JAMBALo   \n",
            "111               2024                 CAUCA - ALCALDiA MUNICIPIO DE INZA   \n",
            "\n",
            "    NIT de la Entidad         Tipo De Contrato Municipios Ejecucion  \\\n",
            "100       890982278-2    OTRO TIPO DE CONTRATO              JAMBALo   \n",
            "101       891801363-9  PRESTACIoN DE SERVICIOS              CoRDOBA   \n",
            "102       890982278-2    OTRO TIPO DE CONTRATO              JAMBALo   \n",
            "103       890982278-2    OTRO TIPO DE CONTRATO              JAMBALo   \n",
            "104       892099105-7                     OBRA                 INZa   \n",
            "105       891500841-6    OTRO TIPO DE CONTRATO             MISTRATo   \n",
            "106       800100526-3                     OBRA            SAN PEDRO   \n",
            "107       891855017-7    OTRO TIPO DE CONTRATO               YOTOCO   \n",
            "108       890503483-2    OTRO TIPO DE CONTRATO         BUENAVENTURA   \n",
            "109         891480025    OTRO TIPO DE CONTRATO              GUaTICA   \n",
            "110       890982278-2    OTRO TIPO DE CONTRATO              JAMBALo   \n",
            "111       892099105-7    OTRO TIPO DE CONTRATO                 INZa   \n",
            "\n",
            "                               Numero de Contrato Cuantia Proceso  \\\n",
            "100                              C17  64 DE 2024   1,623,088,257   \n",
            "101                                    CI006-2024     279,061,479   \n",
            "102                             C17  101 DE 2024     472,500,000   \n",
            "103                              C17  87 DE 2024     504,699,998   \n",
            "104                                         037-1   1,095,376,853   \n",
            "105                                      334-2024     500,900,000   \n",
            "106                                      298-2024   1,818,872,430   \n",
            "107                            100-20_018_DE_2024     155,000,000   \n",
            "108                                 DRH-2024-0103     375,000,000   \n",
            "109                                   130-2024 CI     167,821,290   \n",
            "110                              C17  86 DE 2024   1,902,016,332   \n",
            "111  CONVENIO INTERADMINISTRATIVO NO 041. DE 2024   1,095,376,853   \n",
            "\n",
            "    Cuantia Contrato Valor Total de Adiciones Valor Contrato con Adiciones  \\\n",
            "100    1,623,088,257                        0                1,623,088,257   \n",
            "101      279,061,479                        0                  279,061,479   \n",
            "102      472,500,000                        0                  472,500,000   \n",
            "103      504,699,998                        0                  504,699,998   \n",
            "104    1,095,376,853                        0                1,095,376,853   \n",
            "105      500,900,000                        0                  500,900,000   \n",
            "106    1,818,872,430                        0                1,818,872,430   \n",
            "107      155,000,000                        0                  155,000,000   \n",
            "108      385,000,000                        0                  385,000,000   \n",
            "109      167,821,290                        0                  167,821,290   \n",
            "110    1,902,016,332                        0                1,902,016,332   \n",
            "111    1,095,376,853                        0                1,095,376,853   \n",
            "\n",
            "    Municipio Entidad Departamento Entidad  \n",
            "100           JAMBALo                CAUCA  \n",
            "101           CoRDOBA              QUINDiO  \n",
            "102           JAMBALo                CAUCA  \n",
            "103           JAMBALo                CAUCA  \n",
            "104              INZa                CAUCA  \n",
            "105          MISTRATo            RISARALDA  \n",
            "106         SAN PEDRO      VALLE DEL CAUCA  \n",
            "107            YOTOCO      VALLE DEL CAUCA  \n",
            "108      BUENAVENTURA      VALLE DEL CAUCA  \n",
            "109           GUaTICA            RISARALDA  \n",
            "110           JAMBALo                CAUCA  \n",
            "111              INZa                CAUCA  \n"
          ]
        }
      ],
      "source": [
        "# Filtrar el DataFrame para que solo contenga las filas donde 'Año' es 2024\n",
        "df_filtrado_secop1_2024 = df_filtrado_secop1_csv[df_filtrado_secop1_csv['Anno Cargue SECOP'] == 2024]\n",
        "\n",
        "# Mostrar el resultado\n",
        "print(df_filtrado_secop1_2024)"
      ]
    },
    {
      "cell_type": "code",
      "execution_count": null,
      "metadata": {
        "id": "36tksCW_Jlly"
      },
      "outputs": [],
      "source": [
        "# Definir la ruta donde guardaremos el archivo sin encabezado\n",
        "ruta_sin_encabezado = ruta_base + \"SECOP/df_filtrado_secop1_2024.csv\"\n",
        "\n",
        "# Guardar el DataFrame sin encabezado (header=False)\n",
        "df_filtrado_secop1_2024.to_csv(ruta_sin_encabezado, index=False, header=True)"
      ]
    },
    {
      "cell_type": "markdown",
      "metadata": {
        "id": "tOcadOufGCay"
      },
      "source": []
    },
    {
      "cell_type": "markdown",
      "metadata": {
        "id": "se_tfFIYqRGv"
      },
      "source": [
        "2. Ingesta Secop 2"
      ]
    },
    {
      "cell_type": "code",
      "execution_count": null,
      "metadata": {
        "colab": {
          "base_uri": "https://localhost:8080/"
        },
        "collapsed": true,
        "id": "0wR52gtRr1OP",
        "outputId": "d973f147-b2ee-4c01-bb8d-cdc034412d0a"
      },
      "outputs": [
        {
          "name": "stdout",
          "output_type": "stream",
          "text": [
            "\n",
            "Datos del archivo CSV:\n",
            "                              Entidad  Nit Entidad Departamento Entidad  \\\n",
            "0  ALCALDIA MUNICIPIO DE DOSQUEBRADAS    800099310            Risaralda   \n",
            "1             ALCALDÍA DE VILLAGARZON    800054249             Putumayo   \n",
            "2                 MUNICIPIO  DE PIJAO    890001181              Quindío   \n",
            "3  ALCALDIA MUNICIPIO DE DOSQUEBRADAS    800099310            Risaralda   \n",
            "4  ALCALDIA MUNICIPIO DE DOSQUEBRADAS    800099310            Risaralda   \n",
            "\n",
            "  Ciudad Entidad OrdenEntidad Entidad Centralizada   ID del Proceso  \\\n",
            "0   Dosquebradas  Territorial         Centralizada  CO1.REQ.7138900   \n",
            "1    Villagarzón  Territorial      Descentralizada  CO1.REQ.5372182   \n",
            "2          Pijao  Territorial         Centralizada  CO1.REQ.7252368   \n",
            "3   Dosquebradas  Territorial         Centralizada  CO1.REQ.7214922   \n",
            "4   Dosquebradas  Territorial         Centralizada  CO1.REQ.7214922   \n",
            "\n",
            "                         Referencia del Proceso        PCI ID del Portafolio  \\\n",
            "0                                  CI-1955-2024  704187608  CO1.BDOS.7005742   \n",
            "1                            SPIM-CDCI-002-2023  708723937  CO1.BDOS.5255552   \n",
            "2  CONVENIO INTERADMINISTRATIVO No. 005 DE 2024  705278018  CO1.BDOS.7116175   \n",
            "3                                  CI-2040-2024  704187608  CO1.BDOS.7080011   \n",
            "4                                  CI-2040-2024  704187608  CO1.BDOS.7080011   \n",
            "\n",
            "   ... Nombre del Proveedor Adjudicado NIT del Proveedor Adjudicado  \\\n",
            "0  ...                     FONPACIFICO                    901039684   \n",
            "1  ...                     FONPACIFICO                    901039684   \n",
            "2  ...                     FONPACIFICO                    901039684   \n",
            "3  ...                     FONPACIFICO                    901039684   \n",
            "4  ...                     FONPACIFICO                    901039684   \n",
            "\n",
            "  Codigo Principal de Categoria Estado de Apertura del Proceso  \\\n",
            "0                   V1.93141701                        Abierto   \n",
            "1                   V1.39101600                        Abierto   \n",
            "2                   V1.93141701                        Abierto   \n",
            "3                   V1.93141701                        Abierto   \n",
            "4                   V1.93141701                        Abierto   \n",
            "\n",
            "  Tipo de Contrato  Subtipo de Contrato  Categorias Adicionales  \\\n",
            "0             Otro          No Definido             No definido   \n",
            "1             Otro          No Definido             No definido   \n",
            "2             Otro          No Definido             No definido   \n",
            "3             Otro          No Definido             No definido   \n",
            "4             Otro          No Definido             No definido   \n",
            "\n",
            "                                          URLProceso  Codigo Entidad  \\\n",
            "0  https://community.secop.gov.co/Public/Tenderin...     704,187,608   \n",
            "1  https://community.secop.gov.co/Public/Tenderin...     708,723,937   \n",
            "2  https://community.secop.gov.co/Public/Tenderin...     705,278,018   \n",
            "3  https://community.secop.gov.co/Public/Tenderin...     704,187,608   \n",
            "4  https://community.secop.gov.co/Public/Tenderin...     704,187,608   \n",
            "\n",
            "  Estado Resumen  \n",
            "0     Adjudicado  \n",
            "1     Adjudicado  \n",
            "2     Adjudicado  \n",
            "3     Adjudicado  \n",
            "4     Adjudicado  \n",
            "\n",
            "[5 rows x 59 columns]\n"
          ]
        }
      ],
      "source": [
        "import pandas as pd\n",
        "\n",
        "# Ruta con nombre del archivo csv en Google Drive\n",
        "ruta_csv = ruta_base + \"SECOP/SECOP 2. CONSULTA PRINCIPALES.csv\"\n",
        "\n",
        "# Leer archivo CSV delimitado por ','\n",
        "df_secop2_csv = pd.read_csv(ruta_csv, delimiter=\";\")\n",
        "print(\"\\nDatos del archivo CSV:\")\n",
        "print(df_secop2_csv.head())"
      ]
    },
    {
      "cell_type": "code",
      "execution_count": null,
      "metadata": {
        "colab": {
          "base_uri": "https://localhost:8080/"
        },
        "collapsed": true,
        "id": "VsvyzrR4MIoh",
        "outputId": "991abfbf-e91c-4b36-998d-06b498ffee85"
      },
      "outputs": [
        {
          "name": "stdout",
          "output_type": "stream",
          "text": [
            "['Entidad', 'Nit Entidad', 'Departamento Entidad', 'Ciudad Entidad', 'OrdenEntidad', 'Entidad Centralizada', 'ID del Proceso', 'Referencia del Proceso', 'PCI', 'ID del Portafolio', 'Nombre del Procedimiento', 'Descripción del Procedimiento', 'Fase', 'Fecha de Publicacion del Proceso', 'Fecha de Ultima Publicación', 'Fecha de Publicacion (Fase Planeacion Precalificacion)', 'Fecha de Publicacion (Fase Seleccion Precalificacion)', 'Fecha de Publicacion (Manifestacion de Interes)', 'Fecha de Publicacion (Fase Borrador)', 'Fecha de Publicacion (Fase Seleccion)', 'Precio Base', 'Modalidad de Contratacion', 'Justificación Modalidad de Contratación', 'Duracion', 'Unidad de Duracion', 'Fecha de Recepcion de Respuestas', 'Fecha de Apertura de Respuesta', 'Fecha de Apertura Efectiva', 'Ciudad de la Unidad de Contratación', 'Nombre de la Unidad de Contratación', 'Proveedores Invitados', 'Proveedores con Invitacion Directa', 'Visualizaciones del Procedimiento', 'Proveedores que Manifestaron Interes', 'Respuestas al Procedimiento', 'Respuestas Externas', 'Conteo de Respuestas a Ofertas', 'Proveedores Unicos con Respuestas', 'Numero de Lotes', 'Estado del Procedimiento', 'ID Estado del Procedimiento', 'Adjudicado', 'ID Adjudicacion', 'CodigoProveedor', 'Departamento Proveedor', 'Ciudad Proveedor', 'Fecha Adjudicacion', 'Valor Total Adjudicacion', 'Nombre del Adjudicador', 'Nombre del Proveedor Adjudicado', 'NIT del Proveedor Adjudicado', 'Codigo Principal de Categoria', 'Estado de Apertura del Proceso', 'Tipo de Contrato', 'Subtipo de Contrato', 'Categorias Adicionales', 'URLProceso', 'Codigo Entidad', 'Estado Resumen']\n"
          ]
        }
      ],
      "source": [
        "# Traer el listado de todas las columnas\n",
        "columnas = df_secop2_csv.columns.to_list()\n",
        "\n",
        "# Mostrar el resultado\n",
        "print(columnas)"
      ]
    },
    {
      "cell_type": "code",
      "execution_count": null,
      "metadata": {
        "colab": {
          "base_uri": "https://localhost:8080/"
        },
        "collapsed": true,
        "id": "2PXd-EzdMN4h",
        "outputId": "dc116473-ad8a-45ad-c75e-0dd84473a7ea"
      },
      "outputs": [
        {
          "name": "stdout",
          "output_type": "stream",
          "text": [
            "                                    Entidad  Nit Entidad  \\\n",
            "0        ALCALDIA MUNICIPIO DE DOSQUEBRADAS    800099310   \n",
            "1                   ALCALDÍA DE VILLAGARZON    800054249   \n",
            "2                       MUNICIPIO  DE PIJAO    890001181   \n",
            "3        ALCALDIA MUNICIPIO DE DOSQUEBRADAS    800099310   \n",
            "4        ALCALDIA MUNICIPIO DE DOSQUEBRADAS    800099310   \n",
            "..                                      ...          ...   \n",
            "98                     MUNICIPIO DE SALENTO    890001127   \n",
            "99                      MUNICIPIO DE ZARZAL    891900624   \n",
            "100  ALCALDIA MUNICIPIO DE CIRCASIA QUINDIO    890001044   \n",
            "101        ALCALDÍA MUNICIPAL DE ROLDANILLO    891900289   \n",
            "102                    MUNICIPIO DE CARTAGO    891900493   \n",
            "\n",
            "    Fecha de Publicacion del Proceso  \n",
            "0                                NaN  \n",
            "1                         12/01/2023  \n",
            "2                         11/29/2024  \n",
            "3                                NaN  \n",
            "4                                NaN  \n",
            "..                               ...  \n",
            "98                         1/05/2024  \n",
            "99                        05/15/2023  \n",
            "100                        8/09/2024  \n",
            "101                        8/01/2024  \n",
            "102                       08/29/2022  \n",
            "\n",
            "[103 rows x 3 columns]\n"
          ]
        }
      ],
      "source": [
        "# Seleccionar columnas de interes\n",
        "df_filtrado_secop2_csv = df_secop2_csv[['Entidad','Nit Entidad','Fecha de Publicacion del Proceso']]\n",
        "\n",
        "# Mostrar el resultado\n",
        "print(df_filtrado_secop2_csv)"
      ]
    },
    {
      "cell_type": "code",
      "execution_count": null,
      "metadata": {
        "colab": {
          "base_uri": "https://localhost:8080/"
        },
        "collapsed": true,
        "id": "UAjLnbf3MlH6",
        "outputId": "d2909ccc-e611-474b-aca1-541146bf3e96"
      },
      "outputs": [
        {
          "name": "stdout",
          "output_type": "stream",
          "text": [
            "                                               Entidad  Nit Entidad  \\\n",
            "2                                  MUNICIPIO  DE PIJAO    890001181   \n",
            "10                                MUNICIPIO DE PRADERA    891380115   \n",
            "11                                MUNICIPIO DE SALENTO    890001127   \n",
            "12                                 MUNICIPIO  DE PIJAO    890001181   \n",
            "13                                MUNICIPIO DE SALENTO    890001127   \n",
            "19                                MUNICIPIO DE SALENTO    890001127   \n",
            "23                              ALCALDIA DE CAICEDONIA    891900660   \n",
            "31                                MUNICIPIO DE CARTAGO    891900493   \n",
            "40                             ALCALDÍA DE VILLAGARZON    800054249   \n",
            "47            CORPORACION AUTONOMA REGIONAL DEL TOLIMA    890704536   \n",
            "58                               MUNICIPIO DE LA UNION    891901109   \n",
            "60   GOBERNACIÓN DEL DEPARTAMENTO ARCHIPIELAGO DE S...    892400038   \n",
            "63                              GOBERNACION DEL CHOCÓ.    891680010   \n",
            "64                                ALCALDIA DE FILANDIA    890001339   \n",
            "66                   MUNICIPIO DE BUENAVISTA (QUINDIO)    890001879   \n",
            "67                              GOBERNACION DEL CHOCÓ.    891680010   \n",
            "71                     PERSONERIA MUNICIPAL DE CARTAGO   8919004932   \n",
            "74                                MUNICIPIO DE PRADERA    891380115   \n",
            "77                                MUNICIPIO DE CARTAGO    891900493   \n",
            "81   GOBERNACIÓN DEL DEPARTAMENTO ARCHIPIELAGO DE S...    892400038   \n",
            "82                                MUNICIPIO DE ACEVEDO    891180069   \n",
            "83   INSTITUTO DE PLANIFICACIÓN Y PROMOCIÓN DE SOLU...    899999048   \n",
            "84            CORPORACION AUTONOMA REGIONAL DEL TOLIMA    890704536   \n",
            "85                                MUNICIPIO DE PRADERA    891380115   \n",
            "86                                MUNICIPIO DE CARTAGO    891900493   \n",
            "87                              GOBERNACION DEL CHOCÓ.    891680010   \n",
            "90                               MUNICIPIO DE LA UNION    891901109   \n",
            "91                           CONCEJO MUNICIPAL CARTAGO    900215967   \n",
            "94                     PERSONERIA MUNICIPAL DE CARTAGO   8919004932   \n",
            "98                                MUNICIPIO DE SALENTO    890001127   \n",
            "100             ALCALDIA MUNICIPIO DE CIRCASIA QUINDIO    890001044   \n",
            "101                   ALCALDÍA MUNICIPAL DE ROLDANILLO    891900289   \n",
            "\n",
            "    Fecha de Publicacion del Proceso  \n",
            "2                         2024-11-29  \n",
            "10                        2024-06-18  \n",
            "11                        2024-04-05  \n",
            "12                        2024-05-17  \n",
            "13                        2024-08-28  \n",
            "19                        2024-05-06  \n",
            "23                        2024-04-19  \n",
            "31                        2024-12-13  \n",
            "40                        2024-11-20  \n",
            "47                        2024-09-19  \n",
            "58                        2024-02-16  \n",
            "60                        2024-05-29  \n",
            "63                        2024-09-26  \n",
            "64                        2024-08-08  \n",
            "66                        2024-10-31  \n",
            "67                        2024-12-16  \n",
            "71                        2024-11-21  \n",
            "74                        2024-12-20  \n",
            "77                        2024-10-02  \n",
            "81                        2024-05-30  \n",
            "82                        2024-12-05  \n",
            "83                        2024-08-20  \n",
            "84                        2024-08-06  \n",
            "85                        2024-12-20  \n",
            "86                        2024-11-13  \n",
            "87                        2024-09-16  \n",
            "90                        2024-01-23  \n",
            "91                        2024-03-11  \n",
            "94                        2024-05-23  \n",
            "98                        2024-01-05  \n",
            "100                       2024-08-09  \n",
            "101                       2024-08-01  \n"
          ]
        },
        {
          "name": "stderr",
          "output_type": "stream",
          "text": [
            "<ipython-input-252-6a5d32ddf571>:2: SettingWithCopyWarning: \n",
            "A value is trying to be set on a copy of a slice from a DataFrame.\n",
            "Try using .loc[row_indexer,col_indexer] = value instead\n",
            "\n",
            "See the caveats in the documentation: https://pandas.pydata.org/pandas-docs/stable/user_guide/indexing.html#returning-a-view-versus-a-copy\n",
            "  df_filtrado_secop2_csv['Fecha de Publicacion del Proceso'] = pd.to_datetime(df_filtrado_secop2_csv['Fecha de Publicacion del Proceso'], dayfirst=False)\n"
          ]
        }
      ],
      "source": [
        "# Convertir la columna 'Fecha de Publicacion del Proceso' a tipo datetime con dayfirst=False\n",
        "df_filtrado_secop2_csv['Fecha de Publicacion del Proceso'] = pd.to_datetime(df_filtrado_secop2_csv['Fecha de Publicacion del Proceso'], dayfirst=False)\n",
        "\n",
        "# Filtrar el DataFrame para que solo contenga las filas donde el año sea 2024\n",
        "df_filtrado_secop2_2024 = df_filtrado_secop2_csv[df_filtrado_secop2_csv['Fecha de Publicacion del Proceso'].dt.year == 2024]\n",
        "\n",
        "# Mostrar el resultado\n",
        "print(df_filtrado_secop2_2024)"
      ]
    },
    {
      "cell_type": "code",
      "execution_count": null,
      "metadata": {
        "id": "wuXl17XvR_GZ"
      },
      "outputs": [],
      "source": [
        "# Definir la ruta donde guardaremos el archivo sin encabezado\n",
        "ruta_sin_encabezado = ruta_base + \"SECOP/df_filtrado_secop2_2024.csv\"\n",
        "\n",
        "# Guardar el DataFrame sin encabezado (header=False)\n",
        "df_filtrado_secop2_2024.to_csv(ruta_sin_encabezado, index=False, header=True)"
      ]
    },
    {
      "cell_type": "markdown",
      "metadata": {
        "id": "aEkrZ62Xr-KH"
      },
      "source": [
        "3. Ingesta Matriz Proyectos"
      ]
    },
    {
      "cell_type": "code",
      "execution_count": null,
      "metadata": {
        "colab": {
          "base_uri": "https://localhost:8080/"
        },
        "collapsed": true,
        "id": "fYZbFo1isZsn",
        "outputId": "875ce898-c4f5-43e3-93cc-cd940bb9cb02"
      },
      "outputs": [
        {
          "name": "stdout",
          "output_type": "stream",
          "text": [
            "\n",
            "Datos del archivo CSV:\n",
            "  Estado Principal Estado Derivados  Conteo Entidad auditora   ID CSF / SSF  \\\n",
            "0              NaN              NaN     0.0              NaN  NaN       NaN   \n",
            "1        Terminado    Sin Contratar     1.0              NaN  1.0       SSF   \n",
            "2        Terminado    Sin Contratar     1.0              NaN  2.0       SSF   \n",
            "3              NaN              NaN     0.0              NaN  NaN       NaN   \n",
            "4        Terminado    Sin Contratar     1.0              NaN  3.0       SSF   \n",
            "5        Terminado    Sin Contratar     1.0              NaN  4.0       SSF   \n",
            "6        Terminado    Sin Contratar     1.0              NaN  5.0       SSF   \n",
            "7        Liquidado    Sin Contratar     1.0              NaN  6.0       SSF   \n",
            "8              NaN              NaN     NaN              NaN  NaN       NaN   \n",
            "9          Cerrado          Cerrado     1.0              NaN  7.0       CSF   \n",
            "\n",
            "   CDP Compromiso   OP  RESUMEN  ... Deducciones Pago #9  \\\n",
            "0  NaN        NaN  NaN      NaN  ...                 NaN   \n",
            "1  NaN        NaN  NaN      NaN  ...                 NaN   \n",
            "2  NaN        NaN  NaN      NaN  ...                 NaN   \n",
            "3  NaN        NaN  NaN      NaN  ...                 NaN   \n",
            "4  NaN        NaN  NaN      NaN  ...                 NaN   \n",
            "5  NaN        NaN  NaN      NaN  ...                 NaN   \n",
            "6  NaN        NaN  NaN      NaN  ...                 NaN   \n",
            "7  NaN        NaN  NaN      NaN  ...                 NaN   \n",
            "8  NaN        NaN  NaN      NaN  ...                 NaN   \n",
            "9  NaN        NaN  NaN      NaN  ...                 NaN   \n",
            "\n",
            "  Factura de comisión N. 09 Valor de la novena comisión  \\\n",
            "0                       NaN                         NaN   \n",
            "1                       NaN                         NaN   \n",
            "2                       NaN                         NaN   \n",
            "3                       NaN                         NaN   \n",
            "4                       NaN                         NaN   \n",
            "5                       NaN                         NaN   \n",
            "6                       NaN                         NaN   \n",
            "7                       NaN                         NaN   \n",
            "8                       NaN                         NaN   \n",
            "9                       NaN                         NaN   \n",
            "\n",
            "  Fecha de cobro de la novena comisión Recaudo de la novena comisión  \\\n",
            "0                                  NaN                           NaN   \n",
            "1                                  NaN                           NaN   \n",
            "2                                  NaN                           NaN   \n",
            "3                                  NaN                           NaN   \n",
            "4                                  NaN                           NaN   \n",
            "5                                  NaN                           NaN   \n",
            "6                                  NaN                           NaN   \n",
            "7                                  NaN                           NaN   \n",
            "8                                  NaN                           NaN   \n",
            "9                                  NaN                           NaN   \n",
            "\n",
            "  Fecha del recaudo de la novena comisión Forma de noveno Pago  \\\n",
            "0                                     NaN                  NaN   \n",
            "1                                     NaN                  NaN   \n",
            "2                                     NaN                  NaN   \n",
            "3                                     NaN                  NaN   \n",
            "4                                     NaN                  NaN   \n",
            "5                                     NaN                  NaN   \n",
            "6                                     NaN                  NaN   \n",
            "7                                     NaN                  NaN   \n",
            "8                                     NaN                  NaN   \n",
            "9                                     NaN                  NaN   \n",
            "\n",
            "            Supervisor del Contrato.1 Cargo del Supervisor del Contrato.1  \\\n",
            "0                                 NaN                                 NaN   \n",
            "1                                 NaN                                 NaN   \n",
            "2                                 NaN                                 NaN   \n",
            "3                                 NaN                                 NaN   \n",
            "4                                 NaN                                 NaN   \n",
            "5                                 NaN                                 NaN   \n",
            "6                                 NaN                                 NaN   \n",
            "7                                 NaN                                 NaN   \n",
            "8                                 NaN                                 NaN   \n",
            "9  ARG CONSULTORES & SERVICIOS S.A.S.  ARG CONSULTORES & SERVICIOS S.A.S.   \n",
            "\n",
            "  Seguimiento a la Ejecución del Contrato.1  \n",
            "0                                       NaN  \n",
            "1                                       NaN  \n",
            "2                                       NaN  \n",
            "3                                       NaN  \n",
            "4                                       NaN  \n",
            "5                                       NaN  \n",
            "6                                       NaN  \n",
            "7                                       NaN  \n",
            "8                                       NaN  \n",
            "9                                       NaN  \n",
            "\n",
            "[10 rows x 243 columns]\n"
          ]
        }
      ],
      "source": [
        "import pandas as pd\n",
        "\n",
        "# Ruta con nombre del archivo csv en Google Drive\n",
        "ruta_csv = ruta_base + \"MATRIZ_PROYECTOS/MATRIZ GESTIÓN DE PROYECTOS 04-03-2025.csv\"\n",
        "\n",
        "# Leer archivo CSV delimitado por ','\n",
        "df_matrizgestionproyectos_csv = pd.read_csv(ruta_csv, delimiter=\";\")\n",
        "print(\"\\nDatos del archivo CSV:\")\n",
        "print(df_matrizgestionproyectos_csv.head(10))"
      ]
    },
    {
      "cell_type": "code",
      "execution_count": null,
      "metadata": {
        "colab": {
          "base_uri": "https://localhost:8080/"
        },
        "collapsed": true,
        "id": "suftfPv72f5l",
        "outputId": "2b8c1222-7672-4f1c-9835-8031b236ea14"
      },
      "outputs": [
        {
          "name": "stdout",
          "output_type": "stream",
          "text": [
            "<class 'pandas.core.frame.DataFrame'>\n",
            "RangeIndex: 989 entries, 0 to 988\n",
            "Columns: 243 entries, Estado Principal to Seguimiento a la Ejecución del Contrato.1\n",
            "dtypes: float64(34), object(209)\n",
            "memory usage: 1.8+ MB\n"
          ]
        }
      ],
      "source": [
        "# Traer info general de la matriz\n",
        "df_matrizgestionproyectos_csv.info()"
      ]
    },
    {
      "cell_type": "code",
      "execution_count": null,
      "metadata": {
        "colab": {
          "base_uri": "https://localhost:8080/"
        },
        "collapsed": true,
        "id": "VOS-C6UL6XmE",
        "outputId": "99d7dd2e-5fb2-482f-bb26-80664e3d9c42"
      },
      "outputs": [
        {
          "name": "stdout",
          "output_type": "stream",
          "text": [
            "['Estado Principal', 'Estado Derivados', 'Conteo', 'Entidad auditora', 'ID', 'CSF / SSF', 'CDP', 'Compromiso', 'OP', 'RESUMEN', ' Valor Aporte de la Entidad ($)', 'Valor Faltante por Recaudar de los Contratos / Convenio \\nAmarillo (pendiente)\\nNaranja (al día)\\nVerde (recaudado todo)', 'Enlace del expediente del Contrato / Convenio Principal', 'Lista de chequeo', 'Contrato de Derivado Valor Aporte de Fonpacífico ($) ', 'Valor Faltante por Pagar de los Contratos Derivados\\nGris (Sin contrato derivado)', 'Enlace del expediente del Contrato Derivado', 'Lista de chequeo.1', 'Breve Descripción', 'N Proyecto / Contrato / Convenio / ', 'Entidad Contratante', 'Departamento', 'Año', 'Fecha de Firma del Contrato o Designación\\n(dd/mm/aaaa) / Acto de aprobación', 'Fecha de Acta de Inicio\\n(dd/mm/aaaa) / Designación', 'Fecha de Aceptación', 'Modificatorio', 'Fecha de Terminación\\n(dd/mm/aaaa)', 'Plazo de Ejecución', 'Año de Terminación', 'Estado Actual (Ejecución - Suspensión - Terminado - Liquidado - Experiencia)', 'Supervisor designado o Responsable del Seguimiento al Principal', 'Acta de Terminación, Acta de Liquidación y Certificado de Cumplimiento - Principal', 'Aportes', 'Observaciones al principal', 'Objeto del Contrato / Convenio / Proyecto', 'Sector', 'Entidad', 'NITdelaEntidad', 'Dirección de la Entidad', 'Teléfono de Contacto de la Entidad', 'Correo Electronico o Página Web de la Entidad', 'Modalidad de Contratación', 'Fuente de Financiación', ' Valor Total ($)', ' Valor Aporte de la Entidad ($).1', 'Porcentaje Aporte de la Entidad (%)', 'Valor Aporte de Fonpacífico ($)', 'Porcentaje Aporte de Fonpacífico (%)', 'Actividades de Aporte Fonpacífico', 'Cuenta de Cobro Generada para Anticipo', 'Fecha de Primer Cuenta de Cobro para anticipo', 'Valor Cuenta de Cobro Anticipo', 'Factura / Cuenta de Cobro Generada para Primer Pago', 'Fecha de Primer Factura / Cuenta de Cobro ', 'Valor Primer Factura / Cuenta de Cobro ', 'Fecha Primer Recaudo', 'Primer Recaudo', 'Primer Desembolso Según Contrato', 'Fecha del Primer Desembolso', 'Forma de Pago del Primer Desembolso', 'Factura / Cuenta de Cobro Generada para Segundo Pago', 'Fecha de Segunda Factura / Cuenta de Cobro ', 'Valor Segundo Factura / Cuenta de Cobro ', 'Fecha Segundo Recaudo', 'Segundo Recaudo', 'Segundo Desembolso Según Contrato', 'Fecha del Segundo Desembolso', 'Forma de Pago de Segundo Desembolso', 'Factura / Cuenta de Cobro Generada para Tercer Pago', 'Fecha de Tercer Factura / Cuenta de Cobro ', 'Valor Tercer Factura / Cuenta de Cobro ', 'Fecha Tercer Recaudo', 'Tercer Recaudo', 'Tercer Desembolso Según Contrato', 'Fecha del Tercer Desembolso', 'Forma de Pago de Tercer Desembolso', 'Factura / Cuenta de Cobro  Generada para Cuarto Pago', 'Fecha de Cuarta Factura / Cuenta de Cobro ', 'Valor Cuarta Factura / Cuenta de Cobro ', 'Fecha Cuarto Recaudo', 'Cuarto Recaudo', 'Cuarto Desembolso Según Contrato', 'Fecha del Cuarto Desembolso', 'Forma de Pago de Cuarto Desembolso', 'Factura / Cuenta de Cobro  Generada para Quinto Pago', 'Fecha de Quinta Factura / Cuenta de Cobro ', 'Valor Quinta Factura / Cuenta de Cobro ', 'Fecha Quinto Recaudo', 'Quinto Recaudo', 'Quinto Pago Según Contrato', 'Fecha del Quinto Desembolso', 'Forma de Pago de Quinto Desembolso', 'Factura / Cuenta de Cobro  Generada para Sexto Pago', 'Fecha de Sexta Factura / Cuenta de Cobro ', 'Valor Sexta Factura / Cuenta de Cobro ', 'Fecha de Sexto Recaudo', 'Sexto Recaudo', 'Sexto Desembolso Según Contrato', 'Fecha del Sexto Desembolso', 'Forma de Pago de Sexto Desembolso', 'Supervisor del Contrato', 'Cargo del Supervisor del Contrato', 'Seguimiento a la Ejecución del Contrato', 'ID.1', 'Modificaciones del derivado', 'Tipo de Contratación', 'N. Contrato / Convenio derivado del Convenio Principal', 'Año de firma del Derivado', 'Fecha de Firma del Contrato\\n(dd/mm/aaaa)', 'Fecha de Acta de Inicio\\n(dd/mm/aaaa)', 'Fecha de Terminación inicial\\n(dd/mm/aaaa)', 'Plazo de Ejecución.1', 'Año de Terminación.1', 'Estado Actual (Ejecución - Suspensión -  Prorroga - Terminado - Liquidado - Experiencia)', 'Supervisor designado o Responsable del Seguimiento al Derivado', 'Fecha de Terminación definitiva, y Acta de Terminación y Acta de liquidación y Certificado de cumplimiento Derivado', 'Observaciones al derivado', 'Objeto del derivado', 'Entidad del Derivado', 'NIT o CC del Derivado', 'Representante Legal', 'Identificación del Representante Legal', 'Dirección de la Entidad.1', 'Teléfono de Contacto de la Entidad.1', 'Correo Electronico o Página Web de la Entidad.1', 'Fuente de Financiación.1', 'Valor Total ($)', 'Valor Aporte de Fonpacífico ($).1', 'Porcentaje Aporte de Fonpacífico (%).1', 'Valor Aporte de Contratista', 'Observaciones de Cuenta de Cobro de Anticipo y/o Facturas', 'Cuenta De Cobro Por Anticipo / Factura Electronica / Cuenta de Cobro', 'Fecha de Cuenta De Cobro Por Anticipo / Factura Electronica / Cuenta de Cobro.\\nPago #1', 'Valor de la Cuenta De Cobro Por Anticipo / Factura Electronica / Cuenta de Cobro.\\nPago #1', 'Pago Anticipo / Pago #1', 'Fecha del Pago Del Anticipo / Pago #1', ' Deducciones Pago # 1', ' Cta de Cobro y/o Factura de comisión N. 01', ' Valor de la primer comisión', ' Fecha de cobro de la primer comisión', ' Recaudo de la primer comisión', ' Fecha del recaudo de la primer comisión', 'Forma de Primer Pago', 'Factura Electronica o Cuenta de Cobro recibida #2', 'Fecha de la Factura Electronica o Cuenta de Cobro #2 recibida', 'Valor de Factura o Cuenta de Cobro #2 recibida', 'Pago #2', 'Fecha de Pago #2', 'Deducciones Pago # 2', ' Factura de comisión N. 02', ' Valor de la segunda comisión', 'Fecha de cobro de la segunda comisión', ' Recaudo de la segunda comisión', 'Fecha del recaudo de la segunda comisión', 'Forma de Segundo Pago', 'Factura Electronica o Cuenta de Cobro recibida #3', 'Fecha de la Factura Electronica o Cuenta de Cobro #3 recibida', 'Valor de Factura o Cuenta de Cobro #3 recibida', 'Pago #3', 'Fecha de Pago #3', 'Deducciones Pago # 3', 'Factura de comisión N. 03', 'Valor de la tercera comisión', 'Fecha de cobro de la tercera comisión', 'Recaudo de la tercera comisión', 'Fecha del recaudo de la tercera comisión', 'Forma de Tercer Pago', 'Factura Electronica o Cuenta de Cobro recibida #4', 'Fecha de la Factura Electronica o Cuenta de Cobro #4 recibida', 'Valor de Factura o Cuenta de Cobro #4 recibida', 'Pago #4', 'Fecha de Pago #4', 'Deducciones Pago # 4', 'Factura de comisión N. 04', 'Valor de la cuarta comisión', 'Fecha de cobro de la cuarta comisión', 'Recaudo de la cuarta comisión', 'Fecha del recaudo de la cuarta comisión', 'Forma de Cuarto Pago', 'Factura Electronica o Cuenta de Cobro recibida #5', 'Fecha de la Factura Electronica o Cuenta de Cobro #5 recibida', 'Valor de Factura o Cuenta de Cobro #5 recibida', 'Pago #5', 'Fecha de Pago #5', 'Deducciones Pago # 5', 'Factura de comisión N. 05', 'Valor de la quinta comisión', 'Fecha de cobro de la quinta comisión', 'Recaudo de la quinta comisión', 'Fecha del recaudo de la quinta comisión', 'Forma de Quinto Pago', 'Factura Electronica o Cuenta de Cobro recibida #6', 'Fecha de la Factura Electronica o Cuenta de Cobro #6 recibida', 'Valor de Factura o Cuenta de Cobro #6 recibida', 'Pago #6', 'Fecha de Pago #6', 'Deducciones Pago # 6', 'Factura de comisión N. 06', 'Valor de la sexta comisión', 'Fecha de cobro de la sexta comisión', 'Recaudo de la sexta comisión', 'Fecha del recaudo de la sexta comisión', 'Forma de Sexto Pago', 'Factura Electronica o Cuenta de Cobro recibida #7', 'Fecha de la Factura Electronica o Cuenta de Cobro #7 recibida', 'Valor de Factura o Cuenta de Cobro #7 recibida', 'Pago #7', 'Fecha de Pago #7', 'Deducciones Pago # 7', 'Factura de comisión N. 07', 'Valor de la septima comisión', 'Fecha de cobro de la septima comisión', 'Recaudo de la septima comisión', 'Fecha del recaudo de la septima comisión', 'Forma de Septimo Pago', 'Factura Electronica o Cuenta de Cobro recibida #8', 'Fecha de la Factura Electronica o Cuenta de Cobro #8 recibida', 'Valor de Factura o Cuenta de Cobro #8 recibida', 'Pago #8', 'Fecha de Pago #8', 'Deducciones Pago #8', 'Factura de comisión N. 08', 'Valor de la octava comisión', 'Fecha de cobro de la octava comisión', 'Recaudo de la octava comisión', 'Fecha del recaudo de la octava comisión', 'Forma de octavo Pago', 'Factura Electronica o Cuenta de Cobro recibida #9', 'Fecha de la Factura Electronica o Cuenta de Cobro #9 recibida', 'Valor de Factura o Cuenta de Cobro #9 recibida', 'Pago #9', 'Fecha de Pago #9', 'Deducciones Pago #9', 'Factura de comisión N. 09', 'Valor de la novena comisión', 'Fecha de cobro de la novena comisión', 'Recaudo de la novena comisión', 'Fecha del recaudo de la novena comisión', 'Forma de noveno Pago', 'Supervisor del Contrato.1', 'Cargo del Supervisor del Contrato.1', 'Seguimiento a la Ejecución del Contrato.1']\n"
          ]
        }
      ],
      "source": [
        "# Traer el listado de todas las columnas\n",
        "columnas = df_matrizgestionproyectos_csv.columns.to_list()\n",
        "\n",
        "# Mostrar el resultado\n",
        "print(columnas)"
      ]
    },
    {
      "cell_type": "code",
      "execution_count": null,
      "metadata": {
        "colab": {
          "base_uri": "https://localhost:8080/"
        },
        "collapsed": true,
        "id": "sM4GyUad341N",
        "outputId": "7ad4ccb2-8641-4b9a-a01e-b7007eb273fe"
      },
      "outputs": [
        {
          "name": "stdout",
          "output_type": "stream",
          "text": [
            "    Estado Principal Estado Derivados  Valor Aporte de la Entidad ($)  \\\n",
            "0                NaN              NaN               $ 565.000.000,00    \n",
            "1          Terminado    Sin Contratar               $ 550.000.000,00    \n",
            "2          Terminado    Sin Contratar                $ 15.000.000,00    \n",
            "3                NaN              NaN             $ 1.033.000.000,00    \n",
            "4          Terminado    Sin Contratar               $ 149.000.000,00    \n",
            "..               ...              ...                             ...   \n",
            "984              NaN              NaN                             NaN   \n",
            "985              NaN              NaN                             NaN   \n",
            "986              NaN              NaN                             NaN   \n",
            "987              NaN              NaN                             NaN   \n",
            "988              NaN              NaN                             NaN   \n",
            "\n",
            "                   N Proyecto / Contrato / Convenio /   \\\n",
            "0                                                  NaN   \n",
            "1    Convenio Interadministrativo N. 009 -2017. Gob...   \n",
            "2    Contrato de Prestación de Servicios N. CPS2017...   \n",
            "3                                                  NaN   \n",
            "4    Contrato de Prestación de Servicios N. 498-201...   \n",
            "..                                                 ...   \n",
            "984                                                NaN   \n",
            "985                                                NaN   \n",
            "986                                                NaN   \n",
            "987                                                NaN   \n",
            "988                                                NaN   \n",
            "\n",
            "          Entidad Contratante     Departamento     Año  \\\n",
            "0                         NaN              NaN  2017.0   \n",
            "1       GOBERNACIÓN DEL CHOCÓ            CHOCÓ  2017.0   \n",
            "2         MUNICIPIO DE ALCALÁ  VALLE DEL CAUCA  2017.0   \n",
            "3                         NaN                0  2018.0   \n",
            "4    CÁMARA DE REPRESENTANTES        BOGOTÁ DC  2018.0   \n",
            "..                        ...              ...     ...   \n",
            "984                       NaN              NaN     NaN   \n",
            "985                       NaN              NaN     NaN   \n",
            "986                       NaN              NaN     NaN   \n",
            "987                       NaN              NaN     NaN   \n",
            "988                       NaN              NaN     NaN   \n",
            "\n",
            "     Valor Aporte de la Entidad ($).1 Porcentaje Aporte de la Entidad (%)  \\\n",
            "0                   $ 565.000.000,00                                  NaN   \n",
            "1                   $ 550.000.000,00                               87,30%   \n",
            "2                    $ 15.000.000,00                              100,00%   \n",
            "3                 $ 1.033.000.000,00                                  NaN   \n",
            "4                   $ 149.000.000,00                              100,00%   \n",
            "..                                ...                                 ...   \n",
            "984                               NaN                                 NaN   \n",
            "985                               NaN                                 NaN   \n",
            "986                               NaN                                 NaN   \n",
            "987                               NaN                                 NaN   \n",
            "988                               NaN                                 NaN   \n",
            "\n",
            "    Valor Aporte de Fonpacífico ($) Porcentaje Aporte de Fonpacífico (%)  \\\n",
            "0                  $ 80.000.000,00                                   NaN   \n",
            "1                  $ 80.000.000,00                                12,70%   \n",
            "2                            $ -                                   0,00%   \n",
            "3                  $ 89.820.000,00                                   NaN   \n",
            "4                            $ -                                   0,00%   \n",
            "..                              ...                                  ...   \n",
            "984                             NaN                                  NaN   \n",
            "985                             NaN                                  NaN   \n",
            "986                             NaN                                  NaN   \n",
            "987                             NaN                                  NaN   \n",
            "988                             NaN                                  NaN   \n",
            "\n",
            "    Entidad del Derivado  \n",
            "0                    NaN  \n",
            "1                    NaN  \n",
            "2                    NaN  \n",
            "3                    NaN  \n",
            "4                    NaN  \n",
            "..                   ...  \n",
            "984                  NaN  \n",
            "985                  NaN  \n",
            "986                  NaN  \n",
            "987                  NaN  \n",
            "988                  NaN  \n",
            "\n",
            "[989 rows x 12 columns]\n"
          ]
        }
      ],
      "source": [
        "# Seleccionar columnas de interes\n",
        "df_filtrado_matrizgestionproyectos_csv = df_matrizgestionproyectos_csv[['Estado Principal','Estado Derivados',' Valor Aporte de la Entidad ($)','N Proyecto / Contrato / Convenio / ','Entidad Contratante','Departamento','Año',' Valor Aporte de la Entidad ($).1','Porcentaje Aporte de la Entidad (%)','Valor Aporte de Fonpacífico ($)','Porcentaje Aporte de Fonpacífico (%)','Entidad del Derivado']]\n",
        "\n",
        "# Mostrar el resultado\n",
        "print(df_filtrado_matrizgestionproyectos_csv)"
      ]
    },
    {
      "cell_type": "code",
      "execution_count": null,
      "metadata": {
        "colab": {
          "base_uri": "https://localhost:8080/"
        },
        "collapsed": true,
        "id": "ErAdWCEB9hhs",
        "outputId": "513953bc-b841-45c8-959c-a6c4a608f775"
      },
      "outputs": [
        {
          "name": "stdout",
          "output_type": "stream",
          "text": [
            "                  Estado Principal  Estado Derivados  \\\n",
            "542                            NaN               NaN   \n",
            "545                      Terminado         Terminado   \n",
            "546  Terminado pendiente por pagar  Terminado pagado   \n",
            "548                     Terminado         Terminado    \n",
            "549               Terminado pagado  Terminado pagado   \n",
            "..                             ...               ...   \n",
            "682                     Contratado         Selección   \n",
            "684                     Contratado        Contratado   \n",
            "686                     Contratado     Sin Contratar   \n",
            "688                     Contratado     Sin Contratar   \n",
            "689                      Liquidado         Liquidado   \n",
            "\n",
            "     Valor Aporte de la Entidad ($)  \\\n",
            "542                             NaN   \n",
            "545               $ 180.000.000,00    \n",
            "546             $ 1.509.615.468,00    \n",
            "548                $ 66.717.905,00    \n",
            "549               $ 125.000.000,00    \n",
            "..                              ...   \n",
            "682                $ 89.999.982,00    \n",
            "684               $ 184.211.405,00    \n",
            "686               $ 120.000.000,00    \n",
            "688                $ 36.400.000,00    \n",
            "689               $ 350.000.000,00    \n",
            "\n",
            "                   N Proyecto / Contrato / Convenio /   \\\n",
            "542                                                NaN   \n",
            "545  CONV. INT. N° 001 2024. FIESTAS  PASO DEL LIBE...   \n",
            "546  EJECUTOR DE REGALIAS BPIN 2024863200004 CONSTR...   \n",
            "548  Convenio Interadministrativo N° 002 de  2024 I...   \n",
            "549  Convenio Interadministrativo N° 004 de 2024 IM...   \n",
            "..                                                 ...   \n",
            "682  2024 CONV. INT. N° 110-16-02-14 ACUEDUCTOS VER...   \n",
            "684  2024 CONV. INT. N° 110-16-02-15  MEJORAMIENTO ...   \n",
            "686  2024 CONV. INT. N° 002 MEJORAMIENTO BIBLIOTECA...   \n",
            "688  2024 CONV. INT. N°110-16-02-16 ADECUACIONES LO...   \n",
            "689  2024. CONV. INT. N° 001-2024 “EJECUCIÓN DE UN ...   \n",
            "\n",
            "               Entidad Contratante     Departamento     Año  \\\n",
            "542                            NaN                0  2024.0   \n",
            "545          MUNICIPIO DE SALENTO           QUINDIO  2024.0   \n",
            "546            MUNICIPIO DE ORITO          PUTUMAYO  2024.0   \n",
            "548          MUNICIPIO DE LA UNIÓN  VALLE DEL CAUCA  2024.0   \n",
            "549          MUNICIPIO DE LA UNIÓN  VALLE DEL CAUCA  2024.0   \n",
            "..                             ...              ...     ...   \n",
            "682           MUNICIPIO DE PRADERA  VALLE DEL CAUCA  2024.0   \n",
            "684           MUNICIPIO DE PRADERA  VALLE DEL CAUCA  2024.0   \n",
            "686  MUNICIPIO UNIÓN PANAMERICANA             CHOCÓ  2024.0   \n",
            "688           MUNICIPIO DE PRADERA  VALLE DEL CAUCA  2024.0   \n",
            "689          GOBERNACIÓN DEL CHOCÓ            CHOCÓ  2024.0   \n",
            "\n",
            "     Valor Aporte de la Entidad ($).1 Porcentaje Aporte de la Entidad (%)  \\\n",
            "542                               NaN                                 NaN   \n",
            "545                 $ 180.000.000,00                               94,74%   \n",
            "546               $ 1.509.615.468,00                              100,00%   \n",
            "548                  $ 66.717.905,00                               81,85%   \n",
            "549                 $ 125.000.000,00                               89,29%   \n",
            "..                                ...                                 ...   \n",
            "682                  $ 89.999.982,00                               97,09%   \n",
            "684                 $ 184.211.405,00                               95,23%   \n",
            "686                 $ 120.000.000,00                               95,24%   \n",
            "688                  $ 36.400.000,00                               95,24%   \n",
            "689                 $ 350.000.000,00                                  NaN   \n",
            "\n",
            "    Valor Aporte de Fonpacífico ($) Porcentaje Aporte de Fonpacífico (%)  \\\n",
            "542                             NaN                                  NaN   \n",
            "545                  $10.000.000,00                                5,26%   \n",
            "546                           $0,00                                0,00%   \n",
            "548                  $12.000.000,00                               18,15%   \n",
            "549                  $15.000.000,00                               10,71%   \n",
            "..                              ...                                  ...   \n",
            "682                   $2.699.999,00                                2,91%   \n",
            "684                   $9.234.893,00                                4,77%   \n",
            "686                   $6.000.000,00                                4,76%   \n",
            "688                   $1.820.000,00                                4,76%   \n",
            "689                  $17.500.000,00                                  NaN   \n",
            "\n",
            "                 Entidad del Derivado  \n",
            "542                               NaN  \n",
            "545                  GP KANGURO S.A.S  \n",
            "546  SOLUCIÓN AMBIENTAL INTEGRADA SAS  \n",
            "548                               NaN  \n",
            "549                               NaN  \n",
            "..                                ...  \n",
            "682                               NaN  \n",
            "684                               NaN  \n",
            "686                               NaN  \n",
            "688                               NaN  \n",
            "689                               NaN  \n",
            "\n",
            "[85 rows x 12 columns]\n"
          ]
        }
      ],
      "source": [
        "# Filtrar el DataFrame para que solo contenga las filas donde 'Año' es 2024\n",
        "df_filtrado_matrizgestionproyectos_2024 = df_filtrado_matrizgestionproyectos_csv[df_filtrado_matrizgestionproyectos_csv['Año'] == 2024]\n",
        "\n",
        "# Mostrar el resultado\n",
        "print(df_filtrado_matrizgestionproyectos_2024)"
      ]
    },
    {
      "cell_type": "code",
      "execution_count": null,
      "metadata": {
        "id": "tIjYPhHS_CG8"
      },
      "outputs": [],
      "source": [
        "# Definir la ruta donde guardaremos el archivo sin encabezado\n",
        "ruta_sin_encabezado = ruta_base + \"MATRIZ_PROYECTOS/df_filtrado_matrizgestionproyectos_2024.csv\"\n",
        "\n",
        "# Guardar el DataFrame sin encabezado (header=False)\n",
        "df_filtrado_matrizgestionproyectos_2024.to_csv(ruta_sin_encabezado, index=False, header=True)"
      ]
    },
    {
      "cell_type": "markdown",
      "metadata": {
        "id": "tE6i_fD-AXbb"
      },
      "source": [
        "4. Ingesta SPGR - Cronograma Flujos 2025"
      ]
    },
    {
      "cell_type": "code",
      "execution_count": null,
      "metadata": {
        "colab": {
          "base_uri": "https://localhost:8080/"
        },
        "collapsed": true,
        "id": "lrW8ScrtAXG7",
        "outputId": "360e7e61-d31f-47b4-f9c7-a6a8e443c896"
      },
      "outputs": [
        {
          "name": "stdout",
          "output_type": "stream",
          "text": [
            "\n",
            "Datos del archivo CSV:\n",
            "  Vigencia Presupuestal Identificación de la Entidad  \\\n",
            "0             2025-2026                    03-270001   \n",
            "1             2025-2026                    03-270001   \n",
            "2             2025-2026                    03-270001   \n",
            "3             2025-2026                    03-270001   \n",
            "4             2025-2026                    03-270001   \n",
            "\n",
            "                                Nombre de la Entidad  \\\n",
            "0  FONDO MIXTO DE ETNOCULTURA Y DESARROLLO SOCIAL...   \n",
            "1  FONDO MIXTO DE ETNOCULTURA Y DESARROLLO SOCIAL...   \n",
            "2  FONDO MIXTO DE ETNOCULTURA Y DESARROLLO SOCIAL...   \n",
            "3  FONDO MIXTO DE ETNOCULTURA Y DESARROLLO SOCIAL...   \n",
            "4  FONDO MIXTO DE ETNOCULTURA Y DESARROLLO SOCIAL...   \n",
            "\n",
            "   NIT del Ejecutor del proyecto de Inversión  \\\n",
            "0                                   901039684   \n",
            "1                                   901039684   \n",
            "2                                   901039684   \n",
            "3                                   901039684   \n",
            "4                                   901039684   \n",
            "\n",
            "  Identificación del proyecto de Inversión  \\\n",
            "0           00PI-4301-1604-2023-86001-0041   \n",
            "1           00AD-4002-1400-2023-19142-0111   \n",
            "2           00AD-2201-0700-2023-41001-0110   \n",
            "3           00AD-4003-1400-2024-41524-0008   \n",
            "4           00AD-3301-1603-2023-86001-0139   \n",
            "\n",
            "                    Nombre del proyecto de Inversión  \\\n",
            "0  CONSTRUCCIÓN DE CANCHA MULTIUSOS CON CUBIERTA ...   \n",
            "1  CONSTRUCCIÓN URBANISMO PLAZA DE MERCADO MUNICI...   \n",
            "2  CONSTRUCCIÓN Y ADECUACIÓN DE INFRAESTRUCTURA E...   \n",
            "3  OPTIMIZACIÓN DE REDES DE SERVICIOS PÚBLICOS DE...   \n",
            "4  FORTALECIMIENTO DEL INTERCAMBIO CULTURAL DE LA...   \n",
            "\n",
            "  Código del recurso presupuestal  \\\n",
            "0                         PI86001   \n",
            "1                         AD19142   \n",
            "2                         AD41001   \n",
            "3                         AD41524   \n",
            "4                         AD86001   \n",
            "\n",
            "           Descripción del recurso presupuestal Código del Fondo  \\\n",
            "0  INCENTIVOS A LA PROD. PAZ - MOCOA - PUTUMAYO             IPAZ   \n",
            "1        ASIGNACIONES DIRECTAS - CALOTO - CAUCA             ADIR   \n",
            "2         ASIGNACIONES DIRECTAS - NEIVA - HUILA             ADIR   \n",
            "3       ASIGNACIONES DIRECTAS - PALERMO - HUILA             ADIR   \n",
            "4      ASIGNACIONES DIRECTAS - MOCOA - PUTUMAYO             ADIR   \n",
            "\n",
            "                               Descripción del Fondo  ... abr-02 may-02  \\\n",
            "0  INCENTIVOS A LA PRODUCCION MINERA - APROBADOS ...  ...   0,00   0,00   \n",
            "1                              ASIGNACIONES DIRECTAS  ...   0,00   0,00   \n",
            "2                              ASIGNACIONES DIRECTAS  ...   0,00   0,00   \n",
            "3                              ASIGNACIONES DIRECTAS  ...   0,00   0,00   \n",
            "4                              ASIGNACIONES DIRECTAS  ...   0,00   0,00   \n",
            "\n",
            "   jun-02 jul-02 ago-02 sep-02 oct-02 nov-02 dic-02 Meses Posteriores  \n",
            "0    0,00   0,00   0,00   0,00   0,00   0,00   0,00              0,00  \n",
            "1    0,00   0,00   0,00   0,00   0,00   0,00   0,00              0,00  \n",
            "2    0,00   0,00   0,00   0,00   0,00   0,00   0,00              0,00  \n",
            "3    0,00   0,00   0,00   0,00   0,00   0,00   0,00              0,00  \n",
            "4    0,00   0,00   0,00   0,00   0,00   0,00   0,00              0,00  \n",
            "\n",
            "[5 rows x 38 columns]\n"
          ]
        }
      ],
      "source": [
        "import pandas as pd\n",
        "\n",
        "# Ruta con nombre del archivo csv en Google Drive\n",
        "ruta_csv = ruta_base + \"SPGR/SPGR. ExportarCRONOGRAMA DE FLUJOS 04-03-2025.csv\"\n",
        "\n",
        "# Leer archivo CSV delimitado por ','\n",
        "df_spgr_cronograma_flujos_csv = pd.read_csv(ruta_csv, delimiter=\";\")\n",
        "print(\"\\nDatos del archivo CSV:\")\n",
        "print(df_spgr_cronograma_flujos_csv.head())"
      ]
    },
    {
      "cell_type": "markdown",
      "metadata": {
        "id": "7eUc-Z-wC_Fz"
      },
      "source": [
        "5. Ingesta SPGR - Pagos 2025"
      ]
    },
    {
      "cell_type": "code",
      "execution_count": null,
      "metadata": {
        "colab": {
          "base_uri": "https://localhost:8080/"
        },
        "collapsed": true,
        "id": "XWeJYDTxC-07",
        "outputId": "10564668-a01a-4a92-8534-14fd6fe1143f"
      },
      "outputs": [
        {
          "name": "stdout",
          "output_type": "stream",
          "text": [
            "\n",
            "Datos del archivo CSV:\n",
            "   Numero Documento    Fecha de Registro        Fecha de pago  Estado  \\\n",
            "0          40423419  2019-08-09 00:00:00  2019-08-13 06:54:31  Pagada   \n",
            "1          46917919  2019-09-18 00:00:00  2019-09-20 06:10:48  Pagada   \n",
            "2          59341220  2020-03-05 00:00:00  2020-03-09 06:15:06  Pagada   \n",
            "3          59341320  2020-03-05 00:00:00  2020-03-09 06:15:07  Pagada   \n",
            "4          59341420  2020-03-05 00:00:00  2020-03-09 06:15:07  Pagada   \n",
            "\n",
            "   Valor Bruto   Valor Deducciones  Valor Neto      Tipo Beneficiario  \\\n",
            "0  1665468750,00              0,00  1665468750,00  Beneficiario final   \n",
            "1    55482362,00        6923639,00    48558723,00  Beneficiario final   \n",
            "2    55482362,00        6923642,00    48558720,00  Beneficiario final   \n",
            "3    55482362,00        6923642,00    48558720,00  Beneficiario final   \n",
            "4    55482362,00        6923642,00    48558720,00  Beneficiario final   \n",
            "\n",
            "  Vigencia Presupuestal Tipo Identificación  ...  Numero Cuenta.1  \\\n",
            "0                Actual                 NIT  ...              NaN   \n",
            "1                Actual                 NIT  ...              NaN   \n",
            "2                Actual                 NIT  ...              NaN   \n",
            "3                Actual                 NIT  ...              NaN   \n",
            "4                Actual                 NIT  ...              NaN   \n",
            "\n",
            "  Concepto Pago Solicitud CDP  CDP  Compromisos Cuentas por Pagar  \\\n",
            "0           NaN           119  119          219               119   \n",
            "1           NaN           219  219          119               219   \n",
            "2           NaN           219  219          119               220   \n",
            "3           NaN           219  219          119               320   \n",
            "4           NaN           219  219          119               420   \n",
            "\n",
            "   Obligaciones Órdenes de Pago Reintegros Documento Masivo  \n",
            "0           119        40423419          0              NaN  \n",
            "1           219        46917919          0              NaN  \n",
            "2           120        59341220          0              NaN  \n",
            "3           220        59341320          0              NaN  \n",
            "4           320        59341420          0              NaN  \n",
            "\n",
            "[5 rows x 46 columns]\n"
          ]
        }
      ],
      "source": [
        "import pandas as pd\n",
        "\n",
        "# Ruta con nombre del archivo csv en Google Drive\n",
        "ruta_csv = ruta_base + \"SPGR/SPGR. ExportarPAGOS 04-03-2025.csv\"\n",
        "\n",
        "# Leer archivo CSV delimitado por ','\n",
        "df_spgr_pagos_csv = pd.read_csv(ruta_csv, delimiter=\";\")\n",
        "print(\"\\nDatos del archivo CSV:\")\n",
        "print(df_spgr_pagos_csv.head())"
      ]
    },
    {
      "cell_type": "markdown",
      "metadata": {
        "id": "Lr_txis4ENzD"
      },
      "source": [
        "6. Ingesta SOUL - Recaudos 2024"
      ]
    },
    {
      "cell_type": "code",
      "execution_count": null,
      "metadata": {
        "colab": {
          "base_uri": "https://localhost:8080/"
        },
        "collapsed": true,
        "id": "UOreshHfEXRj",
        "outputId": "d4797d21-c50a-4e85-b5e6-d675cf3e95d7"
      },
      "outputs": [
        {
          "name": "stdout",
          "output_type": "stream",
          "text": [
            "\n",
            "Datos del archivo CSV:\n",
            "   documento      fecha factura                       nombre efectivo  \\\n",
            "0       1101  01-Jan-24     NaN          ALCALDIA DE INIRIDA        0   \n",
            "1       1129  01-Jan-24     NaN         MUNICIPIO DE CARTAGO        0   \n",
            "2        712  01-Feb-24     NaN  CIVILAR NEW PROYECTOS S.A.S        0   \n",
            "3        713  01-Feb-24     NaN   PB GRUPO PROFESIONAL S.A.S        0   \n",
            "4        914  01-Feb-24     NaN   PB GRUPO PROFESIONAL S.A.S        0   \n",
            "\n",
            "  consignacion cruces deducciones  \n",
            "0     68900,67      0           0  \n",
            "1         0,31      0           0  \n",
            "2  25689522,69      0           0  \n",
            "3   1422203,08      0           0  \n",
            "4   1422203,08      0           0  \n"
          ]
        }
      ],
      "source": [
        "import pandas as pd\n",
        "\n",
        "# Ruta con nombre del archivo csv en Google Drive\n",
        "ruta_csv = ruta_base + \"SOUL/RECAUDO2.csv\"\n",
        "\n",
        "# Leer archivo CSV delimitado por ','\n",
        "df_recaudos_csv = pd.read_csv(ruta_csv, delimiter=\";\")\n",
        "print(\"\\nDatos del archivo CSV:\")\n",
        "print(df_recaudos_csv.head())"
      ]
    },
    {
      "cell_type": "code",
      "execution_count": null,
      "metadata": {
        "colab": {
          "base_uri": "https://localhost:8080/"
        },
        "collapsed": true,
        "id": "pbuOO6ZDSuap",
        "outputId": "cdd4148a-d6a9-4a4d-993b-c2f9f8ea60c7"
      },
      "outputs": [
        {
          "name": "stdout",
          "output_type": "stream",
          "text": [
            "['documento', 'fecha', 'factura', 'nombre', 'efectivo', 'consignacion', 'cruces', 'deducciones']\n"
          ]
        }
      ],
      "source": [
        "# Traer el listado de todas las columnas\n",
        "columnas = df_recaudos_csv.columns.to_list()\n",
        "\n",
        "# Mostrar el resultado\n",
        "print(columnas)"
      ]
    },
    {
      "cell_type": "code",
      "execution_count": null,
      "metadata": {
        "colab": {
          "base_uri": "https://localhost:8080/"
        },
        "collapsed": true,
        "id": "ilZBAg2eT57q",
        "outputId": "ce2c5081-0040-43f5-ab0d-bbb52b16c9da"
      },
      "outputs": [
        {
          "name": "stdout",
          "output_type": "stream",
          "text": [
            "         fecha factura                       nombre consignacion deducciones  \\\n",
            "0    01-Jan-24     NaN          ALCALDIA DE INIRIDA     68900,67           0   \n",
            "1    01-Jan-24     NaN         MUNICIPIO DE CARTAGO         0,31           0   \n",
            "2    01-Feb-24     NaN  CIVILAR NEW PROYECTOS S.A.S  25689522,69           0   \n",
            "3    01-Feb-24     NaN   PB GRUPO PROFESIONAL S.A.S   1422203,08           0   \n",
            "4    01-Feb-24     NaN   PB GRUPO PROFESIONAL S.A.S   1422203,08           0   \n",
            "..         ...     ...                          ...          ...         ...   \n",
            "848  31-Dec-24     NaN                BANCO POPULAR         2147           0   \n",
            "849  31-Dec-24     NaN                BANCO POPULAR        17218           0   \n",
            "850  31-Dec-24     NaN                BANCO POPULAR        53520           0   \n",
            "851  31-Dec-24     NaN                BANCO POPULAR        60857           0   \n",
            "852  31-Dec-24     NaN                BANCO POPULAR        51586           0   \n",
            "\n",
            "                          nombre  \n",
            "0            ALCALDIA DE INIRIDA  \n",
            "1           MUNICIPIO DE CARTAGO  \n",
            "2    CIVILAR NEW PROYECTOS S.A.S  \n",
            "3     PB GRUPO PROFESIONAL S.A.S  \n",
            "4     PB GRUPO PROFESIONAL S.A.S  \n",
            "..                           ...  \n",
            "848                BANCO POPULAR  \n",
            "849                BANCO POPULAR  \n",
            "850                BANCO POPULAR  \n",
            "851                BANCO POPULAR  \n",
            "852                BANCO POPULAR  \n",
            "\n",
            "[853 rows x 6 columns]\n"
          ]
        }
      ],
      "source": [
        "# Seleccionar columnas de interes\n",
        "df_filtrado_recaudo_csv = df_recaudos_csv[['fecha','factura','nombre','consignacion','deducciones','nombre']]\n",
        "\n",
        "# Mostrar el resultado\n",
        "print(df_filtrado_recaudo_csv)"
      ]
    },
    {
      "cell_type": "code",
      "execution_count": null,
      "metadata": {
        "id": "zvya82rfU57Y"
      },
      "outputs": [],
      "source": [
        "# Definir la ruta donde guardaremos el archivo sin encabezado\n",
        "ruta_sin_encabezado = ruta_base + \"SOUL/df_filtrado_recaudo.csv\"\n",
        "\n",
        "# Guardar el DataFrame sin encabezado (header=False)\n",
        "df_filtrado_recaudo_csv.to_csv(ruta_sin_encabezado, index=False, header=True)"
      ]
    },
    {
      "cell_type": "markdown",
      "metadata": {
        "id": "W97avdrSEmpi"
      },
      "source": [
        "7. Ingesta SOUL - Facturacion 2024"
      ]
    },
    {
      "cell_type": "code",
      "execution_count": null,
      "metadata": {
        "colab": {
          "base_uri": "https://localhost:8080/"
        },
        "collapsed": true,
        "id": "PJMfUIheFIF6",
        "outputId": "677c1610-adcc-4d36-804a-ae7250591e5a"
      },
      "outputs": [
        {
          "name": "stdout",
          "output_type": "stream",
          "text": [
            "\n",
            "Datos del archivo CSV:\n",
            "       codigo      fecha  cod_articulo  nom_articulo  valor  aiu   subtotal  \\\n",
            "0  0000000001  29-Jan-24           NaN           NaN      0    0  6858940,8   \n",
            "1  0000000124  17-Jul-23           NaN           NaN      0    0  130250000   \n",
            "2  0000000127  17-Jul-23           NaN           NaN      0    0   25000000   \n",
            "3  0000000129  17-Jul-23           NaN           NaN      0    0   19989101   \n",
            "4  0000000146  25-Jul-23           NaN           NaN      0    0  450000000   \n",
            "\n",
            "       total       saldo  notas  tipo  cod_tercero  \\\n",
            "0  6858940,8           0      0   NaN    814006457   \n",
            "1  130250000           0      0   NaN    800100519   \n",
            "2   25000000           0      0   NaN    800100519   \n",
            "3   19989101    19989101      0   NaN    800100519   \n",
            "4  450000000  -450000000      0   NaN    891501047   \n",
            "\n",
            "                                        nom_tercero     abonos  \n",
            "0  FUNDACION DESARROLLO Y LIDERAZGO SOCAIL - FUNDER  6858940,8  \n",
            "1                              MUNICIPIO DE FLORIDA  130250000  \n",
            "2                              MUNICIPIO DE FLORIDA   25000000  \n",
            "3                              MUNICIPIO DE FLORIDA          0  \n",
            "4                              MUNICIPIO DE JAMBALÓ  900000000  \n"
          ]
        }
      ],
      "source": [
        "import pandas as pd\n",
        "\n",
        "# Ruta con nombre del archivo csv en Google Drive\n",
        "ruta_csv = ruta_base + \"SOUL/EXCEL_FACTURACION_2024.csv\"\n",
        "\n",
        "# Leer archivo CSV delimitado por ','\n",
        "df_facturacion_csv = pd.read_csv(ruta_csv, delimiter=\";\")\n",
        "print(\"\\nDatos del archivo CSV:\")\n",
        "print(df_facturacion_csv.head())"
      ]
    },
    {
      "cell_type": "code",
      "execution_count": null,
      "metadata": {
        "colab": {
          "base_uri": "https://localhost:8080/"
        },
        "collapsed": true,
        "id": "A3crhdePWgb3",
        "outputId": "ab636eb3-9725-4009-f11d-c3822cc50b16"
      },
      "outputs": [
        {
          "name": "stdout",
          "output_type": "stream",
          "text": [
            "['codigo', 'fecha', 'cod_articulo', 'nom_articulo', 'valor', 'aiu', 'subtotal', 'total', 'saldo', 'notas', 'tipo', 'cod_tercero', 'nom_tercero', 'abonos']\n"
          ]
        }
      ],
      "source": [
        "# Traer el listado de todas las columnas\n",
        "columnas = df_facturacion_csv.columns.to_list()\n",
        "\n",
        "# Mostrar el resultado\n",
        "print(columnas)"
      ]
    },
    {
      "cell_type": "code",
      "execution_count": null,
      "metadata": {
        "colab": {
          "base_uri": "https://localhost:8080/"
        },
        "collapsed": true,
        "id": "xyyZc4uAXS6o",
        "outputId": "bd74c372-2246-4382-eb58-66600b2c9fb1"
      },
      "outputs": [
        {
          "name": "stdout",
          "output_type": "stream",
          "text": [
            "          codigo      fecha    subtotal       total       saldo  \\\n",
            "0     0000000001  29-Jan-24   6858940,8   6858940,8           0   \n",
            "1     0000000124  17-Jul-23   130250000   130250000           0   \n",
            "2     0000000127  17-Jul-23    25000000    25000000           0   \n",
            "3     0000000129  17-Jul-23    19989101    19989101    19989101   \n",
            "4     0000000146  25-Jul-23   450000000   450000000  -450000000   \n",
            "...          ...        ...         ...         ...         ...   \n",
            "1051      FON995  09-Oct-24  8208577571  8208577571  8208577571   \n",
            "1052      FON996  09-Oct-24    19231410    19231410           0   \n",
            "1053      FON997  09-Oct-24   184990500   184990500           0   \n",
            "1054      FON998  09-Oct-24  8208577571  8208577571           0   \n",
            "1055      FON999  11-Oct-24   517320000   517320000   517320000   \n",
            "\n",
            "                                           nom_tercero      abonos  \\\n",
            "0     FUNDACION DESARROLLO Y LIDERAZGO SOCAIL - FUNDER   6858940,8   \n",
            "1                                 MUNICIPIO DE FLORIDA   130250000   \n",
            "2                                 MUNICIPIO DE FLORIDA    25000000   \n",
            "3                                 MUNICIPIO DE FLORIDA           0   \n",
            "4                                 MUNICIPIO DE JAMBALÓ   900000000   \n",
            "...                                                ...         ...   \n",
            "1051                             GOBERNACION DEL CHOCO           0   \n",
            "1052    ALCALDIA MUNICIPAL DE LA UNION VALLE DEL CAUCA    19231410   \n",
            "1053                              MUNICIPIO DE CARTAGO   184990500   \n",
            "1054                             GOBERNACION DEL CHOCO  8208577571   \n",
            "1055                           MUNICIPIO DE MONTENEGRO           0   \n",
            "\n",
            "                                           nom_tercero  \n",
            "0     FUNDACION DESARROLLO Y LIDERAZGO SOCAIL - FUNDER  \n",
            "1                                 MUNICIPIO DE FLORIDA  \n",
            "2                                 MUNICIPIO DE FLORIDA  \n",
            "3                                 MUNICIPIO DE FLORIDA  \n",
            "4                                 MUNICIPIO DE JAMBALÓ  \n",
            "...                                                ...  \n",
            "1051                             GOBERNACION DEL CHOCO  \n",
            "1052    ALCALDIA MUNICIPAL DE LA UNION VALLE DEL CAUCA  \n",
            "1053                              MUNICIPIO DE CARTAGO  \n",
            "1054                             GOBERNACION DEL CHOCO  \n",
            "1055                           MUNICIPIO DE MONTENEGRO  \n",
            "\n",
            "[1056 rows x 8 columns]\n"
          ]
        }
      ],
      "source": [
        "# Seleccionar columnas de interes\n",
        "df_filtrado_facturacion_csv = df_facturacion_csv[['codigo','fecha','subtotal','total','saldo','nom_tercero','abonos','nom_tercero']]\n",
        "\n",
        "# Mostrar el resultado\n",
        "print(df_filtrado_facturacion_csv)"
      ]
    },
    {
      "cell_type": "code",
      "execution_count": null,
      "metadata": {
        "id": "b5BVwRrnXzE_"
      },
      "outputs": [],
      "source": [
        "# Definir la ruta donde guardaremos el archivo sin encabezado\n",
        "ruta_sin_encabezado = ruta_base + \"SOUL/df_filtrado_facturacion.csv\"\n",
        "\n",
        "# Guardar el DataFrame sin encabezado (header=False)\n",
        "df_filtrado_facturacion_csv.to_csv(ruta_sin_encabezado, index=False, header=True)"
      ]
    },
    {
      "cell_type": "markdown",
      "metadata": {
        "id": "r_dkha_VbqzH"
      },
      "source": [
        "### Combinar Fuentes de SOUL"
      ]
    },
    {
      "cell_type": "code",
      "execution_count": null,
      "metadata": {
        "colab": {
          "base_uri": "https://localhost:8080/"
        },
        "collapsed": true,
        "id": "a93g7JBKbvu2",
        "outputId": "f9030d47-8c87-456a-923a-83a89dfb62aa"
      },
      "outputs": [
        {
          "name": "stdout",
          "output_type": "stream",
          "text": [
            "       fecha_x     factura                                             nombre  \\\n",
            "0    01-Feb-24  2024000880                        CIVILAR NEW PROYECTOS S.A.S   \n",
            "1    01-Feb-24  2024000881                         PB GRUPO PROFESIONAL S.A.S   \n",
            "2    01-Mar-24      FON728                              INGENIERÍA DANISA SAS   \n",
            "3    01-Apr-24  2024000112                    UNION TEMPORAL REFORESTAL CAUCA   \n",
            "4    01-Apr-24  2024000113                           JUAN MANUEL BEDOYA MUÑOZ   \n",
            "..         ...         ...                                                ...   \n",
            "633  31-Jul-24  2024000381                                 ASOCIACION CONECT@   \n",
            "634  31-Aug-24      FON963  GERENCIA INTEGRAL DE PROYECTOS OBRAS & CONSULT...   \n",
            "635  31-Aug-24  2024000444  PLATAFORMA DE COLABORACION E INNOVACION ABIERT...   \n",
            "636  31-Oct-24  2024000598         INGESOLUCIONES INGENIERIA Y SOLUCIONES SAS   \n",
            "637  31-Dec-24      ATE183                         YHON JAIRO SOLARTE DELGADO   \n",
            "\n",
            "    consignacion deducciones  \\\n",
            "0    25689522,69           0   \n",
            "1     1422203,08           0   \n",
            "2       12087264  1231110,23   \n",
            "3     8382448,83           0   \n",
            "4       464587,6           0   \n",
            "..           ...         ...   \n",
            "633       245991           0   \n",
            "634   1157914,86           0   \n",
            "635       245991           0   \n",
            "636   9727597,32           0   \n",
            "637    765418,03           0   \n",
            "\n",
            "                                              nombre.1      codigo    fecha_y  \\\n",
            "0                          CIVILAR NEW PROYECTOS S.A.S  2024000880  01-Feb-24   \n",
            "1                           PB GRUPO PROFESIONAL S.A.S  2024000881  01-Feb-24   \n",
            "2                                INGENIERÍA DANISA SAS      FON728  27-Feb-24   \n",
            "3                      UNION TEMPORAL REFORESTAL CAUCA  2024000112  01-Apr-24   \n",
            "4                             JUAN MANUEL BEDOYA MUÑOZ  2024000113  01-Apr-24   \n",
            "..                                                 ...         ...        ...   \n",
            "633                                 ASOCIACION CONECT@  2024000381  31-Jul-24   \n",
            "634  GERENCIA INTEGRAL DE PROYECTOS OBRAS & CONSULT...      FON963  31-Aug-24   \n",
            "635  PLATAFORMA DE COLABORACION E INNOVACION ABIERT...  2024000444  31-Aug-24   \n",
            "636         INGESOLUCIONES INGENIERIA Y SOLUCIONES SAS  2024000598  29-Oct-24   \n",
            "637                         YHON JAIRO SOLARTE DELGADO      ATE183  27-Dec-24   \n",
            "\n",
            "        subtotal        total      saldo  \\\n",
            "0    25689522,69  25689522,69          0   \n",
            "1     1422203,08   1422203,08          0   \n",
            "2    13318374,23  13318374,23          0   \n",
            "3     8382448,83   8382448,83          0   \n",
            "4       464587,6     464587,6          0   \n",
            "..           ...          ...        ...   \n",
            "633       245991       245991          0   \n",
            "634   1377918,68   1377918,68  220003,82   \n",
            "635       245991       245991          0   \n",
            "636   9727597,32   9727597,32          0   \n",
            "637    765418,03    765418,03          0   \n",
            "\n",
            "                                           nom_tercero       abonos  \\\n",
            "0                          CIVILAR NEW PROYECTOS S.A.S  25689522,69   \n",
            "1                           PB GRUPO PROFESIONAL S.A.S   1422203,08   \n",
            "2                                INGENIERÍA DANISA SAS  13318374,23   \n",
            "3                      UNION TEMPORAL REFORESTAL CAUCA   8382448,83   \n",
            "4                             JUAN MANUEL BEDOYA MUÑOZ     464587,6   \n",
            "..                                                 ...          ...   \n",
            "633                                 ASOCIACION CONECT@       245991   \n",
            "634  GERENCIA INTEGRAL DE PROYECTOS OBRAS & CONSULT...   1157914,86   \n",
            "635                                 ASOCIACION CONECT@       245991   \n",
            "636         INGESOLUCIONES INGENIERIA Y SOLUCIONES SAS   9727597,32   \n",
            "637                         YHON JAIRO SOLARTE DELGADO    765418,03   \n",
            "\n",
            "                                         nom_tercero.1  \n",
            "0                          CIVILAR NEW PROYECTOS S.A.S  \n",
            "1                           PB GRUPO PROFESIONAL S.A.S  \n",
            "2                                INGENIERÍA DANISA SAS  \n",
            "3                      UNION TEMPORAL REFORESTAL CAUCA  \n",
            "4                             JUAN MANUEL BEDOYA MUÑOZ  \n",
            "..                                                 ...  \n",
            "633                                 ASOCIACION CONECT@  \n",
            "634  GERENCIA INTEGRAL DE PROYECTOS OBRAS & CONSULT...  \n",
            "635                                 ASOCIACION CONECT@  \n",
            "636         INGESOLUCIONES INGENIERIA Y SOLUCIONES SAS  \n",
            "637                         YHON JAIRO SOLARTE DELGADO  \n",
            "\n",
            "[638 rows x 14 columns]\n"
          ]
        }
      ],
      "source": [
        "import pandas as pd\n",
        "\n",
        "# Cargar los archivos CSV\n",
        "df_recaudo = pd.read_csv('/content/drive/My Drive/Archivos Fuentes/SOUL/df_filtrado_recaudo.csv')\n",
        "df_facturacion = pd.read_csv('/content/drive/My Drive/Archivos Fuentes/SOUL/df_filtrado_facturacion.csv')\n",
        "\n",
        "# Realizar el merge entre los dos DataFrames\n",
        "df_combinado_facturacion_recaudos = pd.merge(df_recaudo, df_facturacion, left_on='factura', right_on='codigo', how='inner')\n",
        "\n",
        "# Mostrar el DataFrame combinado\n",
        "print(df_combinado_facturacion_recaudos)\n",
        "\n",
        "# Si deseas guardar el DataFrame combinado en un nuevo archivo CSV:\n",
        "ruta_salida = '/content/drive/My Drive/Archivos Fuentes/SOUL/df_combinado_facturacion_recaudos.csv'\n",
        "df_combinado_facturacion_recaudos.to_csv(ruta_salida, index=False)"
      ]
    },
    {
      "cell_type": "markdown",
      "metadata": {
        "id": "1Avyf8LZ4a35"
      },
      "source": [
        "### Combinar Fuentes de SOUL Y Matriz Proyectos"
      ]
    },
    {
      "cell_type": "code",
      "execution_count": null,
      "metadata": {
        "colab": {
          "base_uri": "https://localhost:8080/"
        },
        "collapsed": true,
        "id": "uVQCwmH64d4y",
        "outputId": "d17fa088-7a4b-42b2-8896-f7cddb226728"
      },
      "outputs": [
        {
          "name": "stdout",
          "output_type": "stream",
          "text": [
            "      fecha_x     factura                                             nombre  \\\n",
            "0   01-Aug-24  2024000382  PLATAFORMA DE COLABORACION E INNOVACION ABIERT...   \n",
            "1   03-Jan-24  0000000545                                 ASOCIACION CONECT@   \n",
            "2   03-Jul-24  2024000315  PLATAFORMA DE COLABORACION E INNOVACION ABIERT...   \n",
            "3   03-Jul-24  2024000316  PLATAFORMA DE COLABORACION E INNOVACION ABIERT...   \n",
            "4   03-Jul-24  2024000317  PLATAFORMA DE COLABORACION E INNOVACION ABIERT...   \n",
            "..        ...         ...                                                ...   \n",
            "56  29-Nov-24  2024000632                                 ASOCIACION CONECT@   \n",
            "57  30-Aug-24  2024000440  PLATAFORMA DE COLABORACION E INNOVACION ABIERT...   \n",
            "58  30-Dec-24      ATE127                          CONSORCIO PANELES SOLARES   \n",
            "59  31-Jul-24  2024000381                                 ASOCIACION CONECT@   \n",
            "60  31-Aug-24  2024000444  PLATAFORMA DE COLABORACION E INNOVACION ABIERT...   \n",
            "\n",
            "   consignacion deducciones  \\\n",
            "0        245991           0   \n",
            "1     524300,93           0   \n",
            "2       1792837           0   \n",
            "3        245991           0   \n",
            "4       3200000           0   \n",
            "..          ...         ...   \n",
            "56     245990,5           0   \n",
            "57       500000           0   \n",
            "58    7289304,4      742429   \n",
            "59       245991           0   \n",
            "60       245991           0   \n",
            "\n",
            "                                             nombre.1      codigo    fecha_y  \\\n",
            "0   PLATAFORMA DE COLABORACION E INNOVACION ABIERT...  2024000382  01-Aug-24   \n",
            "1                                  ASOCIACION CONECT@  0000000545  03-Jan-24   \n",
            "2   PLATAFORMA DE COLABORACION E INNOVACION ABIERT...  2024000315  03-Jul-24   \n",
            "3   PLATAFORMA DE COLABORACION E INNOVACION ABIERT...  2024000316  03-Jul-24   \n",
            "4   PLATAFORMA DE COLABORACION E INNOVACION ABIERT...  2024000317  03-Jul-24   \n",
            "..                                                ...         ...        ...   \n",
            "56                                 ASOCIACION CONECT@  2024000632  08-Nov-24   \n",
            "57  PLATAFORMA DE COLABORACION E INNOVACION ABIERT...  2024000440  30-Aug-24   \n",
            "58                          CONSORCIO PANELES SOLARES      ATE127  28-Nov-24   \n",
            "59                                 ASOCIACION CONECT@  2024000381  31-Jul-24   \n",
            "60  PLATAFORMA DE COLABORACION E INNOVACION ABIERT...  2024000444  31-Aug-24   \n",
            "\n",
            "     subtotal      total  ...  Valor Aporte de la Entidad ($)  \\\n",
            "0      245991     245991  ...               $ 118.660.000,00    \n",
            "1   524300,93  524300,93  ...               $ 118.660.000,00    \n",
            "2     1792837    1792837  ...               $ 118.660.000,00    \n",
            "3      245991     245991  ...               $ 118.660.000,00    \n",
            "4     3200000    3200000  ...               $ 118.660.000,00    \n",
            "..        ...        ...  ...                             ...   \n",
            "56   245990,5   245990,5  ...               $ 118.660.000,00    \n",
            "57     500000     500000  ...               $ 118.660.000,00    \n",
            "58  8031733,4  8031733,4  ...               $ 893.868.374,00    \n",
            "59     245991     245991  ...               $ 118.660.000,00    \n",
            "60     245991     245991  ...               $ 118.660.000,00    \n",
            "\n",
            "                  N Proyecto / Contrato / Convenio /   \\\n",
            "0   CONVENIO INTERADMINISTRATIVO N° 003 DE 2024. P...   \n",
            "1   CONVENIO INTERADMINISTRATIVO N° 003 DE 2024. P...   \n",
            "2   CONVENIO INTERADMINISTRATIVO N° 003 DE 2024. P...   \n",
            "3   CONVENIO INTERADMINISTRATIVO N° 003 DE 2024. P...   \n",
            "4   CONVENIO INTERADMINISTRATIVO N° 003 DE 2024. P...   \n",
            "..                                                ...   \n",
            "56  CONVENIO INTERADMINISTRATIVO N° 003 DE 2024. P...   \n",
            "57  CONVENIO INTERADMINISTRATIVO N° 003 DE 2024. P...   \n",
            "58  EJECUTOR DE REGALIAS BPIN  2022868850111 CONST...   \n",
            "59  CONVENIO INTERADMINISTRATIVO N° 003 DE 2024. P...   \n",
            "60  CONVENIO INTERADMINISTRATIVO N° 003 DE 2024. P...   \n",
            "\n",
            "         Entidad Contratante Departamento     Año  \\\n",
            "0      MUNICIPIO DE SALENTO       QUINDIO  2024.0   \n",
            "1      MUNICIPIO DE SALENTO       QUINDIO  2024.0   \n",
            "2      MUNICIPIO DE SALENTO       QUINDIO  2024.0   \n",
            "3      MUNICIPIO DE SALENTO       QUINDIO  2024.0   \n",
            "4      MUNICIPIO DE SALENTO       QUINDIO  2024.0   \n",
            "..                       ...          ...     ...   \n",
            "56     MUNICIPIO DE SALENTO       QUINDIO  2024.0   \n",
            "57     MUNICIPIO DE SALENTO       QUINDIO  2024.0   \n",
            "58  MUNICIPIO DE VILLAGARZÓN     PUTUMAYO  2024.0   \n",
            "59     MUNICIPIO DE SALENTO       QUINDIO  2024.0   \n",
            "60     MUNICIPIO DE SALENTO       QUINDIO  2024.0   \n",
            "\n",
            "    Valor Aporte de la Entidad ($).1 Porcentaje Aporte de la Entidad (%)  \\\n",
            "0                  $ 118.660.000,00                               93,66%   \n",
            "1                  $ 118.660.000,00                               93,66%   \n",
            "2                  $ 118.660.000,00                               93,66%   \n",
            "3                  $ 118.660.000,00                               93,66%   \n",
            "4                  $ 118.660.000,00                               93,66%   \n",
            "..                               ...                                 ...   \n",
            "56                 $ 118.660.000,00                               93,66%   \n",
            "57                 $ 118.660.000,00                               93,66%   \n",
            "58                 $ 893.868.374,00                              100,00%   \n",
            "59                 $ 118.660.000,00                               93,66%   \n",
            "60                 $ 118.660.000,00                               93,66%   \n",
            "\n",
            "   Valor Aporte de Fonpacífico ($) Porcentaje Aporte de Fonpacífico (%)  \\\n",
            "0                    $8.036.000,00                                6,34%   \n",
            "1                    $8.036.000,00                                6,34%   \n",
            "2                    $8.036.000,00                                6,34%   \n",
            "3                    $8.036.000,00                                6,34%   \n",
            "4                    $8.036.000,00                                6,34%   \n",
            "..                             ...                                  ...   \n",
            "56                   $8.036.000,00                                6,34%   \n",
            "57                   $8.036.000,00                                6,34%   \n",
            "58                           $0,00                                0,00%   \n",
            "59                   $8.036.000,00                                6,34%   \n",
            "60                   $8.036.000,00                                6,34%   \n",
            "\n",
            "         Entidad del Derivado  \n",
            "0          ASOCIACION CONECT@  \n",
            "1          ASOCIACION CONECT@  \n",
            "2          ASOCIACION CONECT@  \n",
            "3          ASOCIACION CONECT@  \n",
            "4          ASOCIACION CONECT@  \n",
            "..                        ...  \n",
            "56         ASOCIACION CONECT@  \n",
            "57         ASOCIACION CONECT@  \n",
            "58  CONSORCIO PANELES SOLARES  \n",
            "59         ASOCIACION CONECT@  \n",
            "60         ASOCIACION CONECT@  \n",
            "\n",
            "[61 rows x 26 columns]\n"
          ]
        }
      ],
      "source": [
        "import pandas as pd\n",
        "\n",
        "# Cargar los archivos CSV\n",
        "\n",
        "df_combinado_facturacion_recaudos = pd.read_csv('/content/drive/My Drive/Archivos Fuentes/SOUL/df_combinado_facturacion_recaudos.csv')\n",
        "df_matrizgestionproyectos = pd.read_csv('/content/drive/My Drive/Archivos Fuentes/MATRIZ_PROYECTOS/df_filtrado_matrizgestionproyectos_2024.csv')\n",
        "\n",
        "# Realizar el merge entre los dos DataFrames\n",
        "df_combinado_facturacion_recaudos_matriz = pd.merge(df_combinado_facturacion_recaudos, df_matrizgestionproyectos, left_on='nom_tercero', right_on='Entidad del Derivado', how='inner')\n",
        "\n",
        "# Mostrar el DataFrame combinado\n",
        "print(df_combinado_facturacion_recaudos_matriz)\n",
        "\n",
        "# Si deseas guardar el DataFrame combinado en un nuevo archivo CSV:\n",
        "ruta_salida = '/content/drive/My Drive/Archivos Fuentes/RESULTADO_SOUL_MATRIZ/df_combinado_facturacion_recaudos_matriz.csv'\n",
        "df_combinado_facturacion_recaudos_matriz.to_csv(ruta_salida, index=False)"
      ]
    },
    {
      "cell_type": "markdown",
      "metadata": {
        "id": "IXNeLTYZZ6RJ"
      },
      "source": [
        "### Limpieza Matriz Combinada SOUL Y Matriz Proyectos\n",
        "\n",
        "\n",
        "\n"
      ]
    },
    {
      "cell_type": "code",
      "execution_count": null,
      "metadata": {
        "colab": {
          "base_uri": "https://localhost:8080/"
        },
        "collapsed": true,
        "id": "nFqxq1iaaM2o",
        "outputId": "552e3740-137b-4c37-f372-67c262f626b1"
      },
      "outputs": [
        {
          "name": "stdout",
          "output_type": "stream",
          "text": [
            "      fecha_x     factura                                             nombre  \\\n",
            "0   01-Aug-24  2024000382  PLATAFORMA DE COLABORACION E INNOVACION ABIERT...   \n",
            "1   03-Jan-24  0000000545                                 ASOCIACION CONECT@   \n",
            "2   03-Jul-24  2024000315  PLATAFORMA DE COLABORACION E INNOVACION ABIERT...   \n",
            "3   03-Jul-24  2024000316  PLATAFORMA DE COLABORACION E INNOVACION ABIERT...   \n",
            "4   03-Jul-24  2024000317  PLATAFORMA DE COLABORACION E INNOVACION ABIERT...   \n",
            "..        ...         ...                                                ...   \n",
            "56  29-Nov-24  2024000632                                 ASOCIACION CONECT@   \n",
            "57  30-Aug-24  2024000440  PLATAFORMA DE COLABORACION E INNOVACION ABIERT...   \n",
            "58  30-Dec-24      ATE127                          CONSORCIO PANELES SOLARES   \n",
            "59  31-Jul-24  2024000381                                 ASOCIACION CONECT@   \n",
            "60  31-Aug-24  2024000444  PLATAFORMA DE COLABORACION E INNOVACION ABIERT...   \n",
            "\n",
            "   consignacion deducciones      codigo    fecha_y      total saldo  \\\n",
            "0        245991           0  2024000382  01-Aug-24     245991     0   \n",
            "1     524300,93           0  0000000545  03-Jan-24  524300,93     0   \n",
            "2       1792837           0  2024000315  03-Jul-24    1792837     0   \n",
            "3        245991           0  2024000316  03-Jul-24     245991     0   \n",
            "4       3200000           0  2024000317  03-Jul-24    3200000     0   \n",
            "..          ...         ...         ...        ...        ...   ...   \n",
            "56     245990,5           0  2024000632  08-Nov-24   245990,5     0   \n",
            "57       500000           0  2024000440  30-Aug-24     500000     0   \n",
            "58    7289304,4      742429      ATE127  28-Nov-24  8031733,4     0   \n",
            "59       245991           0  2024000381  31-Jul-24     245991     0   \n",
            "60       245991           0  2024000444  31-Aug-24     245991     0   \n",
            "\n",
            "       abonos               Estado Principal  Valor Aporte de la Entidad ($)  \\\n",
            "0      245991                      Ejecución               $ 118.660.000,00    \n",
            "1   524300,93                      Ejecución               $ 118.660.000,00    \n",
            "2     1792837                      Ejecución               $ 118.660.000,00    \n",
            "3      245991                      Ejecución               $ 118.660.000,00    \n",
            "4     3200000                      Ejecución               $ 118.660.000,00    \n",
            "..        ...                            ...                             ...   \n",
            "56   245990,5                      Ejecución               $ 118.660.000,00    \n",
            "57     500000                      Ejecución               $ 118.660.000,00    \n",
            "58  8031733,4  Terminado pendiente por pagar               $ 893.868.374,00    \n",
            "59     245991                      Ejecución               $ 118.660.000,00    \n",
            "60     245991                      Ejecución               $ 118.660.000,00    \n",
            "\n",
            "                  N Proyecto / Contrato / Convenio /   \\\n",
            "0   CONVENIO INTERADMINISTRATIVO N° 003 DE 2024. P...   \n",
            "1   CONVENIO INTERADMINISTRATIVO N° 003 DE 2024. P...   \n",
            "2   CONVENIO INTERADMINISTRATIVO N° 003 DE 2024. P...   \n",
            "3   CONVENIO INTERADMINISTRATIVO N° 003 DE 2024. P...   \n",
            "4   CONVENIO INTERADMINISTRATIVO N° 003 DE 2024. P...   \n",
            "..                                                ...   \n",
            "56  CONVENIO INTERADMINISTRATIVO N° 003 DE 2024. P...   \n",
            "57  CONVENIO INTERADMINISTRATIVO N° 003 DE 2024. P...   \n",
            "58  EJECUTOR DE REGALIAS BPIN  2022868850111 CONST...   \n",
            "59  CONVENIO INTERADMINISTRATIVO N° 003 DE 2024. P...   \n",
            "60  CONVENIO INTERADMINISTRATIVO N° 003 DE 2024. P...   \n",
            "\n",
            "         Entidad Contratante Porcentaje Aporte de la Entidad (%)  \\\n",
            "0      MUNICIPIO DE SALENTO                               93,66%   \n",
            "1      MUNICIPIO DE SALENTO                               93,66%   \n",
            "2      MUNICIPIO DE SALENTO                               93,66%   \n",
            "3      MUNICIPIO DE SALENTO                               93,66%   \n",
            "4      MUNICIPIO DE SALENTO                               93,66%   \n",
            "..                       ...                                 ...   \n",
            "56     MUNICIPIO DE SALENTO                               93,66%   \n",
            "57     MUNICIPIO DE SALENTO                               93,66%   \n",
            "58  MUNICIPIO DE VILLAGARZÓN                             100,00%   \n",
            "59     MUNICIPIO DE SALENTO                               93,66%   \n",
            "60     MUNICIPIO DE SALENTO                               93,66%   \n",
            "\n",
            "   Valor Aporte de Fonpacífico ($) Porcentaje Aporte de Fonpacífico (%)  \n",
            "0                    $8.036.000,00                                6,34%  \n",
            "1                    $8.036.000,00                                6,34%  \n",
            "2                    $8.036.000,00                                6,34%  \n",
            "3                    $8.036.000,00                                6,34%  \n",
            "4                    $8.036.000,00                                6,34%  \n",
            "..                             ...                                  ...  \n",
            "56                   $8.036.000,00                                6,34%  \n",
            "57                   $8.036.000,00                                6,34%  \n",
            "58                           $0,00                                0,00%  \n",
            "59                   $8.036.000,00                                6,34%  \n",
            "60                   $8.036.000,00                                6,34%  \n",
            "\n",
            "[61 rows x 17 columns]\n"
          ]
        }
      ],
      "source": [
        "import pandas as pd\n",
        "\n",
        "# Cargar los archivos CSV\n",
        "df_combinado_facturacion_recaudos_matriz = pd.read_csv('/content/drive/My Drive/Archivos Fuentes/RESULTADO_SOUL_MATRIZ/df_combinado_facturacion_recaudos_matriz.csv')\n",
        "\n",
        "# Eliminar columnas específicas\n",
        "df_combinado_facturacion_recaudos_matriz2 = df_combinado_facturacion_recaudos_matriz.drop(\n",
        "    columns=['nom_tercero', 'nom_tercero.1', 'Entidad del Derivado','Departamento','Año','nombre.1',' Valor Aporte de la Entidad ($).1','Estado Derivados','subtotal']\n",
        ")\n",
        "\n",
        "# Mostrar el DataFrame después de eliminar las columnas\n",
        "print(df_combinado_facturacion_recaudos_matriz2)\n",
        "\n",
        "# Definir la ruta donde se guardará el archivo\n",
        "ruta_salida = '/content/drive/My Drive/Archivos Fuentes/RESULTADO_SOUL_MATRIZ/df_combinado_facturacion_recaudos_matriz2.csv'\n",
        "\n",
        "# Guardar el DataFrame modificado en un nuevo archivo CSV\n",
        "df_combinado_facturacion_recaudos_matriz2.to_csv(ruta_salida, index=False)"
      ]
    },
    {
      "cell_type": "markdown",
      "metadata": {
        "id": "6UCR99ARf5re"
      },
      "source": [
        "### Filtrar el DataFrame por la columna \"Estado Derivados\""
      ]
    },
    {
      "cell_type": "code",
      "execution_count": null,
      "metadata": {
        "colab": {
          "base_uri": "https://localhost:8080/"
        },
        "collapsed": true,
        "id": "yYQ9yTCBf68t",
        "outputId": "19467bab-29c1-4741-e00d-e0f7d65543d1"
      },
      "outputs": [
        {
          "name": "stdout",
          "output_type": "stream",
          "text": [
            "      fecha_x     factura                                             nombre  \\\n",
            "0   01-Aug-24  2024000382  PLATAFORMA DE COLABORACION E INNOVACION ABIERT...   \n",
            "1   03-Jan-24  0000000545                                 ASOCIACION CONECT@   \n",
            "2   03-Jul-24  2024000315  PLATAFORMA DE COLABORACION E INNOVACION ABIERT...   \n",
            "3   03-Jul-24  2024000316  PLATAFORMA DE COLABORACION E INNOVACION ABIERT...   \n",
            "4   03-Jul-24  2024000317  PLATAFORMA DE COLABORACION E INNOVACION ABIERT...   \n",
            "15  07-May-24  2024000192                      CONSORCIO AGUAS DE COLOMBIA 2   \n",
            "16  08-Aug-24  2024000396                      CONSORCIO AGUAS DE COLOMBIA 2   \n",
            "18  11-Apr-24  2024000175  PLATAFORMA DE COLABORACION E INNOVACION ABIERT...   \n",
            "28  15-Aug-24  2024000396                      CONSORCIO AGUAS DE COLOMBIA 2   \n",
            "30  18-Oct-24  2024000636                                 ASOCIACION CONECT@   \n",
            "31  18-Oct-24  2024000639                                 ASOCIACION CONECT@   \n",
            "32  19-Jun-24  2024000280                      CONSORCIO AGUAS DE COLOMBIA 2   \n",
            "34  19-Jul-24  2024000360  PLATAFORMA DE COLABORACION E INNOVACION ABIERT...   \n",
            "41  20-Nov-24  2024000677                                 ASOCIACION CONECT@   \n",
            "42  20-Dec-24      ATE158                    CONSORCIO CUBIERTA LA ESPERANZA   \n",
            "44  22-Apr-24  2024000176  PLATAFORMA DE COLABORACION E INNOVACION ABIERT...   \n",
            "45  22-Jul-24  2024000364  PLATAFORMA DE COLABORACION E INNOVACION ABIERT...   \n",
            "46  24-Jun-24  2024000291                        ANGULARQ CONSTRUCCIONES SAS   \n",
            "47  24-Oct-24       ATE61                    CONSORCIO CUBIERTA LA ESPERANZA   \n",
            "48  25-Apr-24  2024000187  PLATAFORMA DE COLABORACION E INNOVACION ABIERT...   \n",
            "49  26-Aug-24  2024000433  PLATAFORMA DE COLABORACION E INNOVACION ABIERT...   \n",
            "50  26-Aug-24  2024000432  PLATAFORMA DE COLABORACION E INNOVACION ABIERT...   \n",
            "51  26-Aug-24  2024000431  PLATAFORMA DE COLABORACION E INNOVACION ABIERT...   \n",
            "52  27-Aug-24      FON956                        ANGULARQ CONSTRUCCIONES SAS   \n",
            "54  28-Oct-24        ATE3                        ANGULARQ CONSTRUCCIONES SAS   \n",
            "55  29-Nov-24  2024000699                                 ASOCIACION CONECT@   \n",
            "56  29-Nov-24  2024000632                                 ASOCIACION CONECT@   \n",
            "57  30-Aug-24  2024000440  PLATAFORMA DE COLABORACION E INNOVACION ABIERT...   \n",
            "59  31-Jul-24  2024000381                                 ASOCIACION CONECT@   \n",
            "60  31-Aug-24  2024000444  PLATAFORMA DE COLABORACION E INNOVACION ABIERT...   \n",
            "\n",
            "   consignacion deducciones      codigo    fecha_y        total        saldo  \\\n",
            "0        245991           0  2024000382  01-Aug-24       245991            0   \n",
            "1     524300,93           0  0000000545  03-Jan-24    524300,93            0   \n",
            "2       1792837           0  2024000315  03-Jul-24      1792837            0   \n",
            "3        245991           0  2024000316  03-Jul-24       245991            0   \n",
            "4       3200000           0  2024000317  03-Jul-24      3200000            0   \n",
            "15     57238383         0,9  2024000192  29-Apr-24   57238383,9            0   \n",
            "16     17485627           0  2024000396  02-Aug-24  37570854,75  20085227,75   \n",
            "18       245991           0  2024000175  11-Apr-24       245991            0   \n",
            "28     17485627           0  2024000396  02-Aug-24  37570854,75  20085227,75   \n",
            "30       171250           0  2024000636  08-Nov-24       171250            0   \n",
            "31     961570,5           0  2024000639  08-Nov-24     961570,5            0   \n",
            "32  29192079,27           0  2024000280  18-Jun-24  29192079,27            0   \n",
            "34            0           0  2024000360  19-Jul-24      1100000            0   \n",
            "41      1333750           0  2024000677  22-Nov-24      1333750            0   \n",
            "42  13178544,01   458384,89      ATE158  17-Dec-24   13636928,9            0   \n",
            "44      1933125           0  2024000176  22-Apr-24      1933125            0   \n",
            "45       500000           0  2024000364  22-Jul-24       500000            0   \n",
            "46  28143635,06           0  2024000291  20-Jun-24  28143635,06            0   \n",
            "47  28880412,86   1004536,1       ATE61  09-Oct-24  29884948,96            0   \n",
            "48      1607200           0  2024000187  29-Apr-24      1607200            0   \n",
            "49       150000           0  2024000433  26-Aug-24       150000            0   \n",
            "50    2113359,7           0  2024000432  26-Aug-24    2113359,7            0   \n",
            "51       980800           0  2024000431  26-Aug-24       980800            0   \n",
            "52     24424067   849532,56      FON956  26-Aug-24  25273599,56            0   \n",
            "54     24657383        0,25        ATE3  12-Sep-24  24657383,25            0   \n",
            "55     245990,5           0  2024000699  29-Nov-24     245990,5            0   \n",
            "56     245990,5           0  2024000632  08-Nov-24     245990,5            0   \n",
            "57       500000           0  2024000440  30-Aug-24       500000            0   \n",
            "59       245991           0  2024000381  31-Jul-24       245991            0   \n",
            "60       245991           0  2024000444  31-Aug-24       245991            0   \n",
            "\n",
            "         abonos Estado Principal  Valor Aporte de la Entidad ($)  \\\n",
            "0        245991        Ejecución               $ 118.660.000,00    \n",
            "1     524300,93        Ejecución               $ 118.660.000,00    \n",
            "2       1792837        Ejecución               $ 118.660.000,00    \n",
            "3        245991        Ejecución               $ 118.660.000,00    \n",
            "4       3200000        Ejecución               $ 118.660.000,00    \n",
            "15   57238383,9        Ejecución             $ 3.066.068.906,00    \n",
            "16     17485627        Ejecución             $ 3.066.068.906,00    \n",
            "18       245991        Ejecución               $ 118.660.000,00    \n",
            "28     17485627        Ejecución             $ 3.066.068.906,00    \n",
            "30       171250        Ejecución               $ 118.660.000,00    \n",
            "31     961570,5        Ejecución               $ 118.660.000,00    \n",
            "32  29192079,27        Ejecución             $ 3.066.068.906,00    \n",
            "34      1100000        Ejecución               $ 118.660.000,00    \n",
            "41      1333750        Ejecución               $ 118.660.000,00    \n",
            "42   13636928,9        Ejecución             $ 2.193.285.542,00    \n",
            "44      1933125        Ejecución               $ 118.660.000,00    \n",
            "45       500000        Ejecución               $ 118.660.000,00    \n",
            "46  28143635,06        Ejecución             $ 2.410.344.254,00    \n",
            "47  29884948,96        Ejecución             $ 2.193.285.542,00    \n",
            "48      1607200        Ejecución               $ 118.660.000,00    \n",
            "49       150000        Ejecución               $ 118.660.000,00    \n",
            "50    2113359,7        Ejecución               $ 118.660.000,00    \n",
            "51       980800        Ejecución               $ 118.660.000,00    \n",
            "52  25273599,56        Ejecución             $ 2.410.344.254,00    \n",
            "54  24657383,25        Ejecución             $ 2.410.344.254,00    \n",
            "55     245990,5        Ejecución               $ 118.660.000,00    \n",
            "56     245990,5        Ejecución               $ 118.660.000,00    \n",
            "57       500000        Ejecución               $ 118.660.000,00    \n",
            "59       245991        Ejecución               $ 118.660.000,00    \n",
            "60       245991        Ejecución               $ 118.660.000,00    \n",
            "\n",
            "                  N Proyecto / Contrato / Convenio /   \\\n",
            "0   CONVENIO INTERADMINISTRATIVO N° 003 DE 2024. P...   \n",
            "1   CONVENIO INTERADMINISTRATIVO N° 003 DE 2024. P...   \n",
            "2   CONVENIO INTERADMINISTRATIVO N° 003 DE 2024. P...   \n",
            "3   CONVENIO INTERADMINISTRATIVO N° 003 DE 2024. P...   \n",
            "4   CONVENIO INTERADMINISTRATIVO N° 003 DE 2024. P...   \n",
            "15  EJECUTOR DE REGALIAS BPIN 2024415240008 OPTIMI...   \n",
            "16  EJECUTOR DE REGALIAS BPIN 2024415240008 OPTIMI...   \n",
            "18  CONVENIO INTERADMINISTRATIVO N° 003 DE 2024. P...   \n",
            "28  EJECUTOR DE REGALIAS BPIN 2024415240008 OPTIMI...   \n",
            "30  CONVENIO INTERADMINISTRATIVO N° 003 DE 2024. P...   \n",
            "31  CONVENIO INTERADMINISTRATIVO N° 003 DE 2024. P...   \n",
            "32  EJECUTOR DE REGALIAS BPIN 2024415240008 OPTIMI...   \n",
            "34  CONVENIO INTERADMINISTRATIVO N° 003 DE 2024. P...   \n",
            "41  CONVENIO INTERADMINISTRATIVO N° 003 DE 2024. P...   \n",
            "42  EJECUTOR DE REGALIAS BPIN 2024868850028 CONSTR...   \n",
            "44  CONVENIO INTERADMINISTRATIVO N° 003 DE 2024. P...   \n",
            "45  CONVENIO INTERADMINISTRATIVO N° 003 DE 2024. P...   \n",
            "46  EJECUTOR DE REGALIAS BPIN 2024274500046 CONSTR...   \n",
            "47  EJECUTOR DE REGALIAS BPIN 2024868850028 CONSTR...   \n",
            "48  CONVENIO INTERADMINISTRATIVO N° 003 DE 2024. P...   \n",
            "49  CONVENIO INTERADMINISTRATIVO N° 003 DE 2024. P...   \n",
            "50  CONVENIO INTERADMINISTRATIVO N° 003 DE 2024. P...   \n",
            "51  CONVENIO INTERADMINISTRATIVO N° 003 DE 2024. P...   \n",
            "52  EJECUTOR DE REGALIAS BPIN 2024274500046 CONSTR...   \n",
            "54  EJECUTOR DE REGALIAS BPIN 2024274500046 CONSTR...   \n",
            "55  CONVENIO INTERADMINISTRATIVO N° 003 DE 2024. P...   \n",
            "56  CONVENIO INTERADMINISTRATIVO N° 003 DE 2024. P...   \n",
            "57  CONVENIO INTERADMINISTRATIVO N° 003 DE 2024. P...   \n",
            "59  CONVENIO INTERADMINISTRATIVO N° 003 DE 2024. P...   \n",
            "60  CONVENIO INTERADMINISTRATIVO N° 003 DE 2024. P...   \n",
            "\n",
            "            Entidad Contratante Porcentaje Aporte de la Entidad (%)  \\\n",
            "0         MUNICIPIO DE SALENTO                               93,66%   \n",
            "1         MUNICIPIO DE SALENTO                               93,66%   \n",
            "2         MUNICIPIO DE SALENTO                               93,66%   \n",
            "3         MUNICIPIO DE SALENTO                               93,66%   \n",
            "4         MUNICIPIO DE SALENTO                               93,66%   \n",
            "15        MUNICIPIO DE PALERMO                              100,00%   \n",
            "16        MUNICIPIO DE PALERMO                              100,00%   \n",
            "18        MUNICIPIO DE SALENTO                               93,66%   \n",
            "28        MUNICIPIO DE PALERMO                              100,00%   \n",
            "30        MUNICIPIO DE SALENTO                               93,66%   \n",
            "31        MUNICIPIO DE SALENTO                               93,66%   \n",
            "32        MUNICIPIO DE PALERMO                              100,00%   \n",
            "34        MUNICIPIO DE SALENTO                               93,66%   \n",
            "41        MUNICIPIO DE SALENTO                               93,66%   \n",
            "42     MUNICIPIO DE VILLAGARZÓN                             100,00%   \n",
            "44        MUNICIPIO DE SALENTO                               93,66%   \n",
            "45        MUNICIPIO DE SALENTO                               93,66%   \n",
            "46  MUNICIPIO DE MEDIO SAN JUAN                             100,00%   \n",
            "47     MUNICIPIO DE VILLAGARZÓN                             100,00%   \n",
            "48        MUNICIPIO DE SALENTO                               93,66%   \n",
            "49        MUNICIPIO DE SALENTO                               93,66%   \n",
            "50        MUNICIPIO DE SALENTO                               93,66%   \n",
            "51        MUNICIPIO DE SALENTO                               93,66%   \n",
            "52  MUNICIPIO DE MEDIO SAN JUAN                             100,00%   \n",
            "54  MUNICIPIO DE MEDIO SAN JUAN                             100,00%   \n",
            "55        MUNICIPIO DE SALENTO                               93,66%   \n",
            "56        MUNICIPIO DE SALENTO                               93,66%   \n",
            "57        MUNICIPIO DE SALENTO                               93,66%   \n",
            "59        MUNICIPIO DE SALENTO                               93,66%   \n",
            "60        MUNICIPIO DE SALENTO                               93,66%   \n",
            "\n",
            "   Valor Aporte de Fonpacífico ($) Porcentaje Aporte de Fonpacífico (%)  \n",
            "0                    $8.036.000,00                                6,34%  \n",
            "1                    $8.036.000,00                                6,34%  \n",
            "2                    $8.036.000,00                                6,34%  \n",
            "3                    $8.036.000,00                                6,34%  \n",
            "4                    $8.036.000,00                                6,34%  \n",
            "15                           $0,00                                0,00%  \n",
            "16                           $0,00                                0,00%  \n",
            "18                   $8.036.000,00                                6,34%  \n",
            "28                           $0,00                                0,00%  \n",
            "30                   $8.036.000,00                                6,34%  \n",
            "31                   $8.036.000,00                                6,34%  \n",
            "32                           $0,00                                0,00%  \n",
            "34                   $8.036.000,00                                6,34%  \n",
            "41                   $8.036.000,00                                6,34%  \n",
            "42                           $0,00                                0,00%  \n",
            "44                   $8.036.000,00                                6,34%  \n",
            "45                   $8.036.000,00                                6,34%  \n",
            "46                           $0,00                                0,00%  \n",
            "47                           $0,00                                0,00%  \n",
            "48                   $8.036.000,00                                6,34%  \n",
            "49                   $8.036.000,00                                6,34%  \n",
            "50                   $8.036.000,00                                6,34%  \n",
            "51                   $8.036.000,00                                6,34%  \n",
            "52                           $0,00                                0,00%  \n",
            "54                           $0,00                                0,00%  \n",
            "55                   $8.036.000,00                                6,34%  \n",
            "56                   $8.036.000,00                                6,34%  \n",
            "57                   $8.036.000,00                                6,34%  \n",
            "59                   $8.036.000,00                                6,34%  \n",
            "60                   $8.036.000,00                                6,34%  \n",
            "Index(['fecha_x', 'factura', 'nombre', 'consignacion', 'deducciones', 'codigo',\n",
            "       'fecha_y', 'total', 'saldo', 'abonos', 'Estado Principal',\n",
            "       ' Valor Aporte de la Entidad ($)',\n",
            "       'N Proyecto / Contrato / Convenio / ', 'Entidad Contratante',\n",
            "       'Porcentaje Aporte de la Entidad (%)',\n",
            "       'Valor Aporte de Fonpacífico ($)',\n",
            "       'Porcentaje Aporte de Fonpacífico (%)'],\n",
            "      dtype='object')\n"
          ]
        }
      ],
      "source": [
        "# Filtrar el DataFrame df_combinado_facturacion_recaudos_matriz2 donde la columna 'Estado Derivados' sea igual a 'Ejecución'\n",
        "df_combinado_facturacion_recaudos_matriz3 = df_combinado_facturacion_recaudos_matriz2[df_combinado_facturacion_recaudos_matriz2['Estado Principal'] == 'Ejecución']\n",
        "\n",
        "# Mostrar el DataFrame filtrado\n",
        "print(df_combinado_facturacion_recaudos_matriz3)\n",
        "\n",
        "# Imprimir los nombres de las columnas\n",
        "print(df_combinado_facturacion_recaudos_matriz3.columns)\n",
        "\n",
        "# Definir la ruta donde se guardará el archivo filtrado\n",
        "ruta_salida_filtrada = '/content/drive/My Drive/Archivos Fuentes/RESULTADO_SOUL_MATRIZ/df_combinado_facturacion_recaudos_matriz3.csv'\n",
        "\n",
        "# Guardar el DataFrame filtrado en un nuevo archivo CSV\n",
        "df_combinado_facturacion_recaudos_matriz3.to_csv(ruta_salida_filtrada, index=False)"
      ]
    },
    {
      "cell_type": "markdown",
      "metadata": {
        "id": "pFdkD1OQlml2"
      },
      "source": [
        "### Reorganizar las columnas"
      ]
    },
    {
      "cell_type": "code",
      "execution_count": null,
      "metadata": {
        "colab": {
          "base_uri": "https://localhost:8080/"
        },
        "collapsed": true,
        "id": "_7SaML5zlsgc",
        "outputId": "d40242e6-64b1-472d-a196-0c1d18198b8d"
      },
      "outputs": [
        {
          "name": "stdout",
          "output_type": "stream",
          "text": [
            "                  N Proyecto / Contrato / Convenio /  Estado Principal  \\\n",
            "0   CONVENIO INTERADMINISTRATIVO N° 003 DE 2024. P...        Ejecución   \n",
            "1   CONVENIO INTERADMINISTRATIVO N° 003 DE 2024. P...        Ejecución   \n",
            "2   CONVENIO INTERADMINISTRATIVO N° 003 DE 2024. P...        Ejecución   \n",
            "3   CONVENIO INTERADMINISTRATIVO N° 003 DE 2024. P...        Ejecución   \n",
            "4   CONVENIO INTERADMINISTRATIVO N° 003 DE 2024. P...        Ejecución   \n",
            "15  EJECUTOR DE REGALIAS BPIN 2024415240008 OPTIMI...        Ejecución   \n",
            "16  EJECUTOR DE REGALIAS BPIN 2024415240008 OPTIMI...        Ejecución   \n",
            "18  CONVENIO INTERADMINISTRATIVO N° 003 DE 2024. P...        Ejecución   \n",
            "28  EJECUTOR DE REGALIAS BPIN 2024415240008 OPTIMI...        Ejecución   \n",
            "30  CONVENIO INTERADMINISTRATIVO N° 003 DE 2024. P...        Ejecución   \n",
            "31  CONVENIO INTERADMINISTRATIVO N° 003 DE 2024. P...        Ejecución   \n",
            "32  EJECUTOR DE REGALIAS BPIN 2024415240008 OPTIMI...        Ejecución   \n",
            "34  CONVENIO INTERADMINISTRATIVO N° 003 DE 2024. P...        Ejecución   \n",
            "41  CONVENIO INTERADMINISTRATIVO N° 003 DE 2024. P...        Ejecución   \n",
            "42  EJECUTOR DE REGALIAS BPIN 2024868850028 CONSTR...        Ejecución   \n",
            "44  CONVENIO INTERADMINISTRATIVO N° 003 DE 2024. P...        Ejecución   \n",
            "45  CONVENIO INTERADMINISTRATIVO N° 003 DE 2024. P...        Ejecución   \n",
            "46  EJECUTOR DE REGALIAS BPIN 2024274500046 CONSTR...        Ejecución   \n",
            "47  EJECUTOR DE REGALIAS BPIN 2024868850028 CONSTR...        Ejecución   \n",
            "48  CONVENIO INTERADMINISTRATIVO N° 003 DE 2024. P...        Ejecución   \n",
            "49  CONVENIO INTERADMINISTRATIVO N° 003 DE 2024. P...        Ejecución   \n",
            "50  CONVENIO INTERADMINISTRATIVO N° 003 DE 2024. P...        Ejecución   \n",
            "51  CONVENIO INTERADMINISTRATIVO N° 003 DE 2024. P...        Ejecución   \n",
            "52  EJECUTOR DE REGALIAS BPIN 2024274500046 CONSTR...        Ejecución   \n",
            "54  EJECUTOR DE REGALIAS BPIN 2024274500046 CONSTR...        Ejecución   \n",
            "55  CONVENIO INTERADMINISTRATIVO N° 003 DE 2024. P...        Ejecución   \n",
            "56  CONVENIO INTERADMINISTRATIVO N° 003 DE 2024. P...        Ejecución   \n",
            "57  CONVENIO INTERADMINISTRATIVO N° 003 DE 2024. P...        Ejecución   \n",
            "59  CONVENIO INTERADMINISTRATIVO N° 003 DE 2024. P...        Ejecución   \n",
            "60  CONVENIO INTERADMINISTRATIVO N° 003 DE 2024. P...        Ejecución   \n",
            "\n",
            "            Entidad Contratante  Valor Aporte de la Entidad ($)  \\\n",
            "0         MUNICIPIO DE SALENTO                $ 118.660.000,00    \n",
            "1         MUNICIPIO DE SALENTO                $ 118.660.000,00    \n",
            "2         MUNICIPIO DE SALENTO                $ 118.660.000,00    \n",
            "3         MUNICIPIO DE SALENTO                $ 118.660.000,00    \n",
            "4         MUNICIPIO DE SALENTO                $ 118.660.000,00    \n",
            "15        MUNICIPIO DE PALERMO              $ 3.066.068.906,00    \n",
            "16        MUNICIPIO DE PALERMO              $ 3.066.068.906,00    \n",
            "18        MUNICIPIO DE SALENTO                $ 118.660.000,00    \n",
            "28        MUNICIPIO DE PALERMO              $ 3.066.068.906,00    \n",
            "30        MUNICIPIO DE SALENTO                $ 118.660.000,00    \n",
            "31        MUNICIPIO DE SALENTO                $ 118.660.000,00    \n",
            "32        MUNICIPIO DE PALERMO              $ 3.066.068.906,00    \n",
            "34        MUNICIPIO DE SALENTO                $ 118.660.000,00    \n",
            "41        MUNICIPIO DE SALENTO                $ 118.660.000,00    \n",
            "42     MUNICIPIO DE VILLAGARZÓN             $ 2.193.285.542,00    \n",
            "44        MUNICIPIO DE SALENTO                $ 118.660.000,00    \n",
            "45        MUNICIPIO DE SALENTO                $ 118.660.000,00    \n",
            "46  MUNICIPIO DE MEDIO SAN JUAN             $ 2.410.344.254,00    \n",
            "47     MUNICIPIO DE VILLAGARZÓN             $ 2.193.285.542,00    \n",
            "48        MUNICIPIO DE SALENTO                $ 118.660.000,00    \n",
            "49        MUNICIPIO DE SALENTO                $ 118.660.000,00    \n",
            "50        MUNICIPIO DE SALENTO                $ 118.660.000,00    \n",
            "51        MUNICIPIO DE SALENTO                $ 118.660.000,00    \n",
            "52  MUNICIPIO DE MEDIO SAN JUAN             $ 2.410.344.254,00    \n",
            "54  MUNICIPIO DE MEDIO SAN JUAN             $ 2.410.344.254,00    \n",
            "55        MUNICIPIO DE SALENTO                $ 118.660.000,00    \n",
            "56        MUNICIPIO DE SALENTO                $ 118.660.000,00    \n",
            "57        MUNICIPIO DE SALENTO                $ 118.660.000,00    \n",
            "59        MUNICIPIO DE SALENTO                $ 118.660.000,00    \n",
            "60        MUNICIPIO DE SALENTO                $ 118.660.000,00    \n",
            "\n",
            "   Porcentaje Aporte de la Entidad (%) Valor Aporte de Fonpacífico ($)  \\\n",
            "0                               93,66%                   $8.036.000,00   \n",
            "1                               93,66%                   $8.036.000,00   \n",
            "2                               93,66%                   $8.036.000,00   \n",
            "3                               93,66%                   $8.036.000,00   \n",
            "4                               93,66%                   $8.036.000,00   \n",
            "15                             100,00%                           $0,00   \n",
            "16                             100,00%                           $0,00   \n",
            "18                              93,66%                   $8.036.000,00   \n",
            "28                             100,00%                           $0,00   \n",
            "30                              93,66%                   $8.036.000,00   \n",
            "31                              93,66%                   $8.036.000,00   \n",
            "32                             100,00%                           $0,00   \n",
            "34                              93,66%                   $8.036.000,00   \n",
            "41                              93,66%                   $8.036.000,00   \n",
            "42                             100,00%                           $0,00   \n",
            "44                              93,66%                   $8.036.000,00   \n",
            "45                              93,66%                   $8.036.000,00   \n",
            "46                             100,00%                           $0,00   \n",
            "47                             100,00%                           $0,00   \n",
            "48                              93,66%                   $8.036.000,00   \n",
            "49                              93,66%                   $8.036.000,00   \n",
            "50                              93,66%                   $8.036.000,00   \n",
            "51                              93,66%                   $8.036.000,00   \n",
            "52                             100,00%                           $0,00   \n",
            "54                             100,00%                           $0,00   \n",
            "55                              93,66%                   $8.036.000,00   \n",
            "56                              93,66%                   $8.036.000,00   \n",
            "57                              93,66%                   $8.036.000,00   \n",
            "59                              93,66%                   $8.036.000,00   \n",
            "60                              93,66%                   $8.036.000,00   \n",
            "\n",
            "   Porcentaje Aporte de Fonpacífico (%)  \\\n",
            "0                                 6,34%   \n",
            "1                                 6,34%   \n",
            "2                                 6,34%   \n",
            "3                                 6,34%   \n",
            "4                                 6,34%   \n",
            "15                                0,00%   \n",
            "16                                0,00%   \n",
            "18                                6,34%   \n",
            "28                                0,00%   \n",
            "30                                6,34%   \n",
            "31                                6,34%   \n",
            "32                                0,00%   \n",
            "34                                6,34%   \n",
            "41                                6,34%   \n",
            "42                                0,00%   \n",
            "44                                6,34%   \n",
            "45                                6,34%   \n",
            "46                                0,00%   \n",
            "47                                0,00%   \n",
            "48                                6,34%   \n",
            "49                                6,34%   \n",
            "50                                6,34%   \n",
            "51                                6,34%   \n",
            "52                                0,00%   \n",
            "54                                0,00%   \n",
            "55                                6,34%   \n",
            "56                                6,34%   \n",
            "57                                6,34%   \n",
            "59                                6,34%   \n",
            "60                                6,34%   \n",
            "\n",
            "                                               nombre      codigo    fecha_y  \\\n",
            "0   PLATAFORMA DE COLABORACION E INNOVACION ABIERT...  2024000382  01-Aug-24   \n",
            "1                                  ASOCIACION CONECT@  0000000545  03-Jan-24   \n",
            "2   PLATAFORMA DE COLABORACION E INNOVACION ABIERT...  2024000315  03-Jul-24   \n",
            "3   PLATAFORMA DE COLABORACION E INNOVACION ABIERT...  2024000316  03-Jul-24   \n",
            "4   PLATAFORMA DE COLABORACION E INNOVACION ABIERT...  2024000317  03-Jul-24   \n",
            "15                      CONSORCIO AGUAS DE COLOMBIA 2  2024000192  29-Apr-24   \n",
            "16                      CONSORCIO AGUAS DE COLOMBIA 2  2024000396  02-Aug-24   \n",
            "18  PLATAFORMA DE COLABORACION E INNOVACION ABIERT...  2024000175  11-Apr-24   \n",
            "28                      CONSORCIO AGUAS DE COLOMBIA 2  2024000396  02-Aug-24   \n",
            "30                                 ASOCIACION CONECT@  2024000636  08-Nov-24   \n",
            "31                                 ASOCIACION CONECT@  2024000639  08-Nov-24   \n",
            "32                      CONSORCIO AGUAS DE COLOMBIA 2  2024000280  18-Jun-24   \n",
            "34  PLATAFORMA DE COLABORACION E INNOVACION ABIERT...  2024000360  19-Jul-24   \n",
            "41                                 ASOCIACION CONECT@  2024000677  22-Nov-24   \n",
            "42                    CONSORCIO CUBIERTA LA ESPERANZA      ATE158  17-Dec-24   \n",
            "44  PLATAFORMA DE COLABORACION E INNOVACION ABIERT...  2024000176  22-Apr-24   \n",
            "45  PLATAFORMA DE COLABORACION E INNOVACION ABIERT...  2024000364  22-Jul-24   \n",
            "46                        ANGULARQ CONSTRUCCIONES SAS  2024000291  20-Jun-24   \n",
            "47                    CONSORCIO CUBIERTA LA ESPERANZA       ATE61  09-Oct-24   \n",
            "48  PLATAFORMA DE COLABORACION E INNOVACION ABIERT...  2024000187  29-Apr-24   \n",
            "49  PLATAFORMA DE COLABORACION E INNOVACION ABIERT...  2024000433  26-Aug-24   \n",
            "50  PLATAFORMA DE COLABORACION E INNOVACION ABIERT...  2024000432  26-Aug-24   \n",
            "51  PLATAFORMA DE COLABORACION E INNOVACION ABIERT...  2024000431  26-Aug-24   \n",
            "52                        ANGULARQ CONSTRUCCIONES SAS      FON956  26-Aug-24   \n",
            "54                        ANGULARQ CONSTRUCCIONES SAS        ATE3  12-Sep-24   \n",
            "55                                 ASOCIACION CONECT@  2024000699  29-Nov-24   \n",
            "56                                 ASOCIACION CONECT@  2024000632  08-Nov-24   \n",
            "57  PLATAFORMA DE COLABORACION E INNOVACION ABIERT...  2024000440  30-Aug-24   \n",
            "59                                 ASOCIACION CONECT@  2024000381  31-Jul-24   \n",
            "60  PLATAFORMA DE COLABORACION E INNOVACION ABIERT...  2024000444  31-Aug-24   \n",
            "\n",
            "          total        saldo       abonos     factura    fecha_x consignacion  \\\n",
            "0        245991            0       245991  2024000382  01-Aug-24       245991   \n",
            "1     524300,93            0    524300,93  0000000545  03-Jan-24    524300,93   \n",
            "2       1792837            0      1792837  2024000315  03-Jul-24      1792837   \n",
            "3        245991            0       245991  2024000316  03-Jul-24       245991   \n",
            "4       3200000            0      3200000  2024000317  03-Jul-24      3200000   \n",
            "15   57238383,9            0   57238383,9  2024000192  07-May-24     57238383   \n",
            "16  37570854,75  20085227,75     17485627  2024000396  08-Aug-24     17485627   \n",
            "18       245991            0       245991  2024000175  11-Apr-24       245991   \n",
            "28  37570854,75  20085227,75     17485627  2024000396  15-Aug-24     17485627   \n",
            "30       171250            0       171250  2024000636  18-Oct-24       171250   \n",
            "31     961570,5            0     961570,5  2024000639  18-Oct-24     961570,5   \n",
            "32  29192079,27            0  29192079,27  2024000280  19-Jun-24  29192079,27   \n",
            "34      1100000            0      1100000  2024000360  19-Jul-24            0   \n",
            "41      1333750            0      1333750  2024000677  20-Nov-24      1333750   \n",
            "42   13636928,9            0   13636928,9      ATE158  20-Dec-24  13178544,01   \n",
            "44      1933125            0      1933125  2024000176  22-Apr-24      1933125   \n",
            "45       500000            0       500000  2024000364  22-Jul-24       500000   \n",
            "46  28143635,06            0  28143635,06  2024000291  24-Jun-24  28143635,06   \n",
            "47  29884948,96            0  29884948,96       ATE61  24-Oct-24  28880412,86   \n",
            "48      1607200            0      1607200  2024000187  25-Apr-24      1607200   \n",
            "49       150000            0       150000  2024000433  26-Aug-24       150000   \n",
            "50    2113359,7            0    2113359,7  2024000432  26-Aug-24    2113359,7   \n",
            "51       980800            0       980800  2024000431  26-Aug-24       980800   \n",
            "52  25273599,56            0  25273599,56      FON956  27-Aug-24     24424067   \n",
            "54  24657383,25            0  24657383,25        ATE3  28-Oct-24     24657383   \n",
            "55     245990,5            0     245990,5  2024000699  29-Nov-24     245990,5   \n",
            "56     245990,5            0     245990,5  2024000632  29-Nov-24     245990,5   \n",
            "57       500000            0       500000  2024000440  30-Aug-24       500000   \n",
            "59       245991            0       245991  2024000381  31-Jul-24       245991   \n",
            "60       245991            0       245991  2024000444  31-Aug-24       245991   \n",
            "\n",
            "   deducciones  \n",
            "0            0  \n",
            "1            0  \n",
            "2            0  \n",
            "3            0  \n",
            "4            0  \n",
            "15         0,9  \n",
            "16           0  \n",
            "18           0  \n",
            "28           0  \n",
            "30           0  \n",
            "31           0  \n",
            "32           0  \n",
            "34           0  \n",
            "41           0  \n",
            "42   458384,89  \n",
            "44           0  \n",
            "45           0  \n",
            "46           0  \n",
            "47   1004536,1  \n",
            "48           0  \n",
            "49           0  \n",
            "50           0  \n",
            "51           0  \n",
            "52   849532,56  \n",
            "54        0,25  \n",
            "55           0  \n",
            "56           0  \n",
            "57           0  \n",
            "59           0  \n",
            "60           0  \n"
          ]
        }
      ],
      "source": [
        "# Definir el nuevo orden de las columnas\n",
        "nuevo_orden_columnas = ['N Proyecto / Contrato / Convenio / ', 'Estado Principal', 'Entidad Contratante', ' Valor Aporte de la Entidad ($)', 'Porcentaje Aporte de la Entidad (%)','Valor Aporte de Fonpacífico ($)','Porcentaje Aporte de Fonpacífico (%)','nombre','codigo','fecha_y',\n",
        "                        'total','saldo','abonos','factura','fecha_x','consignacion','deducciones']\n",
        "# Reorganizar las columnas del DataFrame y asignarlo a df_combinado_facturacion_recaudos_matriz4\n",
        "df_combinado_facturacion_recaudos_matriz4 = df_combinado_facturacion_recaudos_matriz3[nuevo_orden_columnas]\n",
        "\n",
        "# Mostrar el DataFrame después de reorganizar las columnas\n",
        "print(df_combinado_facturacion_recaudos_matriz4)\n",
        "\n",
        "# Definir la ruta donde se guardará el archivo con las columnas reorganizadas\n",
        "ruta_salida_reorganizada = '/content/drive/My Drive/Archivos Fuentes/RESULTADO_SOUL_MATRIZ/df_combinado_facturacion_recaudos_matriz4.csv'\n",
        "\n",
        "# Guardar el DataFrame reorganizado en un nuevo archivo CSV\n",
        "df_combinado_facturacion_recaudos_matriz4.to_csv(ruta_salida_reorganizada, index=False)"
      ]
    },
    {
      "cell_type": "markdown",
      "metadata": {
        "id": "eNXRwA4gcfCV"
      },
      "source": [
        "### Verificar Formato Dato"
      ]
    },
    {
      "cell_type": "code",
      "execution_count": null,
      "metadata": {
        "colab": {
          "base_uri": "https://localhost:8080/"
        },
        "collapsed": true,
        "id": "Z83fRzVpciQ1",
        "outputId": "fc072576-0c53-4574-cdf3-dc0f6f982d9c"
      },
      "outputs": [
        {
          "name": "stdout",
          "output_type": "stream",
          "text": [
            " Valor Aporte de la Entidad ($)    object\n",
            "Valor Aporte de Fonpacífico ($)    object\n",
            "total                              object\n",
            "saldo                              object\n",
            "abonos                             object\n",
            "consignacion                       object\n",
            "deducciones                        object\n",
            "dtype: object\n",
            "   Valor Aporte de la Entidad ($) Valor Aporte de Fonpacífico ($)      total  \\\n",
            "0               $ 118.660.000,00                    $8.036.000,00     245991   \n",
            "1               $ 118.660.000,00                    $8.036.000,00  524300,93   \n",
            "2               $ 118.660.000,00                    $8.036.000,00    1792837   \n",
            "3               $ 118.660.000,00                    $8.036.000,00     245991   \n",
            "4               $ 118.660.000,00                    $8.036.000,00    3200000   \n",
            "\n",
            "  saldo     abonos consignacion deducciones  \n",
            "0     0     245991       245991           0  \n",
            "1     0  524300,93    524300,93           0  \n",
            "2     0    1792837      1792837           0  \n",
            "3     0     245991       245991           0  \n",
            "4     0    3200000      3200000           0  \n"
          ]
        }
      ],
      "source": [
        "# Verificar los tipos de datos en las columnas de interés\n",
        "print(df_combinado_facturacion_recaudos_matriz4[[' Valor Aporte de la Entidad ($)', 'Valor Aporte de Fonpacífico ($)','total','saldo','abonos','consignacion','deducciones']].dtypes)\n",
        "\n",
        "# Verificar el tipo de los primeros valores de las columnas\n",
        "print(df_combinado_facturacion_recaudos_matriz4[[' Valor Aporte de la Entidad ($)', 'Valor Aporte de Fonpacífico ($)','total','saldo','abonos','consignacion','deducciones']].head())"
      ]
    },
    {
      "cell_type": "markdown",
      "metadata": {
        "id": "nlamj5VPbVt1"
      },
      "source": [
        "### Eliminar Formato Predeterminado - Grupo 1"
      ]
    },
    {
      "cell_type": "code",
      "execution_count": null,
      "metadata": {
        "colab": {
          "base_uri": "https://localhost:8080/"
        },
        "collapsed": true,
        "id": "Ho84KEjJaqWY",
        "outputId": "38dec0ad-ad84-4cbd-9ead-ee94e8c5edd0"
      },
      "outputs": [
        {
          "name": "stdout",
          "output_type": "stream",
          "text": [
            "🔹 Limpieza de montos:\n",
            "    Valor Aporte de la Entidad ($)  Valor Aporte de Fonpacífico ($)\n",
            "0                      118660000.0                        8036000.0\n",
            "1                      118660000.0                        8036000.0\n",
            "2                      118660000.0                        8036000.0\n",
            "3                      118660000.0                        8036000.0\n",
            "4                      118660000.0                        8036000.0\n"
          ]
        },
        {
          "name": "stderr",
          "output_type": "stream",
          "text": [
            "<ipython-input-275-04122b1e0e41>:14: FutureWarning: DataFrame.applymap has been deprecated. Use DataFrame.map instead.\n",
            "  df_montos_limpios = df_combinado_facturacion_recaudos_matriz4[columnas_monetarias].applymap(limpiar_monto)\n"
          ]
        }
      ],
      "source": [
        "# Función corregida para limpiar y formatear valores monetarios\n",
        "def limpiar_monto(valor):\n",
        "    if isinstance(valor, str):\n",
        "        return round(float(valor.replace(\"$\", \"\").replace(\".\", \"\").replace(\",\", \".\")), 2)\n",
        "    elif isinstance(valor, (int, float)):  # Si ya es numérico, solo redondear\n",
        "        return round(valor, 2)\n",
        "    else:\n",
        "        return None  # Manejo de valores inesperados\n",
        "\n",
        "# Columnas del Grupo 1 que requieren limpieza\n",
        "columnas_monetarias = [\" Valor Aporte de la Entidad ($)\", \"Valor Aporte de Fonpacífico ($)\"]\n",
        "\n",
        "# Aplicamos la limpieza asegurando 2 decimales\n",
        "df_montos_limpios = df_combinado_facturacion_recaudos_matriz4[columnas_monetarias].applymap(limpiar_monto)\n",
        "\n",
        "# Verificar resultado\n",
        "print(\"🔹 Limpieza de montos:\")\n",
        "print(df_montos_limpios.head())"
      ]
    },
    {
      "cell_type": "markdown",
      "metadata": {
        "id": "kfPpQaa6TM1K"
      },
      "source": [
        "### Eliminar Formato Predeterminado - Grupo 2"
      ]
    },
    {
      "cell_type": "code",
      "execution_count": null,
      "metadata": {
        "colab": {
          "base_uri": "https://localhost:8080/"
        },
        "collapsed": true,
        "id": "nsztLw0hTTDh",
        "outputId": "370dfbe8-cecf-40a9-e8b4-27f4b888ad9c"
      },
      "outputs": [
        {
          "name": "stdout",
          "output_type": "stream",
          "text": [
            "🔹 Limpieza de números:\n",
            "        total      abonos  consignacion  deducciones\n",
            "0   245991.00   245991.00     245991.00          0.0\n",
            "1   524300.93   524300.93     524300.93          0.0\n",
            "2  1792837.00  1792837.00    1792837.00          0.0\n",
            "3   245991.00   245991.00     245991.00          0.0\n",
            "4  3200000.00  3200000.00    3200000.00          0.0\n"
          ]
        },
        {
          "name": "stderr",
          "output_type": "stream",
          "text": [
            "<ipython-input-276-485615b7a503>:9: FutureWarning: DataFrame.applymap has been deprecated. Use DataFrame.map instead.\n",
            "  df_numeros_limpios = df_combinado_facturacion_recaudos_matriz4[columnas_numericas].applymap(limpiar_numero)\n"
          ]
        }
      ],
      "source": [
        "# Función para limpiar valores numéricos y asegurar 2 decimales\n",
        "def limpiar_numero(valor):\n",
        "    return round(float(valor.replace(\",\", \".\")), 2) if isinstance(valor, str) else round(valor, 2)\n",
        "\n",
        "# Columnas del Grupo 2 que requieren limpieza\n",
        "columnas_numericas = [\"total\", \"abonos\", \"consignacion\", \"deducciones\"]\n",
        "\n",
        "# Aplicamos la limpieza asegurando uniformidad en los decimales\n",
        "df_numeros_limpios = df_combinado_facturacion_recaudos_matriz4[columnas_numericas].applymap(limpiar_numero)\n",
        "\n",
        "# Verificar resultado\n",
        "print(\"🔹 Limpieza de números:\")\n",
        "print(df_numeros_limpios.head())"
      ]
    },
    {
      "cell_type": "markdown",
      "metadata": {
        "id": "b1Y412GfgYzM"
      },
      "source": [
        "### Eliminar Formato Predeterminado - Grupo 3"
      ]
    },
    {
      "cell_type": "code",
      "execution_count": null,
      "metadata": {
        "colab": {
          "base_uri": "https://localhost:8080/"
        },
        "collapsed": true,
        "id": "Jm8PNsl6gZ80",
        "outputId": "28cfa2ab-b0d2-4a9e-e36a-bb85428af18c"
      },
      "outputs": [
        {
          "name": "stdout",
          "output_type": "stream",
          "text": [
            "🔹 Limpieza de saldo:\n",
            "0    0.0\n",
            "1    0.0\n",
            "2    0.0\n",
            "3    0.0\n",
            "4    0.0\n",
            "Name: saldo, dtype: float64\n"
          ]
        }
      ],
      "source": [
        "# Función corregida para limpiar y formatear \"saldo\" con dos decimales\n",
        "def limpiar_saldo(valor):\n",
        "    if isinstance(valor, str) and valor.replace(\",\", \"\").replace(\".\", \"\").isdigit():\n",
        "        return round(float(valor.replace(\",\", \".\")), 2)  # Convierte texto a float con punto decimal\n",
        "    elif isinstance(valor, (int, float)):\n",
        "        return round(valor, 2)  # Si ya es numérico, solo redondea\n",
        "    else:\n",
        "        return 0.00  # Si no es número válido, devolver 0.00\n",
        "\n",
        "# Aplicamos la limpieza asegurando 2 decimales\n",
        "df_saldo_limpio = df_combinado_facturacion_recaudos_matriz4[\"saldo\"].apply(limpiar_saldo)\n",
        "\n",
        "# Verificar resultado\n",
        "print(\"🔹 Limpieza de saldo:\")\n",
        "print(df_saldo_limpio.head())"
      ]
    },
    {
      "cell_type": "markdown",
      "metadata": {
        "id": "pAKxhfaJkfoh"
      },
      "source": [
        "### Combinar y Guardar los Datos Limpios"
      ]
    },
    {
      "cell_type": "code",
      "execution_count": null,
      "metadata": {
        "colab": {
          "base_uri": "https://localhost:8080/"
        },
        "collapsed": true,
        "id": "472juLVmkmoI",
        "outputId": "e27cf26e-b3e1-480c-c42f-91a786bdefbf"
      },
      "outputs": [
        {
          "name": "stdout",
          "output_type": "stream",
          "text": [
            "✅ Archivo guardado en: /content/drive/My Drive/Archivos Fuentes/RESULTADO_SOUL_MATRIZ/df_combinado_facturacion_recaudos_matriz_limpieza_datos.csv\n",
            "                 N Proyecto / Contrato / Convenio /  Estado Principal  \\\n",
            "0  CONVENIO INTERADMINISTRATIVO N° 003 DE 2024. P...        Ejecución   \n",
            "1  CONVENIO INTERADMINISTRATIVO N° 003 DE 2024. P...        Ejecución   \n",
            "2  CONVENIO INTERADMINISTRATIVO N° 003 DE 2024. P...        Ejecución   \n",
            "3  CONVENIO INTERADMINISTRATIVO N° 003 DE 2024. P...        Ejecución   \n",
            "4  CONVENIO INTERADMINISTRATIVO N° 003 DE 2024. P...        Ejecución   \n",
            "\n",
            "     Entidad Contratante   Valor Aporte de la Entidad ($)  \\\n",
            "0  MUNICIPIO DE SALENTO                       118660000.0   \n",
            "1  MUNICIPIO DE SALENTO                       118660000.0   \n",
            "2  MUNICIPIO DE SALENTO                       118660000.0   \n",
            "3  MUNICIPIO DE SALENTO                       118660000.0   \n",
            "4  MUNICIPIO DE SALENTO                       118660000.0   \n",
            "\n",
            "  Porcentaje Aporte de la Entidad (%)  Valor Aporte de Fonpacífico ($)  \\\n",
            "0                              93,66%                        8036000.0   \n",
            "1                              93,66%                        8036000.0   \n",
            "2                              93,66%                        8036000.0   \n",
            "3                              93,66%                        8036000.0   \n",
            "4                              93,66%                        8036000.0   \n",
            "\n",
            "  Porcentaje Aporte de Fonpacífico (%)  \\\n",
            "0                                6,34%   \n",
            "1                                6,34%   \n",
            "2                                6,34%   \n",
            "3                                6,34%   \n",
            "4                                6,34%   \n",
            "\n",
            "                                              nombre      codigo    fecha_y  \\\n",
            "0  PLATAFORMA DE COLABORACION E INNOVACION ABIERT...  2024000382  01-Aug-24   \n",
            "1                                 ASOCIACION CONECT@  0000000545  03-Jan-24   \n",
            "2  PLATAFORMA DE COLABORACION E INNOVACION ABIERT...  2024000315  03-Jul-24   \n",
            "3  PLATAFORMA DE COLABORACION E INNOVACION ABIERT...  2024000316  03-Jul-24   \n",
            "4  PLATAFORMA DE COLABORACION E INNOVACION ABIERT...  2024000317  03-Jul-24   \n",
            "\n",
            "        total  saldo      abonos     factura    fecha_x  consignacion  \\\n",
            "0   245991.00    0.0   245991.00  2024000382  01-Aug-24     245991.00   \n",
            "1   524300.93    0.0   524300.93  0000000545  03-Jan-24     524300.93   \n",
            "2  1792837.00    0.0  1792837.00  2024000315  03-Jul-24    1792837.00   \n",
            "3   245991.00    0.0   245991.00  2024000316  03-Jul-24     245991.00   \n",
            "4  3200000.00    0.0  3200000.00  2024000317  03-Jul-24    3200000.00   \n",
            "\n",
            "   deducciones  \n",
            "0          0.0  \n",
            "1          0.0  \n",
            "2          0.0  \n",
            "3          0.0  \n",
            "4          0.0  \n"
          ]
        }
      ],
      "source": [
        "# 🔹 Ruta donde se guardará el archivo\n",
        "ruta_guardado = \"/content/drive/My Drive/Archivos Fuentes/RESULTADO_SOUL_MATRIZ/df_combinado_facturacion_recaudos_matriz_limpieza_datos.csv\"\n",
        "\n",
        "# 🔹 Crear una copia del DataFrame original para mantener la estructura\n",
        "df_combinado_facturacion_recaudos_matriz_limpieza_datos = df_combinado_facturacion_recaudos_matriz4.copy()\n",
        "\n",
        "# 🔹 Reemplazar las columnas con los datos ya limpiados\n",
        "df_combinado_facturacion_recaudos_matriz_limpieza_datos[columnas_monetarias] = df_montos_limpios\n",
        "df_combinado_facturacion_recaudos_matriz_limpieza_datos[columnas_numericas] = df_numeros_limpios\n",
        "df_combinado_facturacion_recaudos_matriz_limpieza_datos[\"saldo\"] = df_saldo_limpio\n",
        "\n",
        "# 🔹 Guardar en la ruta especificada en Google Drive\n",
        "df_combinado_facturacion_recaudos_matriz_limpieza_datos.to_csv(ruta_guardado, index=False, encoding=\"utf-8\")\n",
        "\n",
        "# 🔹 Verificar el resultado\n",
        "print(f\"✅ Archivo guardado en: {ruta_guardado}\")\n",
        "print(df_combinado_facturacion_recaudos_matriz_limpieza_datos.head())"
      ]
    },
    {
      "cell_type": "markdown",
      "metadata": {
        "id": "yYOr60uTplrV"
      },
      "source": [
        "### Renombrar las columnas"
      ]
    },
    {
      "cell_type": "code",
      "execution_count": null,
      "metadata": {
        "colab": {
          "base_uri": "https://localhost:8080/"
        },
        "collapsed": true,
        "id": "Bxc_Rd26p0sc",
        "outputId": "bbc7243f-f7a4-4e8b-c60a-34c65863745b"
      },
      "outputs": [
        {
          "name": "stdout",
          "output_type": "stream",
          "text": [
            "✅ Archivo guardado en: /content/drive/My Drive/Archivos Fuentes/RESULTADO_SOUL_MATRIZ/df_combinado_facturacion_recaudos_matriz_limpieza_datos.csv\n",
            "                 N Proyecto / Contrato / Convenio /  Estado Principal  \\\n",
            "0  CONVENIO INTERADMINISTRATIVO N° 003 DE 2024. P...        Ejecución   \n",
            "1  CONVENIO INTERADMINISTRATIVO N° 003 DE 2024. P...        Ejecución   \n",
            "2  CONVENIO INTERADMINISTRATIVO N° 003 DE 2024. P...        Ejecución   \n",
            "3  CONVENIO INTERADMINISTRATIVO N° 003 DE 2024. P...        Ejecución   \n",
            "4  CONVENIO INTERADMINISTRATIVO N° 003 DE 2024. P...        Ejecución   \n",
            "\n",
            "     Entidad Contratante   Valor Aporte de la Entidad ($)  \\\n",
            "0  MUNICIPIO DE SALENTO                       118660000.0   \n",
            "1  MUNICIPIO DE SALENTO                       118660000.0   \n",
            "2  MUNICIPIO DE SALENTO                       118660000.0   \n",
            "3  MUNICIPIO DE SALENTO                       118660000.0   \n",
            "4  MUNICIPIO DE SALENTO                       118660000.0   \n",
            "\n",
            "  Porcentaje Aporte de la Entidad (%)  Valor Aporte de Fonpacífico ($)  \\\n",
            "0                              93,66%                        8036000.0   \n",
            "1                              93,66%                        8036000.0   \n",
            "2                              93,66%                        8036000.0   \n",
            "3                              93,66%                        8036000.0   \n",
            "4                              93,66%                        8036000.0   \n",
            "\n",
            "  Porcentaje Aporte de Fonpacífico (%)  \\\n",
            "0                                6,34%   \n",
            "1                                6,34%   \n",
            "2                                6,34%   \n",
            "3                                6,34%   \n",
            "4                                6,34%   \n",
            "\n",
            "                                              nombre      codigo    fecha_y  \\\n",
            "0  PLATAFORMA DE COLABORACION E INNOVACION ABIERT...  2024000382  01-Aug-24   \n",
            "1                                 ASOCIACION CONECT@  0000000545  03-Jan-24   \n",
            "2  PLATAFORMA DE COLABORACION E INNOVACION ABIERT...  2024000315  03-Jul-24   \n",
            "3  PLATAFORMA DE COLABORACION E INNOVACION ABIERT...  2024000316  03-Jul-24   \n",
            "4  PLATAFORMA DE COLABORACION E INNOVACION ABIERT...  2024000317  03-Jul-24   \n",
            "\n",
            "        total  saldo      abonos     factura    fecha_x  consignacion  \\\n",
            "0   245991.00    0.0   245991.00  2024000382  01-Aug-24     245991.00   \n",
            "1   524300.93    0.0   524300.93  0000000545  03-Jan-24     524300.93   \n",
            "2  1792837.00    0.0  1792837.00  2024000315  03-Jul-24    1792837.00   \n",
            "3   245991.00    0.0   245991.00  2024000316  03-Jul-24     245991.00   \n",
            "4  3200000.00    0.0  3200000.00  2024000317  03-Jul-24    3200000.00   \n",
            "\n",
            "   deducciones  \n",
            "0          0.0  \n",
            "1          0.0  \n",
            "2          0.0  \n",
            "3          0.0  \n",
            "4          0.0  \n",
            "✅ Archivo con columnas renombradas guardado en: /content/drive/My Drive/Archivos Fuentes/RESULTADO_SOUL_MATRIZ/df_combinado_facturacion_recaudos_matriz_renombrado.csv\n",
            "             ID PROYECTO / ID CONTRATO / ID CONVENIO     ESTADO  \\\n",
            "0  CONVENIO INTERADMINISTRATIVO N° 003 DE 2024. P...  Ejecución   \n",
            "1  CONVENIO INTERADMINISTRATIVO N° 003 DE 2024. P...  Ejecución   \n",
            "2  CONVENIO INTERADMINISTRATIVO N° 003 DE 2024. P...  Ejecución   \n",
            "3  CONVENIO INTERADMINISTRATIVO N° 003 DE 2024. P...  Ejecución   \n",
            "4  CONVENIO INTERADMINISTRATIVO N° 003 DE 2024. P...  Ejecución   \n",
            "\n",
            "     ENTIDAD CONTRATANTE  VALOR APORTE DE LA ENTIDAD  \\\n",
            "0  MUNICIPIO DE SALENTO                  118660000.0   \n",
            "1  MUNICIPIO DE SALENTO                  118660000.0   \n",
            "2  MUNICIPIO DE SALENTO                  118660000.0   \n",
            "3  MUNICIPIO DE SALENTO                  118660000.0   \n",
            "4  MUNICIPIO DE SALENTO                  118660000.0   \n",
            "\n",
            "  PORCENTAJE APORTE DE LA ENTIDAD  VALOR APORTE FONPACIFICO  \\\n",
            "0                          93,66%                 8036000.0   \n",
            "1                          93,66%                 8036000.0   \n",
            "2                          93,66%                 8036000.0   \n",
            "3                          93,66%                 8036000.0   \n",
            "4                          93,66%                 8036000.0   \n",
            "\n",
            "  PORCENTAJE APORTE FONPACIFICO  \\\n",
            "0                         6,34%   \n",
            "1                         6,34%   \n",
            "2                         6,34%   \n",
            "3                         6,34%   \n",
            "4                         6,34%   \n",
            "\n",
            "                                ENTIDAD DEL DERIVADO CODIGO FACTURACION  \\\n",
            "0  PLATAFORMA DE COLABORACION E INNOVACION ABIERT...         2024000382   \n",
            "1                                 ASOCIACION CONECT@         0000000545   \n",
            "2  PLATAFORMA DE COLABORACION E INNOVACION ABIERT...         2024000315   \n",
            "3  PLATAFORMA DE COLABORACION E INNOVACION ABIERT...         2024000316   \n",
            "4  PLATAFORMA DE COLABORACION E INNOVACION ABIERT...         2024000317   \n",
            "\n",
            "  FECHA FACTURACION  VALOR FACTURACION  VALOR EN SALDO  VALOR DE ABONOS  \\\n",
            "0         01-Aug-24          245991.00             0.0        245991.00   \n",
            "1         03-Jan-24          524300.93             0.0        524300.93   \n",
            "2         03-Jul-24         1792837.00             0.0       1792837.00   \n",
            "3         03-Jul-24          245991.00             0.0        245991.00   \n",
            "4         03-Jul-24         3200000.00             0.0       3200000.00   \n",
            "\n",
            "  CODIGO RECAUDO FECHA DE RECAUDACION  VALOR CONSIGNADO  VALOR DEDUCCIONES  \n",
            "0     2024000382            01-Aug-24         245991.00                0.0  \n",
            "1     0000000545            03-Jan-24         524300.93                0.0  \n",
            "2     2024000315            03-Jul-24        1792837.00                0.0  \n",
            "3     2024000316            03-Jul-24         245991.00                0.0  \n",
            "4     2024000317            03-Jul-24        3200000.00                0.0  \n"
          ]
        }
      ],
      "source": [
        "import pandas as pd\n",
        "\n",
        "# 🔹 Ruta donde se guardará el archivo\n",
        "ruta_guardado = \"/content/drive/My Drive/Archivos Fuentes/RESULTADO_SOUL_MATRIZ/df_combinado_facturacion_recaudos_matriz_limpieza_datos.csv\"\n",
        "\n",
        "# 🔹 Crear una copia del DataFrame original para mantener la estructura\n",
        "df_combinado_facturacion_recaudos_matriz_limpieza_datos = df_combinado_facturacion_recaudos_matriz4.copy()\n",
        "\n",
        "# 🔹 Reemplazar las columnas con los datos ya limpiados\n",
        "df_combinado_facturacion_recaudos_matriz_limpieza_datos[columnas_monetarias] = df_montos_limpios\n",
        "df_combinado_facturacion_recaudos_matriz_limpieza_datos[columnas_numericas] = df_numeros_limpios\n",
        "df_combinado_facturacion_recaudos_matriz_limpieza_datos[\"saldo\"] = df_saldo_limpio\n",
        "\n",
        "# 🔹 Guardar en la ruta especificada en Google Drive\n",
        "df_combinado_facturacion_recaudos_matriz_limpieza_datos.to_csv(ruta_guardado, index=False, encoding=\"utf-8\")\n",
        "\n",
        "# 🔹 Verificar el resultado\n",
        "print(f\"✅ Archivo guardado en: {ruta_guardado}\")\n",
        "print(df_combinado_facturacion_recaudos_matriz_limpieza_datos.head())\n",
        "\n",
        "# 🔹 Renombrar las columnas después de limpiar los datos\n",
        "nuevos_nombres_columnas = [\n",
        "    'ID PROYECTO / ID CONTRATO / ID CONVENIO',\n",
        "    'ESTADO',\n",
        "    'ENTIDAD CONTRATANTE',\n",
        "    'VALOR APORTE DE LA ENTIDAD',\n",
        "    'PORCENTAJE APORTE DE LA ENTIDAD',\n",
        "    'VALOR APORTE FONPACIFICO',\n",
        "    'PORCENTAJE APORTE FONPACIFICO',\n",
        "    'ENTIDAD DEL DERIVADO',\n",
        "    'CODIGO FACTURACION',\n",
        "    'FECHA FACTURACION',\n",
        "    'VALOR FACTURACION',\n",
        "    'VALOR EN SALDO',\n",
        "    'VALOR DE ABONOS',\n",
        "    'CODIGO RECAUDO',\n",
        "    'FECHA DE RECAUDACION',\n",
        "    'VALOR CONSIGNADO',\n",
        "    'VALOR DEDUCCIONES'\n",
        "]\n",
        "\n",
        "# 🔹 Asegurarse de que el número de columnas coincida\n",
        "df_combinado_facturacion_recaudos_matriz_renombrado = df_combinado_facturacion_recaudos_matriz_limpieza_datos.copy()\n",
        "df_combinado_facturacion_recaudos_matriz_renombrado.columns = nuevos_nombres_columnas\n",
        "\n",
        "# 🔹 Ruta para guardar el archivo con las columnas renombradas\n",
        "ruta_guardado_renombrado = \"/content/drive/My Drive/Archivos Fuentes/RESULTADO_SOUL_MATRIZ/df_combinado_facturacion_recaudos_matriz_renombrado.csv\"\n",
        "\n",
        "# 🔹 Guardar el DataFrame con las columnas renombradas\n",
        "df_combinado_facturacion_recaudos_matriz_renombrado.to_csv(ruta_guardado_renombrado, index=False, encoding=\"utf-8\")\n",
        "\n",
        "# 🔹 Confirmación\n",
        "print(f\"✅ Archivo con columnas renombradas guardado en: {ruta_guardado_renombrado}\")\n",
        "print(df_combinado_facturacion_recaudos_matriz_renombrado.head())"
      ]
    },
    {
      "cell_type": "markdown",
      "metadata": {
        "id": "H0cwBaELXb6S"
      },
      "source": [
        "### Formatear los Números\n"
      ]
    },
    {
      "cell_type": "code",
      "execution_count": null,
      "metadata": {
        "colab": {
          "base_uri": "https://localhost:8080/"
        },
        "id": "33_7cR1lXgaB",
        "outputId": "e09b0b29-5cfd-4256-ee37-bfdeea964096"
      },
      "outputs": [
        {
          "name": "stdout",
          "output_type": "stream",
          "text": [
            "✅ Archivo CSV con formato guardado en: /content/drive/My Drive/Archivos Fuentes/RESULTADO_SOUL_MATRIZ/df_combinado_facturacion_recaudos_matriz_formato_datos.csv\n",
            "✅ Archivo Excel con formato guardado en: /content/drive/My Drive/Archivos Fuentes/RESULTADO_SOUL_MATRIZ/df_combinado_facturacion_recaudos_matriz_formato_datos.xlsx\n"
          ]
        }
      ],
      "source": [
        "import pandas as pd\n",
        "import openpyxl\n",
        "from openpyxl.styles import Alignment, numbers\n",
        "\n",
        "# 🔹 Ruta del archivo CSV con columnas renombradas\n",
        "ruta_csv_renombrado = \"/content/drive/My Drive/Archivos Fuentes/RESULTADO_SOUL_MATRIZ/df_combinado_facturacion_recaudos_matriz_renombrado.csv\"\n",
        "\n",
        "# 🔹 Cargar el archivo renombrado\n",
        "df_combinado_facturacion_recaudos_matriz_renombrado = pd.read_csv(ruta_csv_renombrado)\n",
        "\n",
        "# 🔹 Excluir las columnas no deseadas\n",
        "columnas_excluir = [\"TASA DE RECAUDO (%)\", \"ÍNDICE DE LIQUIDEZ\"]\n",
        "df_combinado_facturacion_recaudos_matriz_renombrado = df_combinado_facturacion_recaudos_matriz_renombrado.drop(columns=columnas_excluir, errors=\"ignore\")\n",
        "\n",
        "# 🔹 Aplicar formato de moneda en los valores numéricos\n",
        "def aplicar_formato_moneda(valor):\n",
        "    if isinstance(valor, (int, float)):\n",
        "        return f\"${valor:,.2f}\"  # Agrega $ y mantiene el formato numérico\n",
        "    return valor\n",
        "\n",
        "# 🔹 Identificar columnas numéricas para aplicar formato\n",
        "columnas_monetarias = [\n",
        "    'VALOR APORTE DE LA ENTIDAD', 'VALOR APORTE FONPACIFICO',\n",
        "    'VALOR FACTURACION', 'VALOR EN SALDO', 'VALOR DE ABONOS',\n",
        "    'VALOR CONSIGNADO', 'VALOR DEDUCCIONES'\n",
        "]\n",
        "\n",
        "# 🔹 Aplicar formato a las columnas numéricas\n",
        "df_combinado_facturacion_recaudos_matriz_formato_datos = df_combinado_facturacion_recaudos_matriz_renombrado.copy()\n",
        "for columna in columnas_monetarias:\n",
        "    if columna in df_combinado_facturacion_recaudos_matriz_formato_datos.columns:\n",
        "        df_combinado_facturacion_recaudos_matriz_formato_datos[columna] = df_combinado_facturacion_recaudos_matriz_formato_datos[columna].apply(aplicar_formato_moneda)\n",
        "\n",
        "# 🔹 Ruta donde se guardará el archivo CSV formateado\n",
        "ruta_guardado_formato_csv = \"/content/drive/My Drive/Archivos Fuentes/RESULTADO_SOUL_MATRIZ/df_combinado_facturacion_recaudos_matriz_formato_datos.csv\"\n",
        "\n",
        "# 🔹 Guardar en CSV con el formato aplicado\n",
        "df_combinado_facturacion_recaudos_matriz_formato_datos.to_csv(ruta_guardado_formato_csv, index=False, encoding=\"utf-8\")\n",
        "\n",
        "# 🔹 Ruta donde se guardará el archivo Excel con formato\n",
        "ruta_guardado_formato_excel = \"/content/drive/My Drive/Archivos Fuentes/RESULTADO_SOUL_MATRIZ/df_combinado_facturacion_recaudos_matriz_formato_datos.xlsx\"\n",
        "\n",
        "# 🔹 Guardar en Excel con formato numérico y alineación a la derecha\n",
        "with pd.ExcelWriter(ruta_guardado_formato_excel, engine=\"openpyxl\") as writer:\n",
        "    df_combinado_facturacion_recaudos_matriz_formato_datos.to_excel(writer, index=False, sheet_name=\"Datos Formateados\")\n",
        "\n",
        "    # 🔹 Obtener la hoja de cálculo activa\n",
        "    workbook = writer.book\n",
        "    sheet = writer.sheets[\"Datos Formateados\"]\n",
        "\n",
        "    # 🔹 Aplicar formato numérico con símbolo $ y alineación a la derecha\n",
        "    formato_moneda = numbers.FORMAT_CURRENCY_USD_SIMPLE  # Formato de moneda en Excel\n",
        "    for row in sheet.iter_rows(min_row=2, max_row=sheet.max_row, min_col=1, max_col=sheet.max_column):\n",
        "        for cell in row:\n",
        "            if isinstance(cell.value, (int, float)):  # Solo aplicar formato a valores numéricos\n",
        "                cell.number_format = formato_moneda  # Formato moneda con $\n",
        "                cell.alignment = Alignment(horizontal=\"right\")  # Alinear a la derecha\n",
        "\n",
        "# 🔹 Verificar los resultados\n",
        "print(f\"✅ Archivo CSV con formato guardado en: {ruta_guardado_formato_csv}\")\n",
        "print(f\"✅ Archivo Excel con formato guardado en: {ruta_guardado_formato_excel}\")"
      ]
    },
    {
      "cell_type": "markdown",
      "metadata": {
        "id": "PKLBYdFsvpq5"
      },
      "source": [
        "### Calculos"
      ]
    },
    {
      "cell_type": "code",
      "execution_count": null,
      "metadata": {
        "colab": {
          "base_uri": "https://localhost:8080/"
        },
        "collapsed": true,
        "id": "nzfou5dIvsTJ",
        "outputId": "7788b157-978e-4431-9c96-406a02fc18fa"
      },
      "outputs": [
        {
          "name": "stdout",
          "output_type": "stream",
          "text": [
            "✅ Archivo resumen mensual en CSV guardado en: /content/drive/My Drive/Archivos Fuentes/RESULTADO_SOUL_MATRIZ/resumen_mensual_facturacion.csv\n",
            "✅ Archivo resumen mensual en Excel guardado en: /content/drive/My Drive/Archivos Fuentes/RESULTADO_SOUL_MATRIZ/resumen_mensual_facturacion.xlsx\n"
          ]
        },
        {
          "name": "stderr",
          "output_type": "stream",
          "text": [
            "<ipython-input-282-30698be26acf>:2: UserWarning: Could not infer format, so each element will be parsed individually, falling back to `dateutil`. To ensure parsing is consistent and as-expected, please specify a format.\n",
            "  df_combinado_facturacion_recaudos_matriz_renombrado[\"MES\"] = pd.to_datetime(df_combinado_facturacion_recaudos_matriz_renombrado[\"FECHA FACTURACION\"]).dt.strftime(\"%Y-%m\")\n"
          ]
        }
      ],
      "source": [
        "# Convertir la columna de fecha a tipo datetime si es necesario (ajustar el nombre de la columna si es diferente)\n",
        "df_combinado_facturacion_recaudos_matriz_renombrado[\"MES\"] = pd.to_datetime(df_combinado_facturacion_recaudos_matriz_renombrado[\"FECHA FACTURACION\"]).dt.strftime(\"%Y-%m\")\n",
        "\n",
        "# Agrupar por mes y calcular los totales\n",
        "df_resumen_mensual = df_combinado_facturacion_recaudos_matriz_renombrado.groupby(\"MES\").agg(\n",
        "    TOTAL_FACTURADO=(\"VALOR FACTURACION\", \"sum\"),\n",
        "    TOTAL_RECAUDADO=(\"VALOR CONSIGNADO\", \"sum\"),\n",
        "    SALDO_PENDIENTE=(\"VALOR EN SALDO\", \"sum\")\n",
        ").reset_index()\n",
        "\n",
        "# Aplicar formato de moneda a los valores\n",
        "for columna in [\"TOTAL_FACTURADO\", \"TOTAL_RECAUDADO\", \"SALDO_PENDIENTE\"]:\n",
        "    df_resumen_mensual[columna] = df_resumen_mensual[columna].apply(aplicar_formato_moneda)\n",
        "\n",
        "# Guardar la tabla resumen en un nuevo archivo CSV y Excel\n",
        "ruta_resumen_csv = \"/content/drive/My Drive/Archivos Fuentes/RESULTADO_SOUL_MATRIZ/resumen_mensual_facturacion.csv\"\n",
        "ruta_resumen_excel = \"/content/drive/My Drive/Archivos Fuentes/RESULTADO_SOUL_MATRIZ/resumen_mensual_facturacion.xlsx\"\n",
        "\n",
        "df_resumen_mensual.to_csv(ruta_resumen_csv, index=False, encoding=\"utf-8\")\n",
        "\n",
        "# Guardar en Excel con formato\n",
        "with pd.ExcelWriter(ruta_resumen_excel, engine=\"openpyxl\") as writer:\n",
        "    df_resumen_mensual.to_excel(writer, index=False, sheet_name=\"Resumen Mensual\")\n",
        "\n",
        "    # Aplicar formato numérico con símbolo $ y alineación a la derecha\n",
        "    workbook = writer.book\n",
        "    sheet = writer.sheets[\"Resumen Mensual\"]\n",
        "    formato_moneda = numbers.FORMAT_CURRENCY_USD_SIMPLE\n",
        "\n",
        "    for row in sheet.iter_rows(min_row=2, max_row=sheet.max_row, min_col=2, max_col=4):\n",
        "        for cell in row:\n",
        "            if isinstance(cell.value, (int, float)):\n",
        "                cell.number_format = formato_moneda\n",
        "                cell.alignment = Alignment(horizontal=\"right\")\n",
        "\n",
        "print(f\"✅ Archivo resumen mensual en CSV guardado en: {ruta_resumen_csv}\")\n",
        "print(f\"✅ Archivo resumen mensual en Excel guardado en: {ruta_resumen_excel}\")\n",
        "\n"
      ]
    },
    {
      "cell_type": "markdown",
      "metadata": {
        "id": "YRLLkzYTt1Mr"
      },
      "source": [
        "### Validaciones"
      ]
    },
    {
      "cell_type": "code",
      "execution_count": null,
      "metadata": {
        "colab": {
          "base_uri": "https://localhost:8080/",
          "height": 206
        },
        "id": "HjEIR5A7UPv7",
        "outputId": "f1a8bf04-44d7-4323-a116-023130fae4bd"
      },
      "outputs": [
        {
          "data": {
            "application/vnd.google.colaboratory.intrinsic+json": {
              "summary": "{\n  \"name\": \"df_resumen\",\n  \"rows\": 9,\n  \"fields\": [\n    {\n      \"column\": \"MES\",\n      \"properties\": {\n        \"dtype\": \"object\",\n        \"num_unique_values\": 9,\n        \"samples\": [\n          \"2024-11\",\n          \"2024-04\",\n          \"2024-09\"\n        ],\n        \"semantic_type\": \"\",\n        \"description\": \"\"\n      }\n    },\n    {\n      \"column\": \"TOTAL_FACTURADO\",\n      \"properties\": {\n        \"dtype\": \"string\",\n        \"num_unique_values\": 9,\n        \"samples\": [\n          \"$2,958,551.50\",\n          \"$61,024,699.90\",\n          \"$24,657,383.25\"\n        ],\n        \"semantic_type\": \"\",\n        \"description\": \"\"\n      }\n    },\n    {\n      \"column\": \"TOTAL_RECAUDADO\",\n      \"properties\": {\n        \"dtype\": \"string\",\n        \"num_unique_values\": 9,\n        \"samples\": [\n          \"$2,958,551.50\",\n          \"$61,024,699.00\",\n          \"$24,657,383.00\"\n        ],\n        \"semantic_type\": \"\",\n        \"description\": \"\"\n      }\n    },\n    {\n      \"column\": \"SALDO_PENDIENTE\",\n      \"properties\": {\n        \"dtype\": \"category\",\n        \"num_unique_values\": 2,\n        \"samples\": [\n          \"$40,170,455.50\",\n          \"$0.00\"\n        ],\n        \"semantic_type\": \"\",\n        \"description\": \"\"\n      }\n    }\n  ]\n}",
              "type": "dataframe",
              "variable_name": "df_resumen"
            },
            "text/html": [
              "\n",
              "  <div id=\"df-2e2e334d-cb81-4bab-b224-a382bec97176\" class=\"colab-df-container\">\n",
              "    <div>\n",
              "<style scoped>\n",
              "    .dataframe tbody tr th:only-of-type {\n",
              "        vertical-align: middle;\n",
              "    }\n",
              "\n",
              "    .dataframe tbody tr th {\n",
              "        vertical-align: top;\n",
              "    }\n",
              "\n",
              "    .dataframe thead th {\n",
              "        text-align: right;\n",
              "    }\n",
              "</style>\n",
              "<table border=\"1\" class=\"dataframe\">\n",
              "  <thead>\n",
              "    <tr style=\"text-align: right;\">\n",
              "      <th></th>\n",
              "      <th>MES</th>\n",
              "      <th>TOTAL_FACTURADO</th>\n",
              "      <th>TOTAL_RECAUDADO</th>\n",
              "      <th>SALDO_PENDIENTE</th>\n",
              "    </tr>\n",
              "  </thead>\n",
              "  <tbody>\n",
              "    <tr>\n",
              "      <th>0</th>\n",
              "      <td>2024-01</td>\n",
              "      <td>$524,300.93</td>\n",
              "      <td>$524,300.93</td>\n",
              "      <td>$0.00</td>\n",
              "    </tr>\n",
              "    <tr>\n",
              "      <th>1</th>\n",
              "      <td>2024-04</td>\n",
              "      <td>$61,024,699.90</td>\n",
              "      <td>$61,024,699.00</td>\n",
              "      <td>$0.00</td>\n",
              "    </tr>\n",
              "    <tr>\n",
              "      <th>2</th>\n",
              "      <td>2024-06</td>\n",
              "      <td>$57,335,714.33</td>\n",
              "      <td>$57,335,714.33</td>\n",
              "      <td>$0.00</td>\n",
              "    </tr>\n",
              "    <tr>\n",
              "      <th>3</th>\n",
              "      <td>2024-07</td>\n",
              "      <td>$7,084,819.00</td>\n",
              "      <td>$5,984,819.00</td>\n",
              "      <td>$0.00</td>\n",
              "    </tr>\n",
              "    <tr>\n",
              "      <th>4</th>\n",
              "      <td>2024-08</td>\n",
              "      <td>$104,651,450.76</td>\n",
              "      <td>$63,631,462.70</td>\n",
              "      <td>$40,170,455.50</td>\n",
              "    </tr>\n",
              "  </tbody>\n",
              "</table>\n",
              "</div>\n",
              "    <div class=\"colab-df-buttons\">\n",
              "\n",
              "  <div class=\"colab-df-container\">\n",
              "    <button class=\"colab-df-convert\" onclick=\"convertToInteractive('df-2e2e334d-cb81-4bab-b224-a382bec97176')\"\n",
              "            title=\"Convert this dataframe to an interactive table.\"\n",
              "            style=\"display:none;\">\n",
              "\n",
              "  <svg xmlns=\"http://www.w3.org/2000/svg\" height=\"24px\" viewBox=\"0 -960 960 960\">\n",
              "    <path d=\"M120-120v-720h720v720H120Zm60-500h600v-160H180v160Zm220 220h160v-160H400v160Zm0 220h160v-160H400v160ZM180-400h160v-160H180v160Zm440 0h160v-160H620v160ZM180-180h160v-160H180v160Zm440 0h160v-160H620v160Z\"/>\n",
              "  </svg>\n",
              "    </button>\n",
              "\n",
              "  <style>\n",
              "    .colab-df-container {\n",
              "      display:flex;\n",
              "      gap: 12px;\n",
              "    }\n",
              "\n",
              "    .colab-df-convert {\n",
              "      background-color: #E8F0FE;\n",
              "      border: none;\n",
              "      border-radius: 50%;\n",
              "      cursor: pointer;\n",
              "      display: none;\n",
              "      fill: #1967D2;\n",
              "      height: 32px;\n",
              "      padding: 0 0 0 0;\n",
              "      width: 32px;\n",
              "    }\n",
              "\n",
              "    .colab-df-convert:hover {\n",
              "      background-color: #E2EBFA;\n",
              "      box-shadow: 0px 1px 2px rgba(60, 64, 67, 0.3), 0px 1px 3px 1px rgba(60, 64, 67, 0.15);\n",
              "      fill: #174EA6;\n",
              "    }\n",
              "\n",
              "    .colab-df-buttons div {\n",
              "      margin-bottom: 4px;\n",
              "    }\n",
              "\n",
              "    [theme=dark] .colab-df-convert {\n",
              "      background-color: #3B4455;\n",
              "      fill: #D2E3FC;\n",
              "    }\n",
              "\n",
              "    [theme=dark] .colab-df-convert:hover {\n",
              "      background-color: #434B5C;\n",
              "      box-shadow: 0px 1px 3px 1px rgba(0, 0, 0, 0.15);\n",
              "      filter: drop-shadow(0px 1px 2px rgba(0, 0, 0, 0.3));\n",
              "      fill: #FFFFFF;\n",
              "    }\n",
              "  </style>\n",
              "\n",
              "    <script>\n",
              "      const buttonEl =\n",
              "        document.querySelector('#df-2e2e334d-cb81-4bab-b224-a382bec97176 button.colab-df-convert');\n",
              "      buttonEl.style.display =\n",
              "        google.colab.kernel.accessAllowed ? 'block' : 'none';\n",
              "\n",
              "      async function convertToInteractive(key) {\n",
              "        const element = document.querySelector('#df-2e2e334d-cb81-4bab-b224-a382bec97176');\n",
              "        const dataTable =\n",
              "          await google.colab.kernel.invokeFunction('convertToInteractive',\n",
              "                                                    [key], {});\n",
              "        if (!dataTable) return;\n",
              "\n",
              "        const docLinkHtml = 'Like what you see? Visit the ' +\n",
              "          '<a target=\"_blank\" href=https://colab.research.google.com/notebooks/data_table.ipynb>data table notebook</a>'\n",
              "          + ' to learn more about interactive tables.';\n",
              "        element.innerHTML = '';\n",
              "        dataTable['output_type'] = 'display_data';\n",
              "        await google.colab.output.renderOutput(dataTable, element);\n",
              "        const docLink = document.createElement('div');\n",
              "        docLink.innerHTML = docLinkHtml;\n",
              "        element.appendChild(docLink);\n",
              "      }\n",
              "    </script>\n",
              "  </div>\n",
              "\n",
              "\n",
              "<div id=\"df-fc66770c-42e2-42b7-b30a-eb764f5ed796\">\n",
              "  <button class=\"colab-df-quickchart\" onclick=\"quickchart('df-fc66770c-42e2-42b7-b30a-eb764f5ed796')\"\n",
              "            title=\"Suggest charts\"\n",
              "            style=\"display:none;\">\n",
              "\n",
              "<svg xmlns=\"http://www.w3.org/2000/svg\" height=\"24px\"viewBox=\"0 0 24 24\"\n",
              "     width=\"24px\">\n",
              "    <g>\n",
              "        <path d=\"M19 3H5c-1.1 0-2 .9-2 2v14c0 1.1.9 2 2 2h14c1.1 0 2-.9 2-2V5c0-1.1-.9-2-2-2zM9 17H7v-7h2v7zm4 0h-2V7h2v10zm4 0h-2v-4h2v4z\"/>\n",
              "    </g>\n",
              "</svg>\n",
              "  </button>\n",
              "\n",
              "<style>\n",
              "  .colab-df-quickchart {\n",
              "      --bg-color: #E8F0FE;\n",
              "      --fill-color: #1967D2;\n",
              "      --hover-bg-color: #E2EBFA;\n",
              "      --hover-fill-color: #174EA6;\n",
              "      --disabled-fill-color: #AAA;\n",
              "      --disabled-bg-color: #DDD;\n",
              "  }\n",
              "\n",
              "  [theme=dark] .colab-df-quickchart {\n",
              "      --bg-color: #3B4455;\n",
              "      --fill-color: #D2E3FC;\n",
              "      --hover-bg-color: #434B5C;\n",
              "      --hover-fill-color: #FFFFFF;\n",
              "      --disabled-bg-color: #3B4455;\n",
              "      --disabled-fill-color: #666;\n",
              "  }\n",
              "\n",
              "  .colab-df-quickchart {\n",
              "    background-color: var(--bg-color);\n",
              "    border: none;\n",
              "    border-radius: 50%;\n",
              "    cursor: pointer;\n",
              "    display: none;\n",
              "    fill: var(--fill-color);\n",
              "    height: 32px;\n",
              "    padding: 0;\n",
              "    width: 32px;\n",
              "  }\n",
              "\n",
              "  .colab-df-quickchart:hover {\n",
              "    background-color: var(--hover-bg-color);\n",
              "    box-shadow: 0 1px 2px rgba(60, 64, 67, 0.3), 0 1px 3px 1px rgba(60, 64, 67, 0.15);\n",
              "    fill: var(--button-hover-fill-color);\n",
              "  }\n",
              "\n",
              "  .colab-df-quickchart-complete:disabled,\n",
              "  .colab-df-quickchart-complete:disabled:hover {\n",
              "    background-color: var(--disabled-bg-color);\n",
              "    fill: var(--disabled-fill-color);\n",
              "    box-shadow: none;\n",
              "  }\n",
              "\n",
              "  .colab-df-spinner {\n",
              "    border: 2px solid var(--fill-color);\n",
              "    border-color: transparent;\n",
              "    border-bottom-color: var(--fill-color);\n",
              "    animation:\n",
              "      spin 1s steps(1) infinite;\n",
              "  }\n",
              "\n",
              "  @keyframes spin {\n",
              "    0% {\n",
              "      border-color: transparent;\n",
              "      border-bottom-color: var(--fill-color);\n",
              "      border-left-color: var(--fill-color);\n",
              "    }\n",
              "    20% {\n",
              "      border-color: transparent;\n",
              "      border-left-color: var(--fill-color);\n",
              "      border-top-color: var(--fill-color);\n",
              "    }\n",
              "    30% {\n",
              "      border-color: transparent;\n",
              "      border-left-color: var(--fill-color);\n",
              "      border-top-color: var(--fill-color);\n",
              "      border-right-color: var(--fill-color);\n",
              "    }\n",
              "    40% {\n",
              "      border-color: transparent;\n",
              "      border-right-color: var(--fill-color);\n",
              "      border-top-color: var(--fill-color);\n",
              "    }\n",
              "    60% {\n",
              "      border-color: transparent;\n",
              "      border-right-color: var(--fill-color);\n",
              "    }\n",
              "    80% {\n",
              "      border-color: transparent;\n",
              "      border-right-color: var(--fill-color);\n",
              "      border-bottom-color: var(--fill-color);\n",
              "    }\n",
              "    90% {\n",
              "      border-color: transparent;\n",
              "      border-bottom-color: var(--fill-color);\n",
              "    }\n",
              "  }\n",
              "</style>\n",
              "\n",
              "  <script>\n",
              "    async function quickchart(key) {\n",
              "      const quickchartButtonEl =\n",
              "        document.querySelector('#' + key + ' button');\n",
              "      quickchartButtonEl.disabled = true;  // To prevent multiple clicks.\n",
              "      quickchartButtonEl.classList.add('colab-df-spinner');\n",
              "      try {\n",
              "        const charts = await google.colab.kernel.invokeFunction(\n",
              "            'suggestCharts', [key], {});\n",
              "      } catch (error) {\n",
              "        console.error('Error during call to suggestCharts:', error);\n",
              "      }\n",
              "      quickchartButtonEl.classList.remove('colab-df-spinner');\n",
              "      quickchartButtonEl.classList.add('colab-df-quickchart-complete');\n",
              "    }\n",
              "    (() => {\n",
              "      let quickchartButtonEl =\n",
              "        document.querySelector('#df-fc66770c-42e2-42b7-b30a-eb764f5ed796 button');\n",
              "      quickchartButtonEl.style.display =\n",
              "        google.colab.kernel.accessAllowed ? 'block' : 'none';\n",
              "    })();\n",
              "  </script>\n",
              "</div>\n",
              "\n",
              "    </div>\n",
              "  </div>\n"
            ],
            "text/plain": [
              "       MES  TOTAL_FACTURADO TOTAL_RECAUDADO SALDO_PENDIENTE\n",
              "0  2024-01      $524,300.93     $524,300.93           $0.00\n",
              "1  2024-04   $61,024,699.90  $61,024,699.00           $0.00\n",
              "2  2024-06   $57,335,714.33  $57,335,714.33           $0.00\n",
              "3  2024-07    $7,084,819.00   $5,984,819.00           $0.00\n",
              "4  2024-08  $104,651,450.76  $63,631,462.70  $40,170,455.50"
            ]
          },
          "execution_count": 283,
          "metadata": {},
          "output_type": "execute_result"
        }
      ],
      "source": [
        "import pandas as pd\n",
        "\n",
        "# Ruta del archivo generado\n",
        "ruta_resumen_csv = \"/content/drive/My Drive/Archivos Fuentes/RESULTADO_SOUL_MATRIZ/resumen_mensual_facturacion.csv\"\n",
        "\n",
        "# Cargar el archivo en un DataFrame\n",
        "df_resumen = pd.read_csv(ruta_resumen_csv)\n",
        "\n",
        "# Mostrar las primeras filas\n",
        "df_resumen.head()"
      ]
    },
    {
      "cell_type": "markdown",
      "metadata": {
        "id": "CVnFkXUeUTjz"
      },
      "source": [
        "### Validar integridad de los datos"
      ]
    },
    {
      "cell_type": "code",
      "execution_count": null,
      "metadata": {
        "colab": {
          "base_uri": "https://localhost:8080/"
        },
        "id": "0y5gIGaIUWZS",
        "outputId": "89c1bb0a-7a64-46eb-b786-52860f5db999"
      },
      "outputs": [
        {
          "name": "stdout",
          "output_type": "stream",
          "text": [
            "Valores nulos por columna:\n",
            "MES                0\n",
            "TOTAL_FACTURADO    0\n",
            "TOTAL_RECAUDADO    0\n",
            "SALDO_PENDIENTE    0\n",
            "dtype: int64\n",
            "\n",
            "Tipos de datos de cada columna:\n",
            "MES                object\n",
            "TOTAL_FACTURADO    object\n",
            "TOTAL_RECAUDADO    object\n",
            "SALDO_PENDIENTE    object\n",
            "dtype: object\n"
          ]
        }
      ],
      "source": [
        "# Verificar si hay valores nulos\n",
        "print(\"Valores nulos por columna:\")\n",
        "print(df_resumen.isnull().sum())\n",
        "\n",
        "# Verificar el tipo de datos de cada columna\n",
        "print(\"\\nTipos de datos de cada columna:\")\n",
        "print(df_resumen.dtypes)"
      ]
    },
    {
      "cell_type": "markdown",
      "metadata": {
        "id": "Iy1Aa8yIUbWi"
      },
      "source": [
        "### Revisar conversión de fechas"
      ]
    },
    {
      "cell_type": "code",
      "execution_count": null,
      "metadata": {
        "colab": {
          "base_uri": "https://localhost:8080/"
        },
        "id": "eLCbSXdFUcvB",
        "outputId": "da7c6c24-247d-450c-adcd-22bbfae006c3"
      },
      "outputs": [
        {
          "name": "stdout",
          "output_type": "stream",
          "text": [
            "Valores únicos en la columna MES:\n",
            "['2024-01' '2024-04' '2024-06' '2024-07' '2024-08' '2024-09' '2024-10'\n",
            " '2024-11' '2024-12']\n"
          ]
        }
      ],
      "source": [
        "# Revisar los valores únicos en la columna MES\n",
        "print(\"Valores únicos en la columna MES:\")\n",
        "print(df_resumen[\"MES\"].unique())"
      ]
    },
    {
      "cell_type": "markdown",
      "metadata": {
        "id": "H5V1z094UfU8"
      },
      "source": [
        "### Validar cálculos agregados"
      ]
    },
    {
      "cell_type": "code",
      "execution_count": null,
      "metadata": {
        "colab": {
          "base_uri": "https://localhost:8080/"
        },
        "id": "M63egElaUl4y",
        "outputId": "ee0bf2f8-0e29-48e1-c06e-12b89ffa3ab1"
      },
      "outputs": [
        {
          "name": "stdout",
          "output_type": "stream",
          "text": [
            "Suma de valores en el resumen mensual:\n",
            "TOTAL_FACTURADO    $524,300.93$61,024,699.90$57,335,714.33$7,084,...\n",
            "TOTAL_RECAUDADO    $524,300.93$61,024,699.00$57,335,714.33$5,984,...\n",
            "SALDO_PENDIENTE    $0.00$0.00$0.00$0.00$40,170,455.50$0.00$0.00$0...\n",
            "dtype: object\n",
            "\n",
            "Suma de valores en el dataset original:\n",
            "VALOR FACTURACION    3.017588e+08\n",
            "VALOR CONSIGNADO     2.581759e+08\n",
            "VALOR EN SALDO       4.017046e+07\n",
            "dtype: float64\n"
          ]
        }
      ],
      "source": [
        "# Recalcular la suma total de cada columna y compararla con los datos originales\n",
        "print(\"Suma de valores en el resumen mensual:\")\n",
        "print(df_resumen[[\"TOTAL_FACTURADO\", \"TOTAL_RECAUDADO\", \"SALDO_PENDIENTE\"]].sum())\n",
        "\n",
        "# Opcional: comparar con la base de datos original\n",
        "ruta_original_csv = \"/content/drive/My Drive/Archivos Fuentes/RESULTADO_SOUL_MATRIZ/df_combinado_facturacion_recaudos_matriz_renombrado.csv\"\n",
        "df_original = pd.read_csv(ruta_original_csv)\n",
        "\n",
        "# Verificar que la suma total sea la misma en el dataset original\n",
        "print(\"\\nSuma de valores en el dataset original:\")\n",
        "print(df_original[[\"VALOR FACTURACION\", \"VALOR CONSIGNADO\", \"VALOR EN SALDO\"]].sum())"
      ]
    },
    {
      "cell_type": "markdown",
      "metadata": {
        "id": "kEYLJ746UvPr"
      },
      "source": [
        "###  Validar formato de moneda"
      ]
    },
    {
      "cell_type": "code",
      "execution_count": null,
      "metadata": {
        "colab": {
          "base_uri": "https://localhost:8080/"
        },
        "id": "sGntGNm0UyLS",
        "outputId": "16b21039-4b3b-4439-ade6-31eb9356a0fc"
      },
      "outputs": [
        {
          "name": "stdout",
          "output_type": "stream",
          "text": [
            "MES                 object\n",
            "TOTAL_FACTURADO    float64\n",
            "TOTAL_RECAUDADO    float64\n",
            "SALDO_PENDIENTE    float64\n",
            "dtype: object\n"
          ]
        }
      ],
      "source": [
        "# Función para eliminar el formato de moneda y convertir a número\n",
        "def limpiar_moneda(valor):\n",
        "    if isinstance(valor, str):\n",
        "        return float(valor.replace(\"$\", \"\").replace(\",\", \"\"))\n",
        "    return valor\n",
        "\n",
        "# Aplicar la conversión\n",
        "for columna in [\"TOTAL_FACTURADO\", \"TOTAL_RECAUDADO\", \"SALDO_PENDIENTE\"]:\n",
        "    df_resumen[columna] = df_resumen[columna].apply(limpiar_moneda)\n",
        "\n",
        "# Verificar que ahora sean valores numéricos\n",
        "print(df_resumen.dtypes)"
      ]
    }
  ],
  "metadata": {
    "colab": {
      "provenance": []
    },
    "kernelspec": {
      "display_name": "Python 3",
      "name": "python3"
    },
    "language_info": {
      "name": "python"
    }
  },
  "nbformat": 4,
  "nbformat_minor": 0
}
